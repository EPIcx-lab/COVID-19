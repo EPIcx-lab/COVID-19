{
 "cells": [
  {
   "cell_type": "code",
   "execution_count": 1,
   "metadata": {},
   "outputs": [],
   "source": [
    "import numpy as np\n",
    "import pandas as pd\n",
    "import matplotlib.pyplot as plt\n",
    "import seaborn as sns\n",
    "import random\n",
    "import math\n",
    "import statistics\n",
    "\n",
    "import scipy\n",
    "import scipy.stats as stats\n",
    "from scipy.stats import binom, poisson, gamma\n",
    "from scipy.optimize import curve_fit, fsolve\n",
    "\n",
    "import statsmodels.api as sm\n",
    "from matplotlib import rcParams\n",
    "import zipfile\n",
    "\n"
   ]
  },
  {
   "cell_type": "code",
   "execution_count": 2,
   "metadata": {},
   "outputs": [],
   "source": [
    "cm = 1/2.54\n",
    "fs = 11\n",
    "flf = 10*cm\n",
    "fhf = 10*cm\n",
    "plt.rc('axes', labelsize=fs, titlesize=fs)\n",
    "plt.rc('xtick', labelsize=fs)\n",
    "plt.rc('ytick', labelsize=fs)\n",
    "plt.rc('legend', fontsize=fs)\n",
    "plt.rc('figure', figsize=(flf,fhf))\n",
    "plt.rcParams['legend.title_fontsize'] = fs\n",
    "plt.rcParams[\"legend.labelspacing\"] = 0.25\n",
    "rcParams['font.family'] = 'sans-serif'\n",
    "rcParams['font.sans-serif'] = ['DejaVu Sans']\n",
    "\n",
    "riso=1000"
   ]
  },
  {
   "cell_type": "markdown",
   "metadata": {},
   "source": [
    "## Functions"
   ]
  },
  {
   "cell_type": "code",
   "execution_count": 3,
   "metadata": {},
   "outputs": [],
   "source": [
    "def bootstrap_ci(x0, repetitions = 1000, alpha = 0.05, fun=np.median):\n",
    "    \n",
    "    import numpy.random as nprm\n",
    "    \n",
    "    '''\n",
    "    Compute the bootstrap confidence interval for a given statistic (median)\n",
    "\n",
    "    Parameters:\n",
    "        x0 (array-like): Input data.\n",
    "        repetitions (int): Number of bootstrap samples (default 1000).\n",
    "        alpha (float): Significance level (default 0.05 for 95% CI).\n",
    "        fun (callable): Statistic function to apply (default np.median).\n",
    "\n",
    "        \n",
    "    Returns:\n",
    "        lower_bound, upper_bound, bootstrap_statistics_array\n",
    "    '''\n",
    "    x1 = np.array(x0)\n",
    "    bootstrap_sample_size = x1.size\n",
    "\n",
    "    x_ci = np.zeros(repetitions)\n",
    "    for i in range(repetitions):\n",
    "        x = nprm.choice(x1, size=bootstrap_sample_size, replace=True)\n",
    "        x_ci[i] = fun(x)\n",
    "     \n",
    " \n",
    "    left = np.percentile(x_ci, (alpha/2)*100)\n",
    "    right = np.percentile(x_ci, (100-((alpha/2)*100)))\n",
    "    \n",
    "\n",
    "    \n",
    "    return left, right, x_ci"
   ]
  },
  {
   "cell_type": "code",
   "execution_count": 4,
   "metadata": {},
   "outputs": [],
   "source": [
    "def compute_error(num_pos, num_tested, z_score=1.96):\n",
    "    \"\"\"\n",
    "    Compute the confidence interval for a proportion using a normal approximation.\n",
    "\n",
    "    Parameters:\n",
    "        num_pos (int): Number of positive outcomes.\n",
    "        num_tested (int): Total number of trials.\n",
    "        z_score (float): Z-score for desired confidence level (default 1.96 for ~95%).\n",
    "\n",
    "    Returns:\n",
    "        tuple: (lower_bound, upper_bound)\n",
    "    \"\"\"\n",
    "    p = num_pos / num_tested\n",
    "    error = z_score * math.sqrt((p *(1-p))/num_tested)\n",
    "    LB = p - error\n",
    "    UB = p + error\n",
    "    return LB, UB"
   ]
  },
  {
   "cell_type": "markdown",
   "metadata": {},
   "source": [
    "## Parameters"
   ]
  },
  {
   "cell_type": "code",
   "execution_count": 5,
   "metadata": {},
   "outputs": [],
   "source": [
    "nsim = 2000\n",
    "cod = [10001, 11010]\n",
    "ims = 0.35\n",
    "imt = 0.55\n",
    "vxs = 0.0\n",
    "vxt = 0.9\n",
    "rbs = 0.35\n",
    "rbt = 0.55\n",
    "rbcs = 0.63\n",
    "rbct = 1.00\n",
    "sgs = 0.5\n",
    "sgt = 1.0\n",
    "pss = 0.80\n",
    "pst = 0.5\n",
    "pds = 0.3\n",
    "pdt = 0.5\n",
    "t = 1440\n",
    "d = 7\n",
    "#adh= 0.67\n",
    "ntimes=[0,1]\n",
    "nweeks=[0,1]\n",
    "\n",
    "bw_val = 0.2\n",
    "\n",
    "beta_mle = 0.0153\n",
    "\n",
    "nnodes=232\n",
    "model = {}\n",
    "final_day=42"
   ]
  },
  {
   "cell_type": "markdown",
   "metadata": {},
   "source": [
    "## Read data"
   ]
  },
  {
   "cell_type": "code",
   "execution_count": 6,
   "metadata": {},
   "outputs": [],
   "source": [
    "# Read observed data\n",
    "departments = ['Isere', 'Puy', 'Rhone', 'Savoie']\n",
    "\n",
    "# Load total tests\n",
    "with zipfile.ZipFile('data_in.zip') as z:\n",
    "    with z.open('data_in/regular_tests_deps_w01-06.csv') as f:\n",
    "        dfScreen_test = pd.read_csv(f, sep=';')\n",
    "dfScreen_test['dep'] = departments\n",
    "\n",
    "# Load positive tests\n",
    "with zipfile.ZipFile('data_in.zip') as z:\n",
    "    with z.open('data_in/regular_positive_deps_w01-06.csv') as f:\n",
    "        dfScreen_pos = pd.read_csv(f, sep=';')\n",
    "dfScreen_pos['dep'] = departments\n",
    "\n",
    "weeks = ['W01', 'W02', 'W03', 'W04', 'W05', 'W06']\n",
    "dfScreen_preva = pd.DataFrame(columns=['departments', 'W01', 'W02', 'W03', 'W04', 'W05', 'W06', 'dep'])\n",
    "\n",
    "\n",
    "dfScreen_preva['departments'] = dfScreen_pos['departments'].values\n",
    "dfScreen_preva['dep'] = dfScreen_pos['dep'].values\n",
    "\n",
    "# Compute the prevalence for each week and store it in the corresponding column\n",
    "for week in weeks:\n",
    "    dfScreen_preva[week] = (dfScreen_pos[week] / dfScreen_test[week]) * 100\n"
   ]
  },
  {
   "cell_type": "code",
   "execution_count": 7,
   "metadata": {},
   "outputs": [],
   "source": [
    "## Read test sensitivity\n",
    "with zipfile.ZipFile('data_in.zip') as z:\n",
    "    with z.open('data_in/sensitivity-PCR.csv') as f:\n",
    "        df = pd.read_csv(f)\n",
    "dfSensitivity = df.copy()\n",
    "\n",
    "theta_p = dfSensitivity[dfSensitivity['compartment']=='Ip'].PCR_symp_child.tolist()\n",
    "theta_c = dfSensitivity[dfSensitivity['compartment']=='Ic'].PCR_symp_child.tolist()\n",
    "theta_s = dfSensitivity[dfSensitivity['compartment']=='Ic'].PCR_asymp_child.tolist()\n",
    "theta_r = dfSensitivity[dfSensitivity['compartment']=='Rp'].PCR_asymp_child.tolist()\n",
    "\n",
    "#print('theta_p : ', theta_p)\n",
    "#print('theta_c : ', theta_c)\n",
    "#print('theta_s : ', theta_s)\n",
    "#print('theta_r : ', theta_r)\n",
    "#df"
   ]
  },
  {
   "cell_type": "markdown",
   "metadata": {},
   "source": [
    "## Read sims"
   ]
  },
  {
   "cell_type": "code",
   "execution_count": 8,
   "metadata": {},
   "outputs": [],
   "source": [
    "department = 'Rhone'"
   ]
  },
  {
   "cell_type": "markdown",
   "metadata": {},
   "source": [
    "### Compute prevalence"
   ]
  },
  {
   "cell_type": "code",
   "execution_count": 11,
   "metadata": {},
   "outputs": [],
   "source": [
    "# Color settings and protocol names\n",
    "colors = ['#b8b8ff', '#287271']\n",
    "protocol_names = {0: 'strengthened reactive screening', 1: 'weekly screening'}\n",
    "alphas = [1, 0.5]\n",
    "alphas_fill = [0.2, 0.2]\n",
    "\n",
    "model_Rhone = {}\n",
    "\n",
    "\n",
    "for idx, code in enumerate(cod):\n",
    "\n",
    "    filename = (\n",
    "        f\"posit_n{nsim}_b{beta_mle:.4f}_{code}_im{ims:.2f}_{imt:.2f}_\"\n",
    "        f\"Pd{pds:.1f}_{pdt:.1f}_t{t}_d{d}_f{ntimes[idx]}_{nweeks[idx]}.txt\"\n",
    "    )\n",
    "    \n",
    "    if idx == 0:\n",
    "        with zipfile.ZipFile('data_out.zip') as z:\n",
    "            with z.open('data_out/' + filename) as f:\n",
    "                df = pd.read_csv(f, sep='\\t', header=None)\n",
    "    else:\n",
    "        with zipfile.ZipFile('data_out_exp.zip') as z:\n",
    "            with z.open('data_out/' + filename) as f:\n",
    "                df = pd.read_csv(f, sep='\\t', header=None)\n",
    "   \n",
    "    df.columns = [\n",
    "        'sim', 'day', 'den', 'ip1', 'ip2', 'ip3', 'ip4',\n",
    "        'ic1', 'ic2', 'ic3', 'ic4', 'ic5', 'ic6',\n",
    "        'is1', 'is2', 'is3', 'is4', 'is5', 'is6',\n",
    "        'ir1', 'ir2', 'ir3', 'ir4'\n",
    "    ]\n",
    "    \n",
    "    \n",
    "    df = df[df['day'] <= final_day]\n",
    "    df['Ip'] = df['ip1'] * theta_p[0]\n",
    "    df['Is'] = sum(df[f'is{i+1}'] * theta_s[i] for i in range(6))\n",
    "    df['Ic'] = sum(df[f'ic{i+1}'] * theta_c[i] for i in range(6))\n",
    "    df['Rp'] = sum(df[f'ir{i+1}'] * theta_r[i] for i in range(4))\n",
    "    \n",
    "    \n",
    "    df['I'] = df['Ip'] + df['Is'] + df['Ic'] + df['Rp']\n",
    "    \n",
    "    \n",
    "    df_infected = df.pivot(index='sim', columns='day', values='I')\n",
    "    df_den = df.pivot(index='sim', columns='day', values='den')\n",
    "    \n",
    "   \n",
    "    abs_weekly_prevalence = []\n",
    "    pct_weekly_prevalence = []\n",
    "    lower_bounds = []\n",
    "    upper_bounds = []\n",
    "\n",
    "    for day in range(0, final_day, 7):\n",
    "        weekly_infected = df_infected[day]\n",
    "        weekly_denominator = df_den[day]\n",
    "        \n",
    "        abs_prevalence = weekly_infected.median()\n",
    "        pct_prevalence = (weekly_infected / weekly_denominator).median()\n",
    "        \n",
    "        abs_weekly_prevalence.append(abs_prevalence)\n",
    "        pct_weekly_prevalence.append(pct_prevalence)\n",
    "        \n",
    "        wp = weekly_infected / weekly_denominator\n",
    "        lower_bounds.append(wp.quantile(0.25) * 100)\n",
    "        upper_bounds.append(wp.quantile(0.75) * 100)\n",
    "    \n",
    "    \n",
    "    preva_table = pd.DataFrame({\n",
    "        'week': np.arange(1, 7),\n",
    "        'abs': abs_weekly_prevalence,\n",
    "        'per': pct_weekly_prevalence,\n",
    "        'up': upper_bounds,\n",
    "        'dw': lower_bounds\n",
    "    })\n",
    "\n",
    "    \n",
    "    model_Rhone[(beta_mle, code)] = preva_table"
   ]
  },
  {
   "cell_type": "code",
   "execution_count": 12,
   "metadata": {},
   "outputs": [
    {
     "data": {
      "image/png": "[encoded data removed]",
      "text/plain": [
       "<Figure size 393.701x393.701 with 1 Axes>"
      ]
     },
     "metadata": {},
     "output_type": "display_data"
    }
   ],
   "source": [
    "for idx, code in enumerate(cod):    \n",
    "    \n",
    "    m = model_Rhone[beta_mle, code]\n",
    "    plt.plot(\n",
    "        np.arange(len(m)),\n",
    "        m['per'] * 100,\n",
    "        lw=1.7,\n",
    "        color=colors[idx],\n",
    "        label=protocol_names[idx],\n",
    "        alpha=alphas[idx],\n",
    "        zorder=1\n",
    "    )\n",
    "    plt.fill_between(\n",
    "        np.arange(len(m)),\n",
    "        m['up'],\n",
    "        m['dw'],\n",
    "        color=colors[idx],\n",
    "        alpha=alphas_fill[idx],\n",
    "        linewidth=0,\n",
    "        zorder=0\n",
    "    )\n",
    "    #print(m['per'] * 100, m['up'], m['dw'])\n",
    "\n",
    "# Add observed data points\n",
    "\n",
    "plt.scatter(\n",
    "    np.arange(len(m)),\n",
    "    dfScreen_preva[dfScreen_preva['dep'] == department][weeks].values[0],\n",
    "    marker='o',\n",
    "    s=100,\n",
    "    color='black',\n",
    "    zorder=2,\n",
    "    label='screening data'\n",
    ")\n",
    "\n",
    "# Compute and plot error bars\n",
    "LB, UB = [], []\n",
    "for w in weeks:\n",
    "    lb, ub = compute_error(\n",
    "        dfScreen_pos[dfScreen_pos['dep'] == department][w].values[0],\n",
    "        dfScreen_test[dfScreen_test['dep'] == department][w].values[0]\n",
    "    )\n",
    "    LB.append(lb * 100)\n",
    "    UB.append(ub * 100)\n",
    "\n",
    "plt.vlines(np.arange(len(m)), LB, UB, color='black')\n",
    "\n",
    "# Extra plot formatting\n",
    "plt.axvspan(-2.5, -0.5, facecolor='grey', zorder=-1, alpha=0.3)\n",
    "plt.text(-1, 10, 'Christmas holidays', rotation='vertical', fontsize=9)\n",
    "plt.title(dfScreen_preva[dfScreen_preva['dep'] == department]['departments'].values[0])\n",
    "plt.ylabel('prevalence at school (%)')\n",
    "plt.xlabel('week')\n",
    "plt.ylim(0, 18)\n",
    "plt.xlim(-2.5, 5.5)\n",
    "plt.yticks(np.arange(0, 21, 3))\n",
    "plt.xticks(np.arange(-2, len(preva_table)), labels=[51, 52, 1, 2, 3, 4, 5, 6])\n",
    "plt.legend(frameon=False, fontsize=8, markerscale=0.5)\n",
    "plt.show()"
   ]
  },
  {
   "cell_type": "markdown",
   "metadata": {},
   "source": [
    "## Averted school transmission"
   ]
  },
  {
   "cell_type": "code",
   "execution_count": 17,
   "metadata": {},
   "outputs": [
    {
     "name": "stdout",
     "output_type": "stream",
     "text": [
      "averted school transmission: 37.18% (IQR: 29.49% – 44.87%)\n"
     ]
    },
    {
     "data": {
      "image/png": "[encoded data removed]",
      "text/plain": [
       "<Figure size 393.701x393.701 with 1 Axes>"
      ]
     },
     "metadata": {},
     "output_type": "display_data"
    }
   ],
   "source": [
    "for idx, code in enumerate(cod):\n",
    "    \n",
    "    filename = (\n",
    "        f\"trasm_stn{nsim}_b{beta_mle:.4f}_{code}_im{ims:.2f}_{imt:.2f}_\"\n",
    "        f\"Pd{pds:.1f}_{pdt:.1f}_t{t}_d{d}_f{ntimes[idx]}_{nweeks[idx]}.txt\"\n",
    "    )\n",
    "    \n",
    "    if idx == 0:\n",
    "        with zipfile.ZipFile('data_out.zip') as z:\n",
    "            with z.open('data_out/' + filename) as f:\n",
    "                trasm_data = pd.read_table(f, sep='\\t', header=None)\n",
    "    else:\n",
    "        with zipfile.ZipFile('data_out_exp.zip') as z:\n",
    "            with z.open('data_out/' + filename) as f:\n",
    "                trasm_data = pd.read_table(f, sep='\\t', header=None)\n",
    "                \n",
    "\n",
    "    trasm_data = trasm_data[[0, 1, 2, 3, 4, 5]].sum(axis=1)\n",
    "    if idx==1:\n",
    "        dfw = trasm_data\n",
    "    else:\n",
    "        dfr= trasm_data\n",
    "    \n",
    "\n",
    "reduction = ((dfr.median() - dfw) / dfr.median())\n",
    "reduction_q25 = reduction.quantile(0.25) * 100\n",
    "reduction_q75 = reduction.quantile(0.75) * 100\n",
    "print(f\"averted school transmission: {reduction.median() * 100:.2f}% (IQR: {reduction_q25:.2f}% – {reduction_q75:.2f}%)\")\n",
    "# Plot\n",
    "plt.scatter(0, reduction.median() * 100, color='#0f4c5c', s=150, marker='s')\n",
    "plt.vlines(0, reduction_q25, reduction_q75, color='#0f4c5c')\n",
    "plt.xticks(np.arange(-1, 2), labels=['', department, ''])\n",
    "plt.show()\n"
   ]
  },
  {
   "cell_type": "code",
   "execution_count": null,
   "metadata": {},
   "outputs": [],
   "source": []
  }
 ],
 "metadata": {
  "kernelspec": {
   "display_name": "Python 3 (ipykernel)",
   "language": "python",
   "name": "python3"
  },
  "language_info": {
   "codemirror_mode": {
    "name": "ipython",
    "version": 3
   },
   "file_extension": ".py",
   "mimetype": "text/x-python",
   "name": "python",
   "nbconvert_exporter": "python",
   "pygments_lexer": "ipython3",
   "version": "3.11.5"
  }
 },
 "nbformat": 4,
 "nbformat_minor": 4
}
