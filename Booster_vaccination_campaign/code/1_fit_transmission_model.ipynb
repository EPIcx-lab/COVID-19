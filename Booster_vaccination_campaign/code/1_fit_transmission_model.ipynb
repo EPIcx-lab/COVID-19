{
 "cells": [
  {
   "cell_type": "code",
   "execution_count": 1,
   "metadata": {},
   "outputs": [],
   "source": [
    "import pandas as pd\n",
    "import numpy as np\n",
    "import math\n",
    "import time\n",
    "import datetime as dt\n",
    "import datetime\n",
    "from scipy.stats import poisson\n",
    "from scipy.stats import binom\n",
    "from scipy.stats import nbinom\n",
    "import sys\n",
    "\n",
    "import random\n",
    "\n",
    "# -*- coding: utf-8 -*-\n",
    "\n",
    "from scipy.sparse import csr_matrix\n",
    "from matplotlib.colors import hsv_to_rgb , rgb_to_hsv, LinearSegmentedColormap #,LogNorm, LinearSegmentedColormap, ListedColormap, BoundaryNorm\n",
    "import pickle\n",
    "import warnings\n",
    "import matplotlib.pyplot as plt\n",
    "\n",
    "PYTHON3 = sys.version_info[0] >= 3\n",
    "\n",
    "# load HTML engine, if it exists\n",
    "try:\n",
    "    if __IPYTHON__:\n",
    "        from IPython.core.display import HTML\n",
    "    else:\n",
    "        HTML = lambda x : x\n",
    "except NameError:\n",
    "    HTML = lambda x : x"
   ]
  },
  {
   "cell_type": "code",
   "execution_count": 2,
   "metadata": {},
   "outputs": [],
   "source": [
    "#########################################################################################\n",
    "\n",
    "#compute median and CI\n",
    "\n",
    "def add_median_CI(DF):\n",
    "    df = DF.copy()\n",
    "    df['p1'] = df[[i for i in range(n_runs)]].quantile(0.025, axis=1)\n",
    "    df['median'] = df[[i for i in range(n_runs)]].median(axis=1)\n",
    "    df['p2'] = df[[i for i in range(n_runs)]].quantile(0.975, axis=1)\n",
    "    return df\n",
    "\n",
    "#########################################################################################\n",
    "\n",
    "# functions to read and manipulate the matrix\n",
    "\n",
    "#reshape the array in a 4x4 matrix\n",
    "def keep(df):\n",
    "    C = []\n",
    "    for i in range(ages*ages):\n",
    "        c = df[0][i]\n",
    "        C.append(c)\n",
    "    C = np.array(C)\n",
    "    C = np.reshape(C, (ages,ages))\n",
    "    return C\n",
    "\n",
    "#construct the four contact matrices\n",
    "def extract_matrix(matrix, x_test_a,x_test_s):\n",
    "    wd = keep(matrix) # healthy behavior (matrix for the individuals in the prodromic phase)\n",
    "    wd_as = x_test_a*keep(matrix)*0.1 + (1-x_test_a)*keep(matrix)      # asymptomatic\n",
    "    wd_t = x_test_s*keep(matrix)*0.1 + (1-x_test_s)*keep(matrix)       # pauci-symptomatic and mild\n",
    "    wd_s = x_test_s*keep(matrix)*0.1 + (1-x_test_s)*keep(matrix)*0.25  # severe symptoms\n",
    "\n",
    "    return wd,wd_as,wd_t,wd_s\n",
    "\n",
    "#########################################################################################\n",
    "\n",
    "def seir(u, parms, t, intervention,     #intervention is a boolean that activates LD1 and the exit strategies \n",
    "         LD, TW, scale1, scale2,\n",
    "         BS_wd, BS_wd_as, BS_wd_t, BS_wd_s,   #matrices for the pre-pandemic phase\n",
    "         LD_wd, LD_wd_as, LD_wd_t, LD_wd_s,\n",
    "         TW_wd, TW_wd_as, TW_wd_t, TW_wd_s,   #(list of) weekly matrices for the exit phase (from May 11) \n",
    "         projections, proj_scenario, numero_run,\n",
    "         ordered_run_initialization):\n",
    "\n",
    "    #quantities of interest\n",
    "    S = u['S']\n",
    "\n",
    "    new_E = u['Y_E']\n",
    "    E = u['E']\n",
    "    new_I_p = u['Y_I_p']\n",
    "    I_p = u['I_p']\n",
    "    new_I_as = u['Y_I_as']\n",
    "    I_as = u['I_as']\n",
    "    new_I_ps = u['Y_I_ps']\n",
    "    I_ps = u['I_ps']\n",
    "    new_I_ms = u['Y_I_ms']\n",
    "    I_ms = u['I_ms']\n",
    "    new_I_ss = u['Y_I_ss']\n",
    "    I_ss = u['I_ss']\n",
    "    new_W = u['Y_W']\n",
    "    W = u['W']\n",
    "    new_H = u['Y_H']\n",
    "    H = u['H']\n",
    "    new_R = u['Y_R']\n",
    "    R = u['R']\n",
    "    new_V = u['Y_V']\n",
    "    \n",
    "    N_tot = u['N_tot']\n",
    "\n",
    "    bet, sigm, thet, gamm, N, dt = parms\n",
    "    \n",
    "    # baseline scenario\n",
    "    C_h = BS_wd*seasonal[t]\n",
    "    C_as = BS_wd_as*seasonal[t]\n",
    "    C_t = BS_wd_t*seasonal[t]\n",
    "    C_s = BS_wd_s*seasonal[t]\n",
    "                                      \n",
    "    if intervention:        \n",
    "        for week in weeks:\n",
    "            stage0_start = TW[week][0]\n",
    "            stage0_end = TW[week][1]\n",
    "\n",
    "            if (t >= stage0_start) and (t < stage0_end):\n",
    "                C_h = TW_wd[week]*scale2[week]*seasonal[t]\n",
    "                C_as = TW_wd_as[week]*scale2[week]*seasonal[t]\n",
    "                C_t = TW_wd_t[week]*scale2[week]*seasonal[t]\n",
    "                C_s = TW_wd_s[week]*scale2[week]*seasonal[t]\n",
    "                \n",
    "        if t>=TW[weeks[-1]][1]:\n",
    "            C_h = TW_wd[weeks[-1]]*scale2[weeks[-1]]*seasonal[t]\n",
    "            C_as = TW_wd_as[weeks[-1]]*scale2[weeks[-1]]*seasonal[t]\n",
    "            C_t = TW_wd_t[weeks[-1]]*scale2[weeks[-1]]*seasonal[t]\n",
    "            C_s = TW_wd_s[weeks[-1]]*scale2[weeks[-1]]*seasonal[t]\n",
    "            \n",
    "        #if t>=start_scenario:\n",
    "        #    C_h = TW_wd['summer']*scale2[week_summer]*R0_target/R0_origin\n",
    "        #    C_as = TW_wd_as['summer']*scale2[week_summer]*R0_target/R0_origin\n",
    "        #    C_t = TW_wd_t['summer']*scale2[week_summer]*R0_target/R0_origin\n",
    "        #   C_s = TW_wd_s['summer']*scale2[week_summer]*R0_target/R0_origin\n",
    "           \n",
    "            #if t == start_scenario:\n",
    "            #    print(TW_wd['summer'], scale2[week_summer])\n",
    "                \n",
    "    # situation at the previous timestep\n",
    "    lambd = {}\n",
    "    \n",
    "    for variant in variants:\n",
    "        for past in past_infection[variant]:\n",
    "            for status_vax in stati_vax:\n",
    "                strain = past+variant+'_'+status_vax\n",
    "                lambd[strain]=[0]*ages\n",
    "            \n",
    "    eta={}\n",
    "    \n",
    "    for variant in variants:\n",
    "        for past in past_infection[variant]:\n",
    "            for status_vax in stati_vax:   \n",
    "                strain = past+variant+'_'+status_vax\n",
    "                eta[strain]=[0]*ages\n",
    "                for age in range(ages):\n",
    "                    eta[strain][age]=trans_increase_time[variant][t]*(1.0-VE_trans[strain])\n",
    "                    ## if you want you mat define VE_trans[strain][age]\n",
    "    \n",
    "    for variant in variants:\n",
    "        for past in past_infection[variant]:\n",
    "            for status_vax in stati_vax:   \n",
    "                strain = past+variant+'_'+status_vax\n",
    "                for age in range(ages):\n",
    "                    l = 0\n",
    "                    for age2 in range(ages):\n",
    "                        l += eta[strain][age2]*susc[variant][age]*r[age2]*bet*C_h[age,age2]*I_p[strain][age2]/N\n",
    "                        l += eta[strain][age2]*susc[variant][age]*r[age2]*bet*C_as[age,age2]*I_as[strain][age2]/N\n",
    "                        l += eta[strain][age2]*susc[variant][age]*r[age2]*bet*C_t[age,age2]*I_ps[strain][age2]/N\n",
    "                        l += eta[strain][age2]*susc[variant][age]*bet*C_t[age,age2]*I_ms[strain][age2]/N\n",
    "                        l += eta[strain][age2]*susc[variant][age]*bet*C_s[age,age2]*I_ss[strain][age2]/N\n",
    "                    lambd[strain][age] = l\n",
    "                lambd[strain] = np.array(lambd[strain])\n",
    "                ## QUI STRAIN é l'INFETTORE che trasmette l'infezione\n",
    "                ## lambd[strain] is a vector with length ages\n",
    "                ## lambd[strain][age] represents the force of infection on S['dose0'][age]\n",
    "                ## given by all ages in infectious compartments of a given strain=past+variant+status_vax\n",
    "                ## e.g. strain = 'delta_dose1', then lambd[strain] is the vector of force of infection\n",
    "                ## on susceptible (non vaccinated) individuals of each age class \n",
    "                ## produced by infectious individuals of any age \n",
    "                ## with delta variant and 1 dose of vaccination\n",
    "    \n",
    "    # compute transition probabilities for entering in each comparment\n",
    "    \n",
    "    in_E = {}\n",
    "    \n",
    "    for variant in variants:\n",
    "        ## for each variant (delta or omicron), \n",
    "        ## I compute the total force of infection, summing over all vaccination stati and past infections\n",
    "        tot_lambd = 0\n",
    "        \n",
    "        for past in past_infection[variant]:\n",
    "            for status_vax in stati_vax:\n",
    "                strain = past+variant+'_'+status_vax \n",
    "                tot_lambd += lambd[strain]\n",
    "                ## tot_lambd is a vector with length ages\n",
    "                ## tot_lambd[age] represents the force of infection on S['dose0'][age]\n",
    "                ## given by all ages in infectious compartments of a given variant\n",
    "                ## summing over all possible vaccination status and past infections    \n",
    "                                                              \n",
    "        for past in past_infection[variant]:\n",
    "            for status_vax in stati_vax:\n",
    "                strain = past+variant+'_'+status_vax\n",
    "                tot_lambd_vax = [0]*ages\n",
    "                for age in range(ages):\n",
    "                    tot_lambd_vax[age] = tot_lambd[age]*(1.0-VE_infect[strain])\n",
    "                tot_lambd_vax = np.array(tot_lambd_vax)\n",
    "                in_E[strain] = 1.0 - np.exp(-tot_lambd_vax*dt)        \n",
    "                                         \n",
    "                ## QUI STRAIN é il SUSCETTIBILE che riceve l'infezione\n",
    "                ## in_E[strain] is a vector with length ages\n",
    "                ## in_E[strain][age] represents the force of infection on S[status_vax][age]\n",
    "                ## given by all ages in infectious compartments of a given strain\n",
    "                ## e.g. strain = 'delta_dose1', then in_E['delta_dose1'] is the vector of force of infection\n",
    "                ## on S[status_vax][age] individuals of each age class \n",
    "                ## produced by infectious individuals of any age or vaccination status with delta variant\n",
    "\n",
    "    in_I_p={}\n",
    "    in_I={}\n",
    "    in_R={}\n",
    "    in_W={}\n",
    "    in_H={}\n",
    "    in_R_from_H={}\n",
    "    \n",
    "    for variant in variants:\n",
    "        for past in past_infection[variant]:\n",
    "            for status_vax in stati_vax:\n",
    "                strain = past+variant+'_'+status_vax\n",
    "        \n",
    "                #in_I_p[strain]=np.array([sigm*dt]*ages)\n",
    "                in_I[strain]=np.array([thet*dt]*ages)\n",
    "                in_R[strain]=np.array([gamm*dt]*ages)\n",
    "\n",
    "                in_W[strain]=np.array([gamm*dt]*ages)\n",
    "                in_H[strain]=np.array([rate_w*dt]*ages)\n",
    "                in_R_from_H[strain]=np.array([rate_hosp*dt]*ages)\n",
    "\n",
    "                in_I_p[strain] = np.array([sigm[variant]*dt]*ages)\n",
    "\n",
    "    # transition events (sampled by binomial or multinomial distributions with corresponding transition probabilities)\n",
    "    \n",
    "    # infections events\n",
    "    for age in range(ages):\n",
    "        for status_vax in stati_vax:\n",
    "            \n",
    "            # first infections\n",
    "            force_of_infection = [] \n",
    "            \n",
    "            for variant in variants:\n",
    "                for past in ['']:\n",
    "                    strain = past+variant+'_'+status_vax\n",
    "                    force_of_infection.append(in_E[strain][age])  \n",
    "                    \n",
    "            complem = sum(force_of_infection)\n",
    "            force_of_infection.append(1.0-complem)\n",
    "            force_of_infection = np.array(force_of_infection)\n",
    "                    \n",
    "            infections = np.random.multinomial(S[status_vax][age],force_of_infection)\n",
    "            \n",
    "            for j,variant in enumerate(variants):\n",
    "                for past in ['']:\n",
    "                    strain = past+variant+'_'+status_vax\n",
    "                    new_E[strain][age] = infections[j]\n",
    "                    \n",
    "            # re-infections Delta-Omicron\n",
    "            # full protection\n",
    "            force_of_reinfection = []\n",
    "                    \n",
    "            for variant in ['omicron']: \n",
    "                for past in ['delta-']:  \n",
    "                    strain = past+variant+'_'+status_vax\n",
    "                    force_of_reinfection.append(in_E[strain][age])\n",
    "            \n",
    "            complem_re = sum(force_of_reinfection)\n",
    "            force_of_reinfection.append(1.0-complem_re)\n",
    "            force_of_reinfection = np.array(force_of_reinfection)\n",
    "            \n",
    "            reinfections = np.random.multinomial(R['delta_'+status_vax][age],force_of_reinfection)\n",
    "                    \n",
    "            for j,variant in enumerate(['omicron']):\n",
    "                for past in ['delta-']:\n",
    "                    strain = past+variant+'_'+status_vax\n",
    "                    new_E[strain][age] = reinfections[j]\n",
    "           \n",
    "            # re-infections Delta-Omicron\n",
    "            # waned protection  \n",
    "            force_of_reinfection = []\n",
    " \n",
    "            for variant in ['omicron']: \n",
    "                for past in ['delta-waned-']:  \n",
    "                    strain = past+variant+'_'+status_vax\n",
    "                    force_of_reinfection.append(in_E[strain][age])\n",
    "            \n",
    "            complem_re = sum(force_of_reinfection)\n",
    "            force_of_reinfection.append(1.0-complem_re)\n",
    "            force_of_reinfection = np.array(force_of_reinfection)\n",
    "            \n",
    "            reinfections = np.random.multinomial(R['delta-waned_'+status_vax][age],force_of_reinfection)\n",
    "                    \n",
    "            for j,variant in enumerate(['omicron']):\n",
    "                for past in ['delta-waned-']:\n",
    "                    strain = past+variant+'_'+status_vax\n",
    "                    new_E[strain][age] = reinfections[j]\n",
    "                \n",
    "            # re-infections Omicron-Omicron\n",
    "            force_of_reinfection = []\n",
    "                    \n",
    "            for variant in ['omicron']: \n",
    "                for past in ['omicron-']:  \n",
    "                    strain = past+variant+'_'+status_vax\n",
    "                    force_of_reinfection.append(in_E[strain][age])\n",
    "            \n",
    "            complem_re = sum(force_of_reinfection)\n",
    "            force_of_reinfection.append(1.0-complem_re)\n",
    "            force_of_reinfection = np.array(force_of_reinfection)\n",
    "            \n",
    "            reinfections = np.random.multinomial(R['omicron_'+status_vax][age],force_of_reinfection)\n",
    "                    \n",
    "            for j,variant in enumerate(['omicron']):\n",
    "                for past in ['omicron-']:\n",
    "                    strain = past+variant+'_'+status_vax\n",
    "                    new_E[strain][age] = reinfections[j]\n",
    "        \n",
    "    #spontaneous transitions\n",
    "    \n",
    "    recovery_as = {}\n",
    "    recovery_ps = {}\n",
    "    recovery_ms = {}\n",
    "    recovery_h = {}\n",
    "    \n",
    "    if t < wild_origin:\n",
    "        list_strains=[]\n",
    "    else:\n",
    "        list_strains=[]\n",
    "        for variant in variants:\n",
    "            for past in past_infection[variant]:\n",
    "                for status_vax in stati_vax:\n",
    "                    strain = past+variant+'_'+status_vax\n",
    "                    list_strains.append(strain)\n",
    "        \n",
    "    for strain in list_strains:\n",
    "        recovery_as[strain] = [0]*ages\n",
    "        recovery_ps[strain] = [0]*ages\n",
    "        recovery_ms[strain] = [0]*ages\n",
    "        recovery_h[strain] = [0]*ages\n",
    "        \n",
    "        for age in range(ages):\n",
    "            new_I_p[strain][age] = np.random.binomial(E[strain][age],in_I_p[strain][age])\n",
    "\n",
    "            trans_I = np.array([p_as_v[strain][age]*in_I[strain][age], \n",
    "                                p_ps_v[strain][age]*in_I[strain][age], \n",
    "                                p_ms_v[strain][age]*in_I[strain][age], \n",
    "                                p_ss_v[strain][age]*in_I[strain][age], \n",
    "                                1.-in_I[strain][age]])\n",
    "            #print(trans_I)\n",
    "            new_I_as[strain][age], new_I_ps[strain][age], new_I_ms[strain][age], new_I_ss[strain][age], res = np.random.multinomial(I_p[strain][age],trans_I)\n",
    "\n",
    "            recovery_as[strain][age] = np.random.binomial(I_as[strain][age],in_R[strain][age])\n",
    "            recovery_ps[strain][age] = np.random.binomial(I_ps[strain][age],in_R[strain][age])\n",
    "            recovery_ms[strain][age] = np.random.binomial(I_ms[strain][age],in_R[strain][age])\n",
    "\n",
    "            new_W[strain][age] = np.random.binomial(I_ss[strain][age],in_W[strain][age])\n",
    "            new_H[strain][age] = np.random.binomial(W[strain][age],in_H[strain][age])\n",
    "            recovery_h[strain][age] = np.random.binomial(H[strain][age], in_R_from_H[strain][age])\n",
    "            \n",
    "            new_R[strain][age] = recovery_as[strain][age] + recovery_ps[strain][age] + recovery_ms[strain][age] + recovery_h[strain][age]\n",
    "\n",
    "    #update compartments\n",
    "    \n",
    "    for age in range(ages):  \n",
    "        \n",
    "        for status_vax in stati_vax:\n",
    "            \n",
    "            # first infections exiting from S\n",
    "            exit_S = 0\n",
    "            for variant in variants:\n",
    "                for past in ['']:\n",
    "                    strain = past+variant+'_'+status_vax\n",
    "                    exit_S += new_E[strain][age]\n",
    "                    \n",
    "            S[status_vax][age] = S[status_vax][age] - exit_S\n",
    "            \n",
    "            # re-infection exiting from R delta\n",
    "            exit_R = 0\n",
    "            for variant in [variants[1]]:\n",
    "                for past in ['delta-']:\n",
    "                    strain = past+variant+'_'+status_vax\n",
    "                    exit_R += new_E[strain][age]\n",
    "        \n",
    "            R['delta_'+status_vax][age] = R['delta_'+status_vax][age] - exit_R\n",
    "            \n",
    "            exit_R = 0\n",
    "            for variant in [variants[1]]:\n",
    "                for past in ['delta-waned-']:\n",
    "                    strain = past+variant+'_'+status_vax\n",
    "                    exit_R += new_E[strain][age]\n",
    "        \n",
    "            R['delta-waned_'+status_vax][age] = R['delta-waned_'+status_vax][age] - exit_R\n",
    "            \n",
    "            # re-infection exiting from R omicron\n",
    "            exit_R = 0\n",
    "            for variant in [variants[1]]:\n",
    "                for past in ['omicron-']:\n",
    "                    strain = past+variant+'_'+status_vax\n",
    "                    exit_R += new_E[strain][age]\n",
    "                    \n",
    "            R['omicron_'+status_vax][age] = R['omicron_'+status_vax][age] - exit_R\n",
    "\n",
    "        for strain in list_strains:      \n",
    "            E[strain][age] = E[strain][age] + new_E[strain][age] - new_I_p[strain][age]\n",
    "            I_p[strain][age] = I_p[strain][age] + new_I_p[strain][age] - new_I_as[strain][age] - new_I_ps[strain][age] - new_I_ms[strain][age] - new_I_ss[strain][age]\n",
    "            I_as[strain][age] = I_as[strain][age] + new_I_as[strain][age] - recovery_as[strain][age]\n",
    "            I_ps[strain][age] = I_ps[strain][age] + new_I_ps[strain][age] - recovery_ps[strain][age]\n",
    "            I_ms[strain][age] = I_ms[strain][age] + new_I_ms[strain][age] - recovery_ms[strain][age]\n",
    "            I_ss[strain][age] = I_ss[strain][age] + new_I_ss[strain][age] - new_W[strain][age]\n",
    "            W[strain][age] = W[strain][age] + new_W[strain][age] - new_H[strain][age]\n",
    "            H[strain][age] = H[strain][age] + new_H[strain][age] - recovery_h[strain][age]\n",
    "            R[strain][age] = R[strain][age] + new_R[strain][age]\n",
    "\n",
    "    if t == wild_origin: ## t == wild origin == VOC_origin\n",
    "        \n",
    "        if ordered_run_initialization == False:        \n",
    "            indice = casuale[numero_run]\n",
    "        else:\n",
    "            indice = numero_run\n",
    "        \n",
    "        dict_config_wild = dict(config_wild.iloc[numero_run])\n",
    "        \n",
    "        for age in range(ages):\n",
    "            \n",
    "            for status_vax in stati_vax:\n",
    "                \n",
    "                if status_vax not in ['dose3-waned-1', 'dose3-waned-2', 'dose3-waned-3']:\n",
    "                \n",
    "                    source = status_vax\n",
    "                    strain = 'delta_'+status_vax\n",
    "                    E[strain][age] = int(np.around(dict_config_wild['E_age{}_{}'.format(age,source)]))\n",
    "                    I_p[strain][age] = int(np.around(dict_config_wild['I_p_age{}_{}'.format(age,source)]))\n",
    "                    I_as[strain][age] = int(np.around(dict_config_wild['I_as_age{}_{}'.format(age,source)]))\n",
    "                    I_ps[strain][age] = int(np.around(dict_config_wild['I_ps_age{}_{}'.format(age,source)]))\n",
    "                    I_ms[strain][age] = int(np.around(dict_config_wild['I_ms_age{}_{}'.format(age,source)]))\n",
    "                    I_ss[strain][age] = int(np.around(dict_config_wild['I_ss_age{}_{}'.format(age,source)]))\n",
    "                    W[strain][age] = int(np.around(dict_config_wild['W_age{}_{}'.format(age,source)]))\n",
    "                    H[strain][age] = int(np.around(dict_config_wild['H_age{}_{}'.format(age,source)]))\n",
    "                    R[strain][age] = int(np.around(dict_config_wild['R_age{}_{}'.format(age,source)]))\n",
    "\n",
    "                    S[status_vax][age] = int(np.around(dict_config_wild['S_age{}_{}'.format(age,status_vax)])) \n",
    "                \n",
    "                elif status_vax == 'dose3-waned-1':\n",
    "                    \n",
    "                    source = 'dose3-waned'\n",
    "                    strain = 'delta_'+status_vax\n",
    "                    E[strain][age] = int(np.around(dict_config_wild['E_age{}_{}'.format(age,source)]))\n",
    "                    I_p[strain][age] = int(np.around(dict_config_wild['I_p_age{}_{}'.format(age,source)]))\n",
    "                    I_as[strain][age] = int(np.around(dict_config_wild['I_as_age{}_{}'.format(age,source)]))\n",
    "                    I_ps[strain][age] = int(np.around(dict_config_wild['I_ps_age{}_{}'.format(age,source)]))\n",
    "                    I_ms[strain][age] = int(np.around(dict_config_wild['I_ms_age{}_{}'.format(age,source)]))\n",
    "                    I_ss[strain][age] = int(np.around(dict_config_wild['I_ss_age{}_{}'.format(age,source)]))\n",
    "                    W[strain][age] = int(np.around(dict_config_wild['W_age{}_{}'.format(age,source)]))\n",
    "                    H[strain][age] = int(np.around(dict_config_wild['H_age{}_{}'.format(age,source)]))\n",
    "                    R[strain][age] = int(np.around(dict_config_wild['R_age{}_{}'.format(age,source)]))\n",
    "\n",
    "                    S[status_vax][age] = int(np.around(dict_config_wild['S_age{}_{}'.format(age,source)])) \n",
    "                    \n",
    "                else:\n",
    "                    \n",
    "                    source = status_vax\n",
    "                    strain = 'delta_'+status_vax\n",
    "                    E[strain][age] = 0\n",
    "                    I_p[strain][age] = 0\n",
    "                    I_as[strain][age] = 0\n",
    "                    I_ps[strain][age] = 0\n",
    "                    I_ms[strain][age] = 0\n",
    "                    I_ss[strain][age] = 0\n",
    "                    W[strain][age] = 0\n",
    "                    H[strain][age] = 0\n",
    "                    R[strain][age] = 0\n",
    "\n",
    "                    S[status_vax][age] = 0                   \n",
    "                \n",
    "                    \n",
    "    if t == VOC_origin:\n",
    "        \n",
    "        for age in range(ages):\n",
    "        \n",
    "            for status_vax in stati_vax:\n",
    "\n",
    "                variant = 'delta'\n",
    "                strain = variant+'_'+status_vax\n",
    "\n",
    "                E_tot = E[strain][age]\n",
    "                I_p_tot = I_p[strain][age]\n",
    "                I_as_tot = I_as[strain][age]\n",
    "                I_ps_tot = I_ps[strain][age]\n",
    "                I_ms_tot = I_ms[strain][age]\n",
    "                I_ss_tot = I_ss[strain][age]\n",
    "                H_tot = H[strain][age]\n",
    "                R_tot = R[strain][age]\n",
    "\n",
    "                variant = 'delta'\n",
    "                strain = variant+'_'+status_vax\n",
    "\n",
    "                E[strain][age] = int(np.around(E_tot*(1.-prev_omicron)))\n",
    "                I_p[strain][age] = int(np.around(I_p_tot*(1.-prev_omicron)))\n",
    "                I_as[strain][age] = int(np.around(I_as_tot*(1.-prev_omicron)))\n",
    "                I_ps[strain][age] = int(np.around(I_ps_tot*(1.-prev_omicron)))\n",
    "                I_ms[strain][age] = int(np.around(I_ms_tot*(1.-prev_omicron)))\n",
    "                I_ss[strain][age] = int(np.around(I_ss_tot*(1.-prev_omicron)))\n",
    "                H[strain][age] = int(np.around(H_tot*(1.-prev_omicron)))\n",
    "                R[strain][age] = int(np.around(R_tot*(1.-prev_omicron)))    \n",
    "\n",
    "                variant = 'omicron'\n",
    "                strain = variant+'_'+status_vax\n",
    "\n",
    "                E[strain][age] = int(np.around(E_tot*(prev_omicron)))\n",
    "                I_p[strain][age] = int(np.around(I_p_tot*(prev_omicron)))\n",
    "                I_as[strain][age] = int(np.around(I_as_tot*(prev_omicron)))\n",
    "                I_ps[strain][age] = int(np.around(I_ps_tot*(prev_omicron)))\n",
    "                I_ms[strain][age] = int(np.around(I_ms_tot*(prev_omicron)))\n",
    "                I_ss[strain][age] = int(np.around(I_ss_tot*(prev_omicron)))\n",
    "                H[strain][age] = int(np.around(H_tot*(prev_omicron)))\n",
    "                R[strain][age] = int(np.around(R_tot*(prev_omicron)))\n",
    "          \n",
    "            prior_infected = 0\n",
    "            for status_vax in stati_vax:\n",
    "                prior_infected += R['delta_'+status_vax][age]\n",
    "\n",
    "            prop_waned_imm = infected_with_waned_imm[age]/prior_infected\n",
    "            #print(age, prop_waned_imm)\n",
    "\n",
    "            for status_vax in stati_vax:\n",
    "                ### individuals with past infection with waned immunity (>6 months prior infection)\n",
    "                #print(age, status_vax, R['delta_'+status_vax][age])\n",
    "                R['delta-waned_'+status_vax][age] = int(prop_waned_imm*R['delta_'+status_vax][age])\n",
    "                R['delta_'+status_vax][age] = R['delta_'+status_vax][age] - R['delta-waned_'+status_vax][age]\n",
    "                \n",
    "                #print(age, status_vax, R['delta_'+status_vax][age], R['delta-waned_'+status_vax][age])\n",
    "                \n",
    "    #VACCINATION\n",
    "    if t > wild_origin:\n",
    "        # continue with vaccination\n",
    "        # administer doses according to data\n",
    "        one_week=7\n",
    "        \n",
    "        for age in [0,1,2,3]:\n",
    "            for i, week in enumerate(np.arange(weeks[0], weeks[-1]+100)):\n",
    "                stage0_start = i*one_week+1\n",
    "                stage0_end = (i+1)*one_week+1\n",
    "                \n",
    "                if (t >= stage0_start) and (t < stage0_end):\n",
    "                    current_week = week \n",
    "                    break\n",
    "                    \n",
    "            if (current_week >= start_week_vaccine_proj+vax_delay_eff):\n",
    "                print('define how to deal with projections of vaccines')\n",
    "                sys.exit()\n",
    "                # TRANSIT FROM FIRTS DOSE TO SECOND DOSE COMPARTMENT \n",
    "                #in_exit_vax = 1./(7*projected_delay_inter_doses)  ## 3 weeks average time between first dose and second dose in the projected scenarios\n",
    "                #exit_vax  = np.random.binomial(S['dose1'][age],in_exit_vax)\n",
    "                #S['dose1'][age]=S['dose1'][age]-exit_vax\n",
    "                #new_V['dose2-full'][age] += exit_vax\n",
    "                #S['dose2-full'][age]=S['dose2-full'][age]+exit_vax\n",
    "                #exit_vax  = np.random.binomial(R['Alpha_dose1'][age],in_exit_vax)\n",
    "                #R['Alpha_dose1'][age]=R['Alpha_dose1'][age]-exit_vax\n",
    "                #new_V['dose2-full'][age] += exit_vax\n",
    "                #R['Alpha_dose2-full'][age]=R['Alpha_dose2-full'][age]+exit_vax\n",
    "                #exit_vax  = np.random.binomial(R['Delta_dose1'][age],in_exit_vax)\n",
    "                #R['Delta_dose1'][age]=R['Delta_dose1'][age]-exit_vax\n",
    "                #new_V['dose2-full'][age] += exit_vax\n",
    "                #R['Delta_dose2-full'][age]=R['Delta_dose2-full'][age]+exit_vax       \n",
    "\n",
    "            else: \n",
    "                if age == 0:\n",
    "                    N_age = N_c\n",
    "                    max_cov = max_coverage['child']\n",
    "                    tag_age = 'child'                  \n",
    "                elif age == 1: \n",
    "                    N_age = N_t\n",
    "                    max_cov = max_coverage['teen']\n",
    "                    tag_age = 'teen'\n",
    "                elif age == 2: \n",
    "                    N_age = N_a\n",
    "                    max_cov = max_coverage['adu']\n",
    "                    tag_age = 'adult'\n",
    "                elif age == 3:\n",
    "                    N_age = N_s\n",
    "                    max_cov = max_coverage['sen']\n",
    "                    tag_age = 'senior'\n",
    "                else:\n",
    "                    sys.exit()\n",
    "\n",
    "                new_doses = {}\n",
    "\n",
    "                condition = past_rollout['date_vax']==(calendar.iloc[t][0]-datetime.timedelta(days=vax_delay_eff*7))\n",
    "                new_doses['dose1'] = int((N_age/100.)*past_rollout[condition]['%_{}_1d'.format(tag_age)].values[0])\n",
    "\n",
    "                condition = past_rollout['date_vax']==(calendar.iloc[t][0]-datetime.timedelta(days=vax_delay_waning_3*7))\n",
    "                new_doses['dose2-waned-3'] = int((N_age/100.)*past_rollout[condition]['%_{}_2d'.format(tag_age)].values[0])\n",
    "\n",
    "                condition = past_rollout['date_vax']==(calendar.iloc[t][0]-datetime.timedelta(days=vax_delay_waning_2*7))\n",
    "                new_doses['dose2-waned-2'] = int((N_age/100.)*past_rollout[condition]['%_{}_2d'.format(tag_age)].values[0])\n",
    "\n",
    "                condition = past_rollout['date_vax']==(calendar.iloc[t][0]-datetime.timedelta(days=vax_delay_waning_1*7))\n",
    "                new_doses['dose2-waned-1'] = int((N_age/100.)*past_rollout[condition]['%_{}_2d'.format(tag_age)].values[0])\n",
    "\n",
    "                condition = past_rollout['date_vax']==(calendar.iloc[t][0]-datetime.timedelta(days=vax_delay_eff*7))\n",
    "                new_doses['dose2-full'] = int((N_age/100.)*past_rollout[condition]['%_{}_2d'.format(tag_age)].values[0])\n",
    "\n",
    "                condition = past_rollout['date_vax']==(calendar.iloc[t][0]-datetime.timedelta(days=vax_delay_booster_waning_3*7))\n",
    "                new_doses['dose3-waned-3'] = int((N_age/100.)*past_rollout[condition]['%_{}_3d'.format(tag_age)].values[0])\n",
    "                \n",
    "                condition = past_rollout['date_vax']==(calendar.iloc[t][0]-datetime.timedelta(days=vax_delay_booster_waning_2*7))\n",
    "                new_doses['dose3-waned-2'] = int((N_age/100.)*past_rollout[condition]['%_{}_3d'.format(tag_age)].values[0])\n",
    "                \n",
    "                condition = past_rollout['date_vax']==(calendar.iloc[t][0]-datetime.timedelta(days=vax_delay_booster_waning_1*7))\n",
    "                new_doses['dose3-waned-1'] = int((N_age/100.)*past_rollout[condition]['%_{}_3d'.format(tag_age)].values[0])\n",
    "\n",
    "                condition = past_rollout['date_vax']==(calendar.iloc[t][0]-datetime.timedelta(days=vax_delay_booster*7))\n",
    "                new_doses['dose3-full'] = int((N_age/100.)*past_rollout[condition]['%_{}_3d'.format(tag_age)].values[0])\n",
    "\n",
    "                for status_vax in stati_vax:\n",
    "                    if status_vax != 'dose0':\n",
    "                        new_V[status_vax][age]=0     \n",
    "\n",
    "                perc_vacc_by_dose = {}\n",
    "\n",
    "                for dose in ['d1', 'd2', 'd3']:\n",
    "                    if dose == 'd1':\n",
    "                        list_stati = ['dose1']\n",
    "                    elif dose == 'd2':\n",
    "                        #list_stati = ['dose2-full', 'dose2-waned', 'dose2-elig']\n",
    "                        list_stati = ['dose2-full', 'dose2-waned-1', 'dose2-waned-2', 'dose2-waned-3']\n",
    "                    elif dose == 'd3':\n",
    "                        list_stati = ['dose3-full', 'dose3-waned-1', 'dose3-waned-2', 'dose3-waned-3']\n",
    "                    else:\n",
    "                        sys.exit()\n",
    "\n",
    "                    perc_vacc_by_dose[dose] = 0\n",
    "\n",
    "                    for status_vax in list_stati:\n",
    "                        perc_vacc_by_dose[dose] += S[status_vax][age]  \n",
    "                        for variant in variants:\n",
    "                            for past in past_infection[variant]:\n",
    "                                perc_vacc_by_dose[dose] += E['{}{}_{}'.format(past,variant,status_vax)][age]\n",
    "                                perc_vacc_by_dose[dose] += I_p['{}{}_{}'.format(past,variant,status_vax)][age]\n",
    "                                perc_vacc_by_dose[dose] += I_as['{}{}_{}'.format(past,variant,status_vax)][age]\n",
    "                                perc_vacc_by_dose[dose] += I_ps['{}{}_{}'.format(past,variant,status_vax)][age]\n",
    "                                perc_vacc_by_dose[dose] += I_ms['{}{}_{}'.format(past,variant,status_vax)][age]\n",
    "                                perc_vacc_by_dose[dose] += I_ss['{}{}_{}'.format(past,variant,status_vax)][age]\n",
    "                                perc_vacc_by_dose[dose] += H['{}{}_{}'.format(past,variant,status_vax)][age]\n",
    "                                perc_vacc_by_dose[dose] += R['{}{}_{}'.format(past,variant,status_vax)][age]\n",
    "                        perc_vacc_by_dose[dose]+=R['delta-waned_{}'.format(status_vax)][age]\n",
    "\n",
    "                perc_vacc_by_dose['d1']=perc_vacc_by_dose['d1']/N_age\n",
    "                perc_vacc_by_dose['d2']=perc_vacc_by_dose['d2']/N_age\n",
    "                perc_vacc_by_dose['d3']=perc_vacc_by_dose['d3']/N_age\n",
    "\n",
    "                perc_vacc = (perc_vacc_by_dose['d1']+perc_vacc_by_dose['d2']+perc_vacc_by_dose['d3'])\n",
    "\n",
    "                if perc_vacc < max_cov:\n",
    "\n",
    "                    # FIRST DOSES\n",
    "                    #print([l for l in R.keys() if 'dose0' in l])\n",
    "                    vaccinabili = S['dose0'][age]+R['delta_dose0'][age]+R['omicron_dose0'][age]+\\\n",
    "                                            +R['delta-omicron_dose0'][age]+R['omicron-omicron_dose0'][age]+\\\n",
    "                                            +R['delta-waned_dose0'][age]+R['delta-waned-omicron_dose0'][age]\n",
    "\n",
    "                    trans_vax = np.array([S['dose0'][age]/float(vaccinabili), \n",
    "                                            R['delta_dose0'][age]/float(vaccinabili), \n",
    "                                            R['omicron_dose0'][age]/float(vaccinabili),\n",
    "                                            R['delta-omicron_dose0'][age]/float(vaccinabili),\n",
    "                                            R['omicron-omicron_dose0'][age]/float(vaccinabili),\n",
    "                                            R['delta-waned_dose0'][age]/float(vaccinabili),\n",
    "                                            R['delta-waned-omicron_dose0'][age]/float(vaccinabili),0])\n",
    "\n",
    "                    if (perc_vacc*N_age + new_doses['dose1']) < max_cov*N_age:\n",
    "                        new_S_vax, new_R_wild_vax, new_R_VOC_vax, \\\n",
    "                            new_R_wild_reinf_vax, new_R_VOC_reinf_vax, \\\n",
    "                            new_R_wild_waned_vax, new_R_VOC_waned_vax, \\\n",
    "                                res = np.random.multinomial(new_doses['dose1'], trans_vax)\n",
    "                    else:\n",
    "                        doses_ad_hoc = int(max_cov*N_age - perc_vacc*N_age) # which is a smaller value than new_1st_doses\n",
    "                        new_S_vax, new_R_wild_vax, new_R_VOC_vax, \\\n",
    "                            new_R_wild_reinf_vax, new_R_VOC_reinf_vax, \\\n",
    "                            new_R_wild_waned_vax, new_R_VOC_waned_vax, \\\n",
    "                                res = np.random.multinomial(doses_ad_hoc, trans_vax)\n",
    "\n",
    "                    vax = min(new_S_vax, S['dose0'][age])\n",
    "                    new_V['dose1'][age] += vax\n",
    "                    S['dose0'][age] -= vax\n",
    "                    S['dose1'][age] += vax\n",
    "                    \n",
    "                    vax = min(new_R_wild_vax,R['delta_dose0'][age])\n",
    "                    new_V['dose1'][age] += vax\n",
    "                    R['delta_dose0'][age] -= vax\n",
    "                    R['delta_dose1'][age] += vax\n",
    "\n",
    "                    vax = min(new_R_VOC_vax,R['omicron_dose0'][age])\n",
    "                    new_V['dose1'][age] += vax\n",
    "                    R['omicron_dose0'][age] -= vax\n",
    "                    R['omicron_dose1'][age] += vax\n",
    "                    \n",
    "                    vax = min(new_R_wild_reinf_vax,R['delta-omicron_dose0'][age])\n",
    "                    new_V['dose1'][age] += vax\n",
    "                    R['delta-omicron_dose0'][age] -= vax\n",
    "                    R['delta-omicron_dose1'][age] += vax\n",
    "                    \n",
    "                    vax = min(new_R_VOC_reinf_vax,R['omicron-omicron_dose0'][age])\n",
    "                    new_V['dose1'][age] += vax\n",
    "                    R['omicron-omicron_dose0'][age] -= vax\n",
    "                    R['omicron-omicron_dose1'][age] += vax\n",
    "                    \n",
    "                    vax = min(new_R_wild_waned_vax,R['delta-waned_dose0'][age])\n",
    "                    new_V['dose1'][age] += vax\n",
    "                    R['delta-waned_dose0'][age] -= vax\n",
    "                    R['delta-waned_dose1'][age] += vax\n",
    "                    \n",
    "                    vax = min(new_R_VOC_waned_vax,R['delta-waned-omicron_dose0'][age])\n",
    "                    new_V['dose1'][age] += vax\n",
    "                    R['delta-waned-omicron_dose0'][age] -= vax\n",
    "                    R['delta-waned-omicron_dose1'][age] += vax\n",
    "\n",
    "                    # OTHER DOSES\n",
    "                    dict_source = dict(zip(stati_vax[2:],stati_vax[1:-1]))\n",
    "\n",
    "                    for status_vax in dict_source.keys():\n",
    "\n",
    "                        source = dict_source[status_vax]\n",
    "\n",
    "                        vaccinabili = S[source][age]+R['delta_{}'.format(source)][age]+\\\n",
    "                                                R['omicron_{}'.format(source)][age]+\\\n",
    "                                                R['delta-omicron_{}'.format(source)][age]+\\\n",
    "                                                R['omicron-omicron_{}'.format(source)][age]+\\\n",
    "                                                R['delta-waned_{}'.format(source)][age]+\\\n",
    "                                                R['delta-waned-omicron_{}'.format(source)][age]\n",
    "\n",
    "                        if vaccinabili > 0 :\n",
    "                            \n",
    "                            trans_vax = np.array([S[source][age]/float(vaccinabili), \n",
    "                                                R['delta_{}'.format(source)][age]/float(vaccinabili), \n",
    "                                                R['omicron_{}'.format(source)][age]/float(vaccinabili),\n",
    "                                                R['delta-omicron_{}'.format(source)][age]/float(vaccinabili),\n",
    "                                                R['omicron-omicron_{}'.format(source)][age]/float(vaccinabili),\n",
    "                                                R['delta-waned_{}'.format(source)][age]/float(vaccinabili),\n",
    "                                                R['delta-waned-omicron_{}'.format(source)][age]/float(vaccinabili),0])\n",
    "                            \n",
    "                            #print(t,status_vax,trans_vax)\n",
    "\n",
    "                            new_S_vax, new_R_wild_vax, new_R_VOC_vax, \\\n",
    "                            new_R_wild_reinf_vax, new_R_VOC_reinf_vax, \\\n",
    "                            new_R_wild_waned_vax, new_R_VOC_waned_vax, \\\n",
    "                                res = np.random.multinomial(new_doses[status_vax], trans_vax)\n",
    "\n",
    "                            vax = min(new_S_vax, S[source][age])\n",
    "                            new_V[status_vax][age] += vax\n",
    "                            S[source][age] -= vax\n",
    "                            S[status_vax][age] += vax\n",
    "                            \n",
    "                            vax = min(new_R_wild_vax,R['delta_{}'.format(source)][age])\n",
    "                            new_V[status_vax][age] += vax\n",
    "                            R['delta_{}'.format(source)][age] -= vax\n",
    "                            R['delta_{}'.format(status_vax)][age] += vax\n",
    "\n",
    "                            vax = min(new_R_VOC_vax,R['omicron_{}'.format(source)][age])\n",
    "                            new_V[status_vax][age] += vax\n",
    "                            R['omicron_{}'.format(source)][age] -= vax\n",
    "                            R['omicron_{}'.format(status_vax)][age] += vax\n",
    "                            \n",
    "                            vax = min(new_R_wild_reinf_vax,R['delta-omicron_{}'.format(source)][age])\n",
    "                            new_V[status_vax][age] += vax\n",
    "                            R['delta-omicron_{}'.format(source)][age] -= vax\n",
    "                            R['delta-omicron_{}'.format(status_vax)][age] += vax\n",
    "                            \n",
    "                            vax = min(new_R_VOC_reinf_vax,R['omicron-omicron_{}'.format(source)][age])\n",
    "                            new_V[status_vax][age] += vax\n",
    "                            R['omicron-omicron_{}'.format(source)][age] -= vax\n",
    "                            R['omicron-omicron_{}'.format(status_vax)][age] += vax\n",
    "\n",
    "                            vax = min(new_R_wild_waned_vax,R['delta-waned_{}'.format(source)][age])\n",
    "                            new_V[status_vax][age] += vax\n",
    "                            R['delta-waned_{}'.format(source)][age] -= vax\n",
    "                            R['delta-waned_{}'.format(status_vax)][age] += vax\n",
    "\n",
    "                            vax = min(new_R_VOC_waned_vax,R['delta-waned-omicron_{}'.format(source)][age])\n",
    "                            new_V[status_vax][age] += vax\n",
    "                            R['delta-waned-omicron_{}'.format(source)][age] -= vax\n",
    "                            R['delta-waned-omicron_{}'.format(status_vax)][age] += vax\n",
    "                            \n",
    "                \n",
    "    ## check population\n",
    "    \n",
    "    for age in range(ages):\n",
    "        \n",
    "        N_tot[age] = 0\n",
    "        \n",
    "        #print(t, age, N_tot[age], N_tot, len(list_strains))\n",
    "        \n",
    "        for status_vax in stati_vax:\n",
    "            N_tot[age] += S[status_vax][age]\n",
    "            N_tot[age] += R['delta-waned_{}'.format(status_vax)][age]\n",
    "        \n",
    "        #print(t, age, N_tot[age], N_tot, len(list_strains))\n",
    "        \n",
    "        for strain in list_strains:\n",
    "            N_tot[age] += E[strain][age]\n",
    "            N_tot[age] += I_p[strain][age]\n",
    "            N_tot[age] += I_as[strain][age]\n",
    "            N_tot[age] += I_ps[strain][age]\n",
    "            N_tot[age] += I_ms[strain][age]\n",
    "            N_tot[age] += I_ss[strain][age]\n",
    "            N_tot[age] += W[strain][age]\n",
    "            N_tot[age] += H[strain][age]\n",
    "            N_tot[age] += R[strain][age]\n",
    "            \n",
    "        #print(t, age, N_tot[age], N_tot, len(list_strains))\n",
    "        \n",
    "    \n",
    "    \"\"\"if t == wild_origin:\n",
    "        for status_vax in stati_vax:   \n",
    "            print(t, 'S', status_vax, \n",
    "                  100*np.around([S[status_vax][0]/N_c, S[status_vax][1]/N_t, \n",
    "                                 S[status_vax][2]/N_a, S[status_vax][3]/N_s],3))\n",
    "            for variant in variants[:1]:\n",
    "                for past in past_infection[variant]:\n",
    "                        strain = past+variant+'_'+status_vax\n",
    "                        print(t, 'R', strain,\n",
    "                            100*np.around([R[strain][0]/N_c, R[strain][1]/N_t, \n",
    "                                           R[strain][2]/N_a, R[strain][3]/N_s],3))\n",
    "                        \n",
    "        sys.exit()\"\"\"\n",
    "            \n",
    "    return  {'t':t, 'S': S, 'E':E, 'I_p':I_p, \n",
    "             'I_as':I_as,'I_ps':I_ps,'I_ms':I_ms,'I_ss':I_ss, 'W':W,'H':H, 'R':R,\n",
    "             'Y_E':new_E,'Y_I_p':new_I_p,'Y_I_as':new_I_as,\n",
    "             'Y_I_ps':new_I_ps,'Y_I_ms':new_I_ms,'Y_I_ss':new_I_ss,\n",
    "             'Y_W':new_W, 'Y_H':new_H, 'Y_R':new_R, \n",
    "             'Y_V': new_V,\n",
    "             'N_tot':N_tot}      \n",
    "\n",
    "def simulate(beta,lag,intervention, \n",
    "             LD, TW, scale1,scale2,\n",
    "             BS_wd,BS_wd_as, BS_wd_t, BS_wd_s,\n",
    "             LD_wd,LD_wd_as, LD_wd_t, LD_wd_s,\n",
    "             TW_wd,TW_wd_as, TW_wd_t, TW_wd_s,\n",
    "             projections, proj_scenario, numero_run,\n",
    "             ordered_run_initialization):\n",
    "    \n",
    "    parms = [beta, sigma, theta, gamma, N, delta_t]\n",
    "    \n",
    "    tf = t_stop\n",
    "    \n",
    "    t = np.arange(tf)\n",
    "    \n",
    "    S = {}\n",
    "    Y_V = {}\n",
    "    \n",
    "    for status_vax in stati_vax:\n",
    "        \n",
    "        S[status_vax] = np.zeros((tf,ages))\n",
    "        \n",
    "        if status_vax != 'dose0':\n",
    "            Y_V[status_vax] = np.zeros((tf,ages))\n",
    "    \n",
    "    E={}\n",
    "    I_p={}\n",
    "    I_as={}\n",
    "    I_ps={}\n",
    "    I_ms={}\n",
    "    I_ss={}\n",
    "    W={}\n",
    "    H={}\n",
    "    R={}\n",
    "    Y_E={}\n",
    "    Y_I_p={}\n",
    "    Y_I_as={}\n",
    "    Y_I_ps={}\n",
    "    Y_I_ms={}\n",
    "    Y_I_ss={}\n",
    "    Y_W={}\n",
    "    Y_H={}\n",
    "    Y_R={}\n",
    "    \n",
    "    for variant in variants:\n",
    "        for past in past_infection[variant]:\n",
    "            for status_vax in stati_vax:\n",
    "                strain = past+variant+'_'+status_vax\n",
    "        \n",
    "                E[strain]=np.zeros((tf,ages))\n",
    "                I_p[strain]=np.zeros((tf,ages))\n",
    "                I_as[strain]=np.zeros((tf,ages))\n",
    "                I_ps[strain]=np.zeros((tf,ages))\n",
    "                I_ms[strain]=np.zeros((tf,ages))\n",
    "                I_ss[strain]=np.zeros((tf,ages))\n",
    "                W[strain]=np.zeros((tf,ages))\n",
    "                H[strain]=np.zeros((tf,ages))\n",
    "                R[strain]=np.zeros((tf,ages))\n",
    "                Y_E[strain]=np.zeros((tf,ages))\n",
    "                Y_I_p[strain]=np.zeros((tf,ages))\n",
    "                Y_I_as[strain]=np.zeros((tf,ages))\n",
    "                Y_I_ps[strain]=np.zeros((tf,ages))\n",
    "                Y_I_ms[strain]=np.zeros((tf,ages))\n",
    "                Y_I_ss[strain]=np.zeros((tf,ages))\n",
    "                Y_W[strain]=np.zeros((tf,ages))\n",
    "                Y_H[strain]=np.zeros((tf,ages))\n",
    "                Y_R[strain]=np.zeros((tf,ages))\n",
    "                \n",
    "                R['delta-waned_'+status_vax] = np.zeros((tf,ages))\n",
    "    \n",
    "    N_tot = np.zeros((tf,ages))\n",
    "    \n",
    "    result = {'t':t, 'S': S, \n",
    "              'E':E, 'I_p':I_p, \n",
    "              'I_as':I_as,'I_ps':I_ps,'I_ms':I_ms,'I_ss':I_ss, 'W':W, 'H':H,'R':R,\n",
    "              'Y_E':Y_E,'Y_I_p':Y_I_p,\n",
    "              'Y_I_as':Y_I_as,'Y_I_ps':Y_I_ps,'Y_I_ms':Y_I_ms,'Y_I_ss':Y_I_ss,\n",
    "              'Y_W':Y_W,'Y_H':Y_H,'Y_R':Y_R,'Y_V': Y_V, 'N_tot':N_tot}\n",
    "\n",
    "    #initial condition\n",
    "    \n",
    "    u = {'t':0}\n",
    "    \n",
    "    u['S'] = {}\n",
    "    u['Y_V'] = {}\n",
    "    \n",
    "    for status_vax in stati_vax:\n",
    "        if status_vax == 'dose0':\n",
    "            u['S'][status_vax] = [N_c,N_t,N_a-I_iniz,N_s]\n",
    "        else:\n",
    "            u['S'][status_vax] = [0]*ages\n",
    "            u['Y_V'][status_vax] = [0]*ages\n",
    "            \n",
    "    \n",
    "    u['N_tot'] = [N_c,N_t,N_a,N_s]\n",
    "\n",
    "    # seed\n",
    "    \n",
    "    u['I_p'] = {}\n",
    "    \n",
    "    for variant in variants:\n",
    "        for status_vax in stati_vax:\n",
    "            \n",
    "            for past in past_infection[variant]:\n",
    "            \n",
    "                strain = past+variant+'_'+status_vax\n",
    "            \n",
    "                if strain == 'delta_dose0':\n",
    "                    u['I_p'][strain] = [0,0,I_iniz,0]\n",
    "                else:\n",
    "                    u['I_p'][strain] = [0]*ages\n",
    "         \n",
    "    for key in ['E','I_as','I_ps', 'I_ms', 'I_ss','W', 'H','R',\n",
    "                'Y_E','Y_I_p','Y_I_as','Y_I_ps','Y_I_ms','Y_I_ss','Y_W','Y_H','Y_R']:\n",
    "        u[key] = {}\n",
    "        \n",
    "        for variant in variants:\n",
    "            for status_vax in stati_vax:\n",
    "                \n",
    "                for past in past_infection[variant]:\n",
    "                    strain = past+variant+'_'+status_vax\n",
    "                \n",
    "                    u[key][strain] = [0]*ages\n",
    "                    \n",
    "                    if key == 'R':\n",
    "                        u['R']['delta-waned_'+status_vax] = [0]*ages\n",
    "\n",
    "    for c in result.keys():\n",
    "        #e.g. result['I_p'] is a dictionary with two keys, wild and VOC\n",
    "        #result['I_p']['Alpha_dose0'] is an array with length = t_stop\n",
    "        #each elements is a list with length = ages\n",
    "        #result['I_p']['Alpha_dose0'] is initialized with zeros\n",
    "        #I insert in the first position the list [0,0,I_iniz,0] which indicates the initial condition\n",
    "        if c not in ['t','S','R','N_tot','Y_V']:\n",
    "            for variant in variants:\n",
    "                for status_vax in stati_vax:\n",
    "                    for past in past_infection[variant]:\n",
    "                        strain = past+variant+'_'+status_vax\n",
    "                        result[c][strain][0] = u[c][strain]\n",
    "        elif c == 'R':\n",
    "            for variant in variants:\n",
    "                for status_vax in stati_vax:\n",
    "                    for past in past_infection[variant]:\n",
    "                        strain = past+variant+'_'+status_vax\n",
    "                        result[c][strain][0] = u[c][strain]\n",
    "                    result['R']['delta-waned_'+status_vax][0] = u['R']['delta-waned_'+status_vax]\n",
    "                    \n",
    "        elif c =='S':\n",
    "            for status_vax in stati_vax:\n",
    "                result[c][status_vax][0] = u[c][status_vax]\n",
    "        elif c=='Y_V':\n",
    "            for status_vax in stati_vax:\n",
    "                if status_vax != 'dose0':\n",
    "                    result[c][status_vax][0] = u[c][status_vax]\n",
    "        else:\n",
    "            result[c][0] = u[c]\n",
    "    \n",
    "    for j in range(1,tf):\n",
    "        #j is the time index\n",
    "        u = seir(u,parms,t[j],intervention, LD, TW, scale1,scale2,\n",
    "                 BS_wd,BS_wd_as, BS_wd_t, BS_wd_s,\n",
    "                 LD_wd,LD_wd_as, LD_wd_t, LD_wd_s,\n",
    "                 TW_wd,TW_wd_as, TW_wd_t, TW_wd_s,\n",
    "                 projections, proj_scenario,numero_run,\n",
    "                 ordered_run_initialization)\n",
    "        \n",
    "        for c in result.keys():#list of compartments\n",
    "            #I insert in position j the list [x,x,x,x] which indicates number of individuals\n",
    "            #in compartment c with strain at the timestep j\n",
    "            if c not in ['t','S','R','N_tot','Y_V']:\n",
    "                for variant in variants:\n",
    "                    for status_vax in stati_vax:\n",
    "                        for past in past_infection[variant]:\n",
    "                            strain = past+variant+'_'+status_vax\n",
    "                            result[c][strain][j] = u[c][strain]\n",
    "            elif c == 'R':\n",
    "                for variant in variants:\n",
    "                    for status_vax in stati_vax:\n",
    "                        for past in past_infection[variant]:\n",
    "                            strain = past+variant+'_'+status_vax\n",
    "                            result[c][strain][j] = u[c][strain]\n",
    "                        result['R']['delta-waned_'+status_vax][j] = u['R']['delta-waned_'+status_vax]\n",
    "            elif c =='S':\n",
    "                for status_vax in stati_vax:\n",
    "                    result[c][status_vax][j] = u[c][status_vax]\n",
    "                \n",
    "            elif c=='Y_V':\n",
    "                for status_vax in stati_vax:\n",
    "                    if status_vax != 'dose0':\n",
    "                        result[c][status_vax][j] = u[c][status_vax]\n",
    "            else:\n",
    "                result[c][j] = u[c]\n",
    "                \n",
    "    return result\n",
    "\n",
    "def run_simulation(beta,lag, fast_code, ordered_run_initialization, intervention = False, \n",
    "                   LD = [[0,0]], TW = 0,\n",
    "                   scale1=0,scale2=0,\n",
    "                   x_test_a=0,x_test_s=0, \n",
    "                   projections = False, proj_scenario = 'none'):\n",
    "    \n",
    "    #read matrices\n",
    "    \n",
    "    #prelockdown\n",
    "    BS_wd_h = pd.read_table(initial_path2+'/matrices/base_wd.txt', header = None, sep=' ')\n",
    " \n",
    "    #lockdown\n",
    "    LD_wd_h = pd.read_table(initial_path2+'/matrices/0_LD1_with_SPC_SI50%/LD_region_'+str(reg)+'_with_SPC_SI{}.txt'.format(senior_isolation), \n",
    "                            header = None, sep=' ')\n",
    "    \n",
    "    #post-lockdown\n",
    "    \n",
    "    TW_wd_h={}\n",
    "    \n",
    "    TW_wd={}\n",
    "    TW_wd_as={}\n",
    "    TW_wd_t={}\n",
    "    TW_wd_s={}\n",
    "\n",
    "    #weeks should goes from 20 (w20 = May 11 - May 18) to ....\n",
    "    for week in weeks:\n",
    "        if week<=26:\n",
    "            path_POST_LD=initial_path2+'/matrices/1_exit-holidays_w4344_holiday_matrix_SI0_new-fit-phys/matrix_reg{}_week{}_SI0.0.txt'.format(reg,week)\n",
    "            TW_wd_h[week]=pd.read_table(path_POST_LD, header = None, sep=' ')\n",
    "        elif week>26 and week<=35:\n",
    "            path_POST_LD=initial_path2+'/matrices/1_exit-holidays_w4344_holiday_matrix_SI0_new-fit-phys/matrix_reg{}_week{}_SI0.0.txt'.format(reg,week)\n",
    "            TW_wd_h[week]=pd.read_table(path_POST_LD, header = None, sep=' ')           \n",
    "        elif week>35 and week<=44:\n",
    "            path_POST_LD=initial_path2+'/matrices/1_exit-holidays_w4344_holiday_matrix_SI0_new-fit-phys/matrix_reg{}_week{}_SI0.0.txt'.format(reg,week)\n",
    "            TW_wd_h[week]=pd.read_table(path_POST_LD, header = None, sep=' ')\n",
    "        elif week in [45,46,47]:\n",
    "            path_POST_LD=initial_path2+'/matrices/2_LD2_SI0_new-fit-phys/matrix_reg{}_SI0.0_LD2_SOall_89_avoidance_mobredgoogle_avg4547.txt'.format(reg)\n",
    "            TW_wd_h[week]=pd.read_table(path_POST_LD, header = None, sep=' ')\n",
    "        elif week in [48, 49, 50, 51]:\n",
    "            path_POST_LD=initial_path2+'/matrices/2_LD2_SI0_new-fit-phys/matrix_reg{}_SI0.0_LD2_SOall_fit_avoidance_week{}.txt'.format(reg, week)\n",
    "            TW_wd_h[week]=pd.read_table(path_POST_LD, header = None, sep=' ')  \n",
    "        elif week in [52, 53]: ####(ttt>=52)\n",
    "            path_POST_LD=initial_path2+'/matrices/3_christmas_holidays_w52-53_v2_SI0_new-fit-phys/matrix_reg{}_SI0.0_xmas_fit_avoidance_week{}.txt'.format(reg, week)\n",
    "            TW_wd_h[week]=pd.read_table(path_POST_LD, header = None, sep=' ')  \n",
    "        elif week in [54,55,56,57,58]:\n",
    "            path_matrix=initial_path2+'/matrices/4_postLD2_SI0_new-fit-phys/matrix_reg{}_SI0.0_LD2_SOall_fit_avoidance_week{}.txt'.format(reg, week-53)\n",
    "            TW_wd_h[week]=pd.read_table(path_matrix, header = None, sep=' ') \n",
    "        elif week in [53+6, 53+7, 53+8, 53+9]:\n",
    "            path_matrix=initial_path2+'/matrices/5_winter_holidays_SI0_new-fit-phys/matrix_reg{}_SI0.0_fit_avoidance_week{}_leisure-other.txt'.format(reg, week-53)\n",
    "            TW_wd_h[week]=pd.read_table(path_matrix, header = None, sep=' ') \n",
    "        elif week in [53+10, 53+11, 53+12, 53+13]:\n",
    "            path_matrix=initial_path2+'/matrices/4_postLD2_SI0_new-fit-phys/matrix_reg{}_SI0.0_LD2_SOall_fit_avoidance_week{}.txt'.format(reg, week-53)\n",
    "            TW_wd_h[week]=pd.read_table(path_matrix, header = None, sep=' ')       \n",
    "        elif week in [53+14]:\n",
    "            # one week of schools closed (remote school)\n",
    "            path_matrix=initial_path2+'/matrices/6_spring_holidays_SI0_new-fit-phys/matrix_reg{}_SI0.0_fit_avoidance_week{}_remote_school.txt'.format(reg, week-53)\n",
    "            TW_wd_h[week]=pd.read_table(path_matrix, header = None, sep=' ')  \n",
    "        elif week in [53+15, 53+16]:\n",
    "            # two weeks of school holidays\n",
    "            path_matrix=initial_path2+'/matrices/6_spring_holidays_SI0_new-fit-phys/matrix_reg{}_SI0.0_fit_avoidance_week{}_spring_holidays.txt'.format(reg, week-53)\n",
    "            TW_wd_h[week]=pd.read_table(path_matrix, header = None, sep=' ')  \n",
    "        elif week in [53+17]:\n",
    "            # one week of remote school for teenagers only (childre 100% in school)\n",
    "            path_matrix=initial_path2+'/matrices/6_spring_holidays_SI0_new-fit-phys/matrix_reg{}_SI0.0_fit_avoidance_week{}_teens-remote.txt'.format(reg, week-53)\n",
    "            TW_wd_h[week]=pd.read_table(path_matrix, header = None, sep=' ')  \n",
    "        elif week >= 53+18 and week <=53+26:\n",
    "            path_matrix=initial_path2+'/matrices/4_postLD2_SI0_new-fit-phys/matrix_reg{}_SI0.0_LD2_SOall_fit_avoidance_week{}_100%-leisure-other.txt'.format(reg, week-53)\n",
    "            TW_wd_h[week]=pd.read_table(path_matrix, header = None, sep=' ')  \n",
    "        elif (week >= 53+27 and week <= 53+34):\n",
    "            path_matrix=initial_path2+'/matrices/7_summer+rentree_2021/summer_matrix_reg{}_week{}_SI0.0_100%_leisure_other.txt'.format(reg, week-53)\n",
    "            TW_wd_h[week]=pd.read_table(path_matrix, header = None, sep=' ')    \n",
    "        elif (week >= 53+35 and week <= 53+42):  ### rentree\n",
    "            path_matrix=initial_path2+'/matrices/7_summer+rentree_2021/rentree_matrix_reg{}_week{}_SI0.0_100%_leisure_other.txt'.format(reg, week-53)\n",
    "            TW_wd_h[week]=pd.read_table(path_matrix, header = None, sep=' ')     \n",
    "        elif week in [53+43,53+44]:  ### school holidays\n",
    "            path_matrix=initial_path2+'/matrices/7_summer+rentree_2021/matrix_school_holidays_reg{}_week43_SI0.0_100%-leisure-other.txt'.format(reg)\n",
    "            TW_wd_h[week]=pd.read_table(path_matrix, header = None, sep=' ')            \n",
    "        elif week in [53+45, 53+46, 53+47, 53+48, 53+49, 53+50]:\n",
    "            path_matrix=initial_path2+'/matrices/7_summer+rentree_2021/rentree_matrix_reg{}_week{}_SI0.0_100%_leisure_other.txt'.format(reg, week-53)\n",
    "            TW_wd_h[week]=pd.read_table(path_matrix, header = None, sep=' ')    \n",
    "        elif week in [53+51, 53+52]:\n",
    "            path_matrix=initial_path2+'/matrices/8_christmas_holidays_2021/matrix_reg{}_SI0.0_xmas_fit_avoidance_week{}_100%leisure-other.txt'.format(reg, week-53)\n",
    "            TW_wd_h[week]=pd.read_table(path_matrix, header = None, sep=' ') \n",
    "        elif (week >= 53+52+1 and week <= 53+52+5):\n",
    "            path_matrix=initial_path2+'/matrices/9_matrices_2022/rentree_matrix_reg{}_week{}_SI0.0_100%_leisure_other.txt'.format(reg, week-53-52)\n",
    "            TW_wd_h[week]=pd.read_table(path_matrix, header = None, sep=' ') \n",
    "        elif week in [53+52+6,53+52+7,53+52+8,53+52+9]:\n",
    "            path_matrix=initial_path2+'/matrices/10_winter-spring-holidays_2022/matrix_reg{}_SI0.0_week{}_100%_leisure-other.txt'.format(reg, week-53-52)\n",
    "            TW_wd_h[week]=pd.read_table(path_matrix, header = None, sep=' ')  \n",
    "        elif (week >= 53+52+10 and week <= 53+52+14):\n",
    "            path_matrix=initial_path2+'/matrices/9_matrices_2022/rentree_matrix_reg{}_week{}_SI0.0_100%_leisure_other.txt'.format(reg, week-53-52)\n",
    "            TW_wd_h[week]=pd.read_table(path_matrix, header = None, sep=' ')            \n",
    "        elif week in [53+52+15,53+52+16,53+52+17,53+52+18]:\n",
    "            path_matrix=initial_path2+'/matrices/10_winter-spring-holidays_2022/matrix_reg{}_SI0.0_week{}_100%_leisure-other.txt'.format(reg, week-53-52)\n",
    "            TW_wd_h[week]=pd.read_table(path_matrix, header = None, sep=' ')\n",
    "        elif week in [53+52+19, 53+52+20]:\n",
    "            path_matrix=initial_path2+'/matrices/9_matrices_2022/rentree_matrix_reg{}_week{}_SI0.0_100%_leisure_other.txt'.format(reg, week-53-52)\n",
    "            TW_wd_h[week]=pd.read_table(path_matrix, header = None, sep=' ')   \n",
    "        else:\n",
    "            sys.exit()  \n",
    "    \n",
    "    #old notation: TW = [[0 for col in range(2)] for row in range(len(weeks))]\n",
    "    TW = {}\n",
    "    for week in weeks:\n",
    "        TW[week] = [0,0]\n",
    "        \n",
    "    one_week = 7\n",
    "    \n",
    "    for i, week in enumerate(weeks):\n",
    "        TW[week][0] = i*one_week+1\n",
    "        TW[week][1] = (i+1)*one_week+1\n",
    "\n",
    "    \n",
    "    for week in weeks:\n",
    "        TW_wd[week], TW_wd_as[week], TW_wd_t[week], TW_wd_s[week] = extract_matrix(TW_wd_h[week],\n",
    "                                                                                   x_test_a=x_test_a[week],\n",
    "                                                                                   x_test_s=x_test_s[week])\n",
    "        \n",
    "    #path_matrix=initial_path2+'/matrices/exit-holidays_w4344_holiday_matrix/matrix_reg{}_week{}_SI0.0.txt'.format(reg,week_summer)\n",
    "    #TW_wd_h['summer']=pd.read_table(path_matrix, header = None, sep=' ')\n",
    "    #TW_wd['summer'], TW_wd_as['summer'], TW_wd_t['summer'], TW_wd_s['summer'] = extract_matrix(TW_wd_h['summer'],\n",
    "    #                                                                           x_test_a=x_test_a[week_summer],\n",
    "    #                                                                           x_test_s=x_test_s[week_summer])\n",
    "\n",
    "\n",
    "    BS_wd,BS_wd_as, BS_wd_t, BS_wd_s = extract_matrix(BS_wd_h,x_test_a=0,x_test_s=0)\n",
    "    LD_wd,LD_wd_as, LD_wd_t, LD_wd_s = extract_matrix(LD_wd_h,x_test_a=0,x_test_s=0)\n",
    "        \n",
    "    #initialize dataframes to contain the results of each simulation\n",
    "    \n",
    "    \n",
    "    if fast_code == True:\n",
    "        out_HU = {}\n",
    "        out_cases = {}\n",
    "        out_N = pd.DataFrame(np.arange(t_stop))\n",
    "\n",
    "        for variant in variants:\n",
    "            for status_vax in stati_vax:\n",
    "                for past in past_infection[variant]:\n",
    "                    strain = past+variant+'_'+status_vax\n",
    "                    out_HU[strain]= pd.DataFrame(np.arange(t_stop))\n",
    "                    out_cases[strain]= pd.DataFrame(np.arange(t_stop))\n",
    "\n",
    "        #for each run\n",
    "        for n in range(n_runs):\n",
    "            out = simulate(beta,lag,intervention, LD, TW, scale1,scale2,\n",
    "                           BS_wd,BS_wd_as, BS_wd_t, BS_wd_s,\n",
    "                           LD_wd,LD_wd_as, LD_wd_t, LD_wd_s,\n",
    "                           TW_wd,TW_wd_as, TW_wd_t, TW_wd_s,\n",
    "                           projections, proj_scenario,n,\n",
    "                           ordered_run_initialization)                        \n",
    "\n",
    "            for variant in variants:\n",
    "                for status_vax in stati_vax:\n",
    "                    for past in past_infection[variant]:\n",
    "                        strain = past+variant+'_'+status_vax\n",
    "                        out_HU[strain][n] = pd.DataFrame(out['Y_H'][strain]).sum(axis=1)\n",
    "                        out_cases[strain][n] = pd.DataFrame(out['Y_I_as'][strain]).sum(axis=1)+pd.DataFrame(out['Y_I_ps'][strain]).sum(axis=1)+pd.DataFrame(out['Y_I_ms'][strain]).sum(axis=1)+pd.DataFrame(out['Y_I_ss'][strain]).sum(axis=1)\n",
    "            \n",
    "            out_N[n] = pd.DataFrame(out['N_tot']).sum(axis=1)\n",
    "\n",
    "\n",
    "        return {'new_H':out_HU,'new_cases': out_cases, 'pop': out_N}\n",
    "    \n",
    "    else:\n",
    "        ## save more outputs\n",
    "\n",
    "        out_prev_comp = {}\n",
    "\n",
    "        for age in range(ages):\n",
    "            for ccc in ['S', 'E', 'I_p', 'I_as', 'I_ps', 'I_ms', 'I_ss', 'W', 'H', 'R']:\n",
    "                for variant in variants:\n",
    "                    for status_vax in stati_vax:\n",
    "                        for past in past_infection[variant]:\n",
    "                            if ccc!='S':\n",
    "                                strain = past+variant+'_'+status_vax\n",
    "                                compart = '{}_age{}_{}'.format(ccc,age,strain)\n",
    "                                out_prev_comp[compart]=pd.DataFrame(np.arange(t_stop))\n",
    "                            else:\n",
    "                                strain = status_vax\n",
    "                                compart = '{}_age{}_{}'.format(ccc,age,strain)\n",
    "                                out_prev_comp[compart]=pd.DataFrame(np.arange(t_stop))        \n",
    "\n",
    "        out_E = {}\n",
    "        out_I_p = {}\n",
    "        out_I_as = {}\n",
    "        out_I_ps = {}\n",
    "        out_I_ms = {}\n",
    "        out_I_ss = {}\n",
    "        out_HU = {}\n",
    "        out_symp = {}\n",
    "        out_asym = {}\n",
    "        out_cases = {}\n",
    "\n",
    "        for variant in variants:\n",
    "            for status_vax in stati_vax:\n",
    "                for past in past_infection[variant]:\n",
    "                    strain = past+variant+'_'+status_vax\n",
    "                    out_E[strain]= pd.DataFrame(np.arange(t_stop))\n",
    "                    out_I_p[strain]= pd.DataFrame(np.arange(t_stop))\n",
    "                    out_I_as[strain]= pd.DataFrame(np.arange(t_stop))\n",
    "                    out_I_ps[strain]= pd.DataFrame(np.arange(t_stop))\n",
    "                    out_I_ms[strain]= pd.DataFrame(np.arange(t_stop))\n",
    "                    out_I_ss[strain]= pd.DataFrame(np.arange(t_stop))\n",
    "                    out_HU[strain]= pd.DataFrame(np.arange(t_stop))\n",
    "                    out_symp[strain]= pd.DataFrame(np.arange(t_stop))\n",
    "                    out_asym[strain]= pd.DataFrame(np.arange(t_stop))\n",
    "                    out_cases[strain]= pd.DataFrame(np.arange(t_stop))\n",
    "\n",
    "        ################ NEW ########################################################\n",
    "        out_Y_E_ch = pd.DataFrame(np.arange(t_stop))\n",
    "        out_Y_E_teen = pd.DataFrame(np.arange(t_stop))\n",
    "        out_Y_E_adu = pd.DataFrame(np.arange(t_stop))\n",
    "        out_Y_E_sen = pd.DataFrame(np.arange(t_stop))\n",
    "        out_Y_E_all = pd.DataFrame(np.arange(t_stop))\n",
    "\n",
    "        out_Y_E_ch_first = pd.DataFrame(np.arange(t_stop))\n",
    "        out_Y_E_teen_first = pd.DataFrame(np.arange(t_stop))\n",
    "        out_Y_E_adu_first = pd.DataFrame(np.arange(t_stop))\n",
    "        out_Y_E_sen_first = pd.DataFrame(np.arange(t_stop))\n",
    "        out_Y_E_all_first = pd.DataFrame(np.arange(t_stop))\n",
    "\n",
    "        out_Y_E_ch_first_by_variant = {} \n",
    "        out_Y_E_teen_first_by_variant = {} \n",
    "        out_Y_E_adu_first_by_variant = {} \n",
    "        out_Y_E_sen_first_by_variant = {} \n",
    "        out_Y_E_all_first_by_variant = {} \n",
    "\n",
    "        for variant in variants:\n",
    "            for past in ['']:\n",
    "                strain = past+variant\n",
    "                out_Y_E_ch_first_by_variant[strain] = pd.DataFrame(np.arange(t_stop))\n",
    "                out_Y_E_teen_first_by_variant[strain] = pd.DataFrame(np.arange(t_stop))\n",
    "                out_Y_E_adu_first_by_variant[strain] = pd.DataFrame(np.arange(t_stop))\n",
    "                out_Y_E_sen_first_by_variant[strain] = pd.DataFrame(np.arange(t_stop))\n",
    "                out_Y_E_all_first_by_variant[strain] = pd.DataFrame(np.arange(t_stop))           \n",
    "\n",
    "        out_Y_E_ch_second = pd.DataFrame(np.arange(t_stop))\n",
    "        out_Y_E_teen_second = pd.DataFrame(np.arange(t_stop))\n",
    "        out_Y_E_adu_second = pd.DataFrame(np.arange(t_stop))\n",
    "        out_Y_E_sen_second = pd.DataFrame(np.arange(t_stop))\n",
    "        out_Y_E_all_second = pd.DataFrame(np.arange(t_stop))\n",
    "\n",
    "        out_Y_H_ch = pd.DataFrame(np.arange(t_stop))\n",
    "        out_Y_H_teen = pd.DataFrame(np.arange(t_stop))\n",
    "        out_Y_H_adu = pd.DataFrame(np.arange(t_stop))\n",
    "        out_Y_H_sen = pd.DataFrame(np.arange(t_stop))\n",
    "        out_Y_H_all = pd.DataFrame(np.arange(t_stop))\n",
    "\n",
    "        out_Y_E_by_vax = {}\n",
    "        out_Y_H_by_vax = {}\n",
    "        \n",
    "        out_Y_E_by_vax_age = {}\n",
    "        out_Y_H_by_vax_age = {}\n",
    "        out_Y_Ias_by_vax_age = {}\n",
    "        out_Y_Ips_by_vax_age = {} \n",
    "        out_Y_Ims_by_vax_age = {}\n",
    "        out_Y_Iss_by_vax_age = {} \n",
    "\n",
    "        for status_vax in stati_vax:\n",
    "            out_Y_E_by_vax[status_vax]=pd.DataFrame(np.arange(t_stop))\n",
    "            out_Y_H_by_vax[status_vax]=pd.DataFrame(np.arange(t_stop))\n",
    "            \n",
    "        for variant in variants:\n",
    "            for status_vax in stati_vax:\n",
    "                for past in past_infection[variant]:\n",
    "                    strain = past+variant+'_'+status_vax   \n",
    "                    for age in range(ages):\n",
    "                            age = str(age)\n",
    "                            out_Y_E_by_vax_age[strain+'_'+age]=pd.DataFrame(np.arange(t_stop))\n",
    "                            out_Y_H_by_vax_age[strain+'_'+age]=pd.DataFrame(np.arange(t_stop))\n",
    "                            out_Y_Ias_by_vax_age[strain+'_'+age]=pd.DataFrame(np.arange(t_stop))\n",
    "                            out_Y_Ips_by_vax_age[strain+'_'+age]=pd.DataFrame(np.arange(t_stop))\n",
    "                            out_Y_Ims_by_vax_age[strain+'_'+age]=pd.DataFrame(np.arange(t_stop))\n",
    "                            out_Y_Iss_by_vax_age[strain+'_'+age]=pd.DataFrame(np.arange(t_stop))\n",
    "\n",
    "        out_N = pd.DataFrame(np.arange(t_stop))\n",
    "        out_S = pd.DataFrame(np.arange(t_stop))\n",
    "\n",
    "        perc_vax_sen = {}\n",
    "        perc_vax_adu = {}\n",
    "        perc_vax_teen = {}\n",
    "\n",
    "        new_vax_teen = {}\n",
    "        new_vax_adu = {}\n",
    "        new_vax_sen = {}\n",
    "\n",
    "        for status_vax in stati_vax:\n",
    "            perc_vax_sen[status_vax] = pd.DataFrame(np.arange(t_stop))\n",
    "            perc_vax_adu[status_vax] = pd.DataFrame(np.arange(t_stop))\n",
    "            perc_vax_teen[status_vax] = pd.DataFrame(np.arange(t_stop))\n",
    "\n",
    "            new_vax_sen[status_vax] = pd.DataFrame(np.arange(t_stop))\n",
    "            new_vax_adu[status_vax] = pd.DataFrame(np.arange(t_stop))\n",
    "            new_vax_teen[status_vax] = pd.DataFrame(np.arange(t_stop))\n",
    "\n",
    "        #for each run\n",
    "        for n in range(n_runs):\n",
    "            out = simulate(beta,lag,intervention, LD, TW, scale1,scale2,\n",
    "                           BS_wd,BS_wd_as, BS_wd_t, BS_wd_s,\n",
    "                           LD_wd,LD_wd_as, LD_wd_t, LD_wd_s,\n",
    "                           TW_wd,TW_wd_as, TW_wd_t, TW_wd_s,\n",
    "                           projections, proj_scenario,n,\n",
    "                           ordered_run_initialization)\n",
    "\n",
    "            # extract quantities of interest, e.g. number of recovered or incidence\n",
    "            # save the timeseries in the column of a dataframe    \n",
    "            # save the timeseries in the column of a dataframe   \n",
    "\n",
    "            for age in range(ages):\n",
    "                for ccc in ['S', 'E', 'I_p', 'I_as', 'I_ps', 'I_ms', 'I_ss', 'W', 'H', 'R']:\n",
    "                    for variant in variants:\n",
    "                        for status_vax in stati_vax:\n",
    "                            for past in past_infection[variant]:\n",
    "                                if ccc!='S':\n",
    "                                    strain = past+variant+'_'+status_vax\n",
    "                                    compart = '{}_age{}_{}'.format(ccc,age,strain)\n",
    "                                    out_prev_comp[compart][n]=pd.DataFrame(out[ccc][strain])[age]\n",
    "                                else:\n",
    "                                    strain = status_vax\n",
    "                                    compart = '{}_age{}_{}'.format(ccc,age,strain)\n",
    "                                    out_prev_comp[compart][n]=pd.DataFrame(out[ccc][strain])[age]\n",
    "\n",
    "\n",
    "            for variant in variants:\n",
    "                for status_vax in stati_vax:\n",
    "                    for past in past_infection[variant]:\n",
    "                        strain = past+variant+'_'+status_vax\n",
    "                        out_E[strain][n] = pd.DataFrame(out['Y_E'][strain]).sum(axis=1)\n",
    "                        out_I_as[strain][n] = pd.DataFrame(out['Y_I_as'][strain]).sum(axis=1)\n",
    "                        out_I_ps[strain][n] = pd.DataFrame(out['Y_I_ps'][strain]).sum(axis=1)\n",
    "                        out_I_ms[strain][n] = pd.DataFrame(out['Y_I_ms'][strain]).sum(axis=1)\n",
    "                        out_I_ss[strain][n] = pd.DataFrame(out['Y_I_ss'][strain]).sum(axis=1)\n",
    "                        out_HU[strain][n] = pd.DataFrame(out['Y_H'][strain]).sum(axis=1)\n",
    "\n",
    "                        out_asym[strain][n] = out_I_as[strain][n]\n",
    "                        out_symp[strain][n] = out_I_ps[strain][n]+out_I_ms[strain][n]+out_I_ss[strain][n]\n",
    "                        out_cases[strain][n] = out_asym[strain][n] + out_symp[strain][n]\n",
    "\n",
    "            out_N[n] = pd.DataFrame(out['N_tot']).sum(axis=1)\n",
    "\n",
    "            for status_vax in stati_vax:\n",
    "\n",
    "                summ = out['S'][status_vax].copy()\n",
    "                for variant in variants:\n",
    "                    for past in past_infection[variant]:\n",
    "                        strain = past+variant+'_'+status_vax\n",
    "                        summ += out['E'][strain]+out['I_p'][strain]+out['I_as'][strain]+out['I_ps'][strain]+out['I_ms'][strain]+out['I_ss'][strain]+out['H'][strain]+out['W'][strain]+out['R'][strain]\n",
    "\n",
    "                perc_vax_teen[status_vax][n] = pd.DataFrame(summ)[1]/N_t\n",
    "                perc_vax_adu[status_vax][n] = pd.DataFrame(summ)[2]/N_a\n",
    "                perc_vax_sen[status_vax][n] = pd.DataFrame(summ)[3]/N_s\n",
    "\n",
    "                if status_vax != 'dose0':\n",
    "\n",
    "                    new_vax_teen[status_vax][n] = 100*pd.DataFrame(out['Y_V'][status_vax])[1]/N_t\n",
    "                    new_vax_adu[status_vax][n] = 100*pd.DataFrame(out['Y_V'][status_vax])[2]/N_a\n",
    "                    new_vax_sen[status_vax][n] = 100*pd.DataFrame(out['Y_V'][status_vax])[3]/N_s\n",
    "\n",
    "            out_Y_E_ch[n] = 0\n",
    "            out_Y_E_teen[n] = 0\n",
    "            out_Y_E_adu[n] = 0\n",
    "            out_Y_E_sen[n] = 0\n",
    "            out_Y_E_all[n] = 0\n",
    "\n",
    "            out_Y_E_ch_first[n] = 0\n",
    "            out_Y_E_teen_first[n] = 0\n",
    "            out_Y_E_adu_first[n] = 0\n",
    "            out_Y_E_sen_first[n] = 0\n",
    "            out_Y_E_all_first[n] = 0\n",
    "\n",
    "            for variant in variants:\n",
    "                for past in ['']:\n",
    "                    strain = past+variant\n",
    "                    out_Y_E_ch_first_by_variant[strain][n] = 0\n",
    "                    out_Y_E_teen_first_by_variant[strain][n] = 0\n",
    "                    out_Y_E_adu_first_by_variant[strain][n] = 0\n",
    "                    out_Y_E_sen_first_by_variant[strain][n] = 0\n",
    "                    out_Y_E_all_first_by_variant[strain][n] = 0             \n",
    "\n",
    "            out_Y_E_ch_second[n] = 0\n",
    "            out_Y_E_teen_second[n] = 0\n",
    "            out_Y_E_adu_second[n] = 0\n",
    "            out_Y_E_sen_second[n] = 0\n",
    "            out_Y_E_all_second[n] = 0\n",
    "\n",
    "            out_Y_H_ch[n] = 0\n",
    "            out_Y_H_teen[n] = 0\n",
    "            out_Y_H_adu[n] = 0\n",
    "            out_Y_H_sen[n] = 0\n",
    "            out_Y_H_all[n] = 0\n",
    "\n",
    "            for variant in variants:\n",
    "                for status_vax in stati_vax:\n",
    "                    for past in past_infection[variant]:\n",
    "                        strain = past+variant+'_'+status_vax  \n",
    "\n",
    "                        out_Y_E_ch[n] += pd.DataFrame(out['Y_E'][strain])[0]\n",
    "                        out_Y_E_teen[n] += pd.DataFrame(out['Y_E'][strain])[1]\n",
    "                        out_Y_E_adu[n] += pd.DataFrame(out['Y_E'][strain])[2]\n",
    "                        out_Y_E_sen[n] += pd.DataFrame(out['Y_E'][strain])[3]\n",
    "                        out_Y_E_all[n] += pd.DataFrame(out['Y_E'][strain]).sum(axis=1)\n",
    "\n",
    "                        out_Y_H_ch[n] += pd.DataFrame(out['Y_H'][strain])[0]\n",
    "                        out_Y_H_teen[n] += pd.DataFrame(out['Y_H'][strain])[1]\n",
    "                        out_Y_H_adu[n] += pd.DataFrame(out['Y_H'][strain])[2]\n",
    "                        out_Y_H_sen[n] += pd.DataFrame(out['Y_H'][strain])[3]\n",
    "                        out_Y_H_all[n] += pd.DataFrame(out['Y_H'][strain]).sum(axis=1)\n",
    "                        \n",
    "                        for age in range(ages):\n",
    "                            age = str(age)\n",
    "                            out_Y_E_by_vax_age[strain+'_'+age][n] = pd.DataFrame(out['Y_E'][strain])[int(age)]\n",
    "                            out_Y_H_by_vax_age[strain+'_'+age][n]= pd.DataFrame(out['Y_H'][strain])[int(age)]\n",
    "                            out_Y_Ias_by_vax_age[strain+'_'+age][n]=pd.DataFrame(out['Y_I_as'][strain])[int(age)]\n",
    "                            out_Y_Ips_by_vax_age[strain+'_'+age][n]=pd.DataFrame(out['Y_I_ps'][strain])[int(age)]\n",
    "                            out_Y_Ims_by_vax_age[strain+'_'+age][n]=pd.DataFrame(out['Y_I_ms'][strain])[int(age)]\n",
    "                            out_Y_Iss_by_vax_age[strain+'_'+age][n]=pd.DataFrame(out['Y_I_ss'][strain])[int(age)]\n",
    "\n",
    "            for variant in variants:\n",
    "                for status_vax in stati_vax:\n",
    "                    for past in ['']:\n",
    "                        strain = past+variant+'_'+status_vax  \n",
    "                        out_Y_E_ch_first[n] += pd.DataFrame(out['Y_E'][strain])[0]\n",
    "                        out_Y_E_teen_first[n] += pd.DataFrame(out['Y_E'][strain])[1]\n",
    "                        out_Y_E_adu_first[n] += pd.DataFrame(out['Y_E'][strain])[2]\n",
    "                        out_Y_E_sen_first[n] += pd.DataFrame(out['Y_E'][strain])[3]\n",
    "                        out_Y_E_all_first[n] += pd.DataFrame(out['Y_E'][strain]).sum(axis=1)\n",
    "\n",
    "                        variant = past+variant\n",
    "                        out_Y_E_ch_first_by_variant[variant][n] += pd.DataFrame(out['Y_E'][strain])[0]\n",
    "                        out_Y_E_teen_first_by_variant[variant][n] += pd.DataFrame(out['Y_E'][strain])[1]\n",
    "                        out_Y_E_adu_first_by_variant[variant][n] += pd.DataFrame(out['Y_E'][strain])[2]\n",
    "                        out_Y_E_sen_first_by_variant[variant][n] += pd.DataFrame(out['Y_E'][strain])[3]\n",
    "                        out_Y_E_all_first_by_variant[variant][n] += pd.DataFrame(out['Y_E'][strain]).sum(axis=1)  \n",
    "\n",
    "            for variant in [variants[1]]:\n",
    "                for status_vax in stati_vax:        \n",
    "                    for past in ['delta-', 'delta-waned-', 'omicron-']:\n",
    "                        strain = past+variant+'_'+status_vax  \n",
    "                        out_Y_E_ch_second[n] += pd.DataFrame(out['Y_E'][strain])[0]\n",
    "                        out_Y_E_teen_second[n] += pd.DataFrame(out['Y_E'][strain])[1]\n",
    "                        out_Y_E_adu_second[n] += pd.DataFrame(out['Y_E'][strain])[2]\n",
    "                        out_Y_E_sen_second[n] += pd.DataFrame(out['Y_E'][strain])[3]\n",
    "                        out_Y_E_all_second[n] += pd.DataFrame(out['Y_E'][strain]).sum(axis=1)\n",
    "\n",
    "\n",
    "            for status_vax in stati_vax:\n",
    "                out_Y_H_by_vax[status_vax][n]=0\n",
    "                out_Y_E_by_vax[status_vax][n]=0\n",
    "                for variant in variants:\n",
    "                    for past in past_infection[variant]:\n",
    "                        strain = past+variant+'_'+status_vax  \n",
    "                        out_Y_H_by_vax[status_vax][n] += pd.DataFrame(out['Y_H'][strain]).sum(axis=1)\n",
    "                        out_Y_E_by_vax[status_vax][n] += pd.DataFrame(out['Y_E'][strain]).sum(axis=1)\n",
    "\n",
    "        return {'out_n-esima': out,\n",
    "                'perc_vax_sen': perc_vax_sen,\n",
    "                'perc_vax_adu': perc_vax_adu,\n",
    "                'perc_vax_teen': perc_vax_teen,\n",
    "                'new_vax_teen': new_vax_teen, 'new_vax_adu': new_vax_adu,'new_vax_sen': new_vax_sen,\n",
    "                'new_E': out_E, 'new_H':out_HU,\n",
    "                'new_Ias': out_I_as, 'new_Ips': out_I_ps, 'new_Ims':out_I_ms, 'new_Iss':out_I_ss,\n",
    "                'new_symp': out_symp,'new_asym': out_asym, 'new_cases': out_cases, 'pop': out_N,\n",
    "                'new_infections_ch':out_Y_E_ch, 'new_infections_teen':out_Y_E_teen, \n",
    "                'new_infections_adu':out_Y_E_adu, 'new_infections_sen':out_Y_E_sen, \n",
    "                'new_infections_all':out_Y_E_all,\n",
    "                'new_infections_ch_first':out_Y_E_ch_first, 'new_infections_teen_first':out_Y_E_teen_first, \n",
    "                'new_infections_adu_first':out_Y_E_adu_first, 'new_infections_sen_first':out_Y_E_sen_first, \n",
    "                'new_infections_all_first':out_Y_E_all_first,\n",
    "                'new_infections_ch_first_by_variant':out_Y_E_ch_first_by_variant, \n",
    "                'new_infections_teen_first_by_variant':out_Y_E_teen_first_by_variant, \n",
    "                'new_infections_adu_first_by_variant':out_Y_E_adu_first_by_variant, \n",
    "                'new_infections_sen_first_by_variant':out_Y_E_sen_first_by_variant, \n",
    "                'new_infections_all_first_by_variant':out_Y_E_all_first_by_variant,\n",
    "                'new_infections_ch_second':out_Y_E_ch_second, 'new_infections_teen_second':out_Y_E_teen_second, \n",
    "                'new_infections_adu_second':out_Y_E_adu_second, 'new_infections_sen_second':out_Y_E_sen_second, \n",
    "                'new_infections_all_second':out_Y_E_all_second,\n",
    "                'new_H_admissions_ch':out_Y_H_ch, 'new_H_admissions_teen':out_Y_H_teen, \n",
    "                'new_H_admissions_adu':out_Y_H_adu, 'new_H_admissions_sen':out_Y_H_sen, \n",
    "                'new_H_admissions_all':out_Y_H_all,\n",
    "                'new_H_by_vax': out_Y_H_by_vax, 'new_E_by_vax': out_Y_E_by_vax,\n",
    "                'new_H_by_vax_age': out_Y_H_by_vax_age, 'new_E_by_vax_age': out_Y_E_by_vax_age,\n",
    "                'new_Ias_by_vax_age': out_Y_Ias_by_vax_age, 'new_Ips_by_vax_age': out_Y_Ips_by_vax_age,\n",
    "                'new_Ims_by_vax_age': out_Y_Ims_by_vax_age, 'new_Iss_by_vax_age': out_Y_Iss_by_vax_age,\n",
    "                'prev_comp': out_prev_comp}\n",
    "\n",
    "def likelihood(beta,lag,scale1,delay,scale2,x_test_a,x_test_s,time1,time2, fast_code, ordered_run_initialization):\n",
    "\n",
    "    baseline = run_simulation(beta,lag,fast_code, \n",
    "                              ordered_run_initialization,\n",
    "                              intervention=True,\n",
    "                              LD=[[-1,-1]],TW=0,\n",
    "                              scale1=scale1,scale2=scale2,\n",
    "                              x_test_a=x_test_a,x_test_s=x_test_s,\n",
    "                              projections=False,proj_scenario='no-change')\n",
    "    \n",
    "    bb = pd.DataFrame(0, index=np.arange(t_stop), columns=np.arange(n_runs))\n",
    "    for variant in variants:\n",
    "        for status_vax in stati_vax:\n",
    "            for past in past_infection[variant]:\n",
    "                strain = past+variant+'_'+status_vax\n",
    "                bb += baseline['new_H'][strain]\n",
    "\n",
    "    median_adm = add_median_CI(bb)['median']\n",
    "    \n",
    "    p=0\n",
    "    for t in range(len(H_adm_cut[H_adm_cut['abs_week']<time1]),len(H_adm_cut[H_adm_cut['abs_week']<=time2]),1):\n",
    "        if median_adm.iloc[lag+t]!=0:\n",
    "            p += poisson.logpmf(np.around(H_adm_cut['hosp_pred'].iloc[t]), mu=np.around(median_adm.iloc[lag+t]))\n",
    "        else: \n",
    "            p += poisson.logpmf(H_adm_cut['hosp_pred'].iloc[t], mu=0.1) \n",
    "    return p"
   ]
  },
  {
   "cell_type": "code",
   "execution_count": 3,
   "metadata": {},
   "outputs": [],
   "source": [
    "codice_regione = 'France'\n",
    "\n",
    "reg = codice_regione"
   ]
  },
  {
   "cell_type": "markdown",
   "metadata": {},
   "source": [
    "# set names of variants and vaccination status"
   ]
  },
  {
   "cell_type": "code",
   "execution_count": 4,
   "metadata": {},
   "outputs": [],
   "source": [
    "variants = ['delta', 'omicron']\n",
    "stati_vax = ['dose0', 'dose1', \n",
    "             'dose2-full', 'dose2-waned-1','dose2-waned-2','dose2-waned-3',\n",
    "             'dose3-full', 'dose3-waned-1', 'dose3-waned-2', 'dose3-waned-3']\n",
    "\n",
    "past_infection = {'delta': [''], 'omicron': ['','delta-',\n",
    "                                                'delta-waned-',\n",
    "                                                'omicron-']}\n",
    "\n",
    "for variant in variants:\n",
    "    for past in past_infection[variant]:\n",
    "        for status_vax in stati_vax:\n",
    "            strain = past+variant+'_'+status_vax\n",
    "            #print(strain)\n",
    "            continue"
   ]
  },
  {
   "cell_type": "markdown",
   "metadata": {},
   "source": [
    "## INPUT"
   ]
  },
  {
   "cell_type": "code",
   "execution_count": 5,
   "metadata": {},
   "outputs": [],
   "source": [
    "#data pop and data hosp\n",
    "initial_path='./../input'\n",
    "\n",
    "#matrices\n",
    "initial_path2='./..'"
   ]
  },
  {
   "cell_type": "markdown",
   "metadata": {},
   "source": [
    "## MAIN"
   ]
  },
  {
   "cell_type": "markdown",
   "metadata": {},
   "source": [
    "### details of the simulations"
   ]
  },
  {
   "cell_type": "code",
   "execution_count": 6,
   "metadata": {},
   "outputs": [],
   "source": [
    "I_iniz = 0  # seed (adults in prodromic phase)\n",
    "\n",
    "ages = 4  #number of age classes\n",
    "\n",
    "n_runs = 500 # number of runs\n",
    "\n",
    "delta_t = 1 #timestep (days), e.g. delta_t=1 means a timestep of 1 day"
   ]
  },
  {
   "cell_type": "code",
   "execution_count": 7,
   "metadata": {},
   "outputs": [],
   "source": [
    "calibr = pd.read_csv('./../input/calibration.csv', sep = ';')"
   ]
  },
  {
   "cell_type": "code",
   "execution_count": 8,
   "metadata": {},
   "outputs": [
    {
     "data": {
      "text/plain": [
       "(0.0016, 0.0184, 0.1607)"
      ]
     },
     "execution_count": 8,
     "metadata": {},
     "output_type": "execute_result"
    }
   ],
   "source": [
    "choose = 55\n",
    "\n",
    "ss_children_input = np.around(calibr.iloc[choose].ss_children/100,4)\n",
    "ss_teens_input = np.around(calibr.iloc[choose].ss_adoles/100,4)\n",
    "ss_adults_input = np.around(calibr.iloc[choose].ss_adults/100,4)\n",
    "ss_seniors_input = np.around(calibr.iloc[choose].ss_seniors/100,4)\n",
    "\n",
    "if calibr.iloc[choose].reg!=str(reg):\n",
    "    sys.exit()\n",
    "    \n",
    "ss_teens_input, ss_adults_input, ss_seniors_input"
   ]
  },
  {
   "cell_type": "code",
   "execution_count": 9,
   "metadata": {},
   "outputs": [
    {
     "data": {
      "text/plain": [
       "0"
      ]
     },
     "execution_count": 9,
     "metadata": {},
     "output_type": "execute_result"
    }
   ],
   "source": [
    "senior_isolation = calibr.iloc[choose].SI\n",
    "senior_isolation"
   ]
  },
  {
   "cell_type": "code",
   "execution_count": 10,
   "metadata": {},
   "outputs": [
    {
     "data": {
      "text/plain": [
       "2.0"
      ]
     },
     "execution_count": 10,
     "metadata": {},
     "output_type": "execute_result"
    }
   ],
   "source": [
    "calibr.iloc[choose]['infectious-period']"
   ]
  },
  {
   "cell_type": "markdown",
   "metadata": {},
   "source": [
    "### epidemiological parameters"
   ]
  },
  {
   "cell_type": "code",
   "execution_count": 11,
   "metadata": {},
   "outputs": [
    {
     "data": {
      "text/plain": [
       "{'alpha': 1.64,\n",
       " 'delta': 2.28,\n",
       " 'omicron': {0: 2.28, 1: 1.7784, 2: 0.456, 3: 0.456}}"
      ]
     },
     "execution_count": 11,
     "metadata": {},
     "output_type": "execute_result"
    }
   ],
   "source": [
    "incubation = 3.7 - 1.9      # incubation period (non infectious) (days)\n",
    "prodromic = 1.5        # prodromic phase (I_p)\n",
    "infection = calibr.iloc[choose]['infectious-period']       # infectious period (days)\n",
    "waiting = 5. - infection #3.0          # waiting comparment so that onset-hospitalization delay is 2+3=5 days\n",
    "hospitalization = 14.0\n",
    "\n",
    "# compute transition rates\n",
    "sigma={}\n",
    "sigma['delta'] = 1./incubation        ### generation time for historical: 4.7 days\n",
    "sigma['omicron'] = 1./(incubation-0.5)  ### shorter generation time for Omicron: 0.5 days shorter (removed from latent period)\n",
    "theta=1./prodromic\n",
    "gamma=1./infection    # inverse of infectious period duration\n",
    "\n",
    "rate_w = 1./waiting\n",
    "rate_hosp = 1./hospitalization\n",
    "\n",
    "# SEROCONVERSION ABpre -> AB+\n",
    "exit_ABpre = 1./14.\n",
    "# SEROREVERSION AB+ -> AB-\n",
    "exit_ABpos = 1./420.\n",
    "\n",
    "## report 50 Imperial college: IHR -25% for omicron wrt delta\n",
    "increaseH_Delta_historical = 2.28\n",
    "\n",
    "increase_H = {}\n",
    "increase_H['alpha']=1.64\n",
    "increase_H['delta']=increaseH_Delta_historical\n",
    "increase_H['omicron']={0: np.around(increase_H['delta']*1.0,4),\n",
    "                       1: np.around(increase_H['delta']*0.78,4),\n",
    "                       2: np.around(increase_H['delta']*0.2,4),\n",
    "                       3: np.around(increase_H['delta']*0.2,4)}\n",
    "\n",
    "increase_H"
   ]
  },
  {
   "cell_type": "code",
   "execution_count": 12,
   "metadata": {},
   "outputs": [
    {
     "name": "stdout",
     "output_type": "stream",
     "text": [
      "GT (delta) symptomatic:  4.715929203539824\n",
      "GT (delta) asymptomatic:  4.442857142857143\n"
     ]
    }
   ],
   "source": [
    "print('GT (delta) symptomatic: ', \n",
    "      1/sigma['delta'] + (1/theta)+(1/gamma)-0.55/(theta+0.55*gamma))\n",
    "print('GT (delta) asymptomatic: ', \n",
    "      1/sigma['delta'] + ((1/theta)**2+(1/gamma)**2+ (1/theta)*(1/gamma))/((1/theta)+(1/gamma)))"
   ]
  },
  {
   "cell_type": "code",
   "execution_count": 13,
   "metadata": {},
   "outputs": [
    {
     "name": "stdout",
     "output_type": "stream",
     "text": [
      "GT (omicron) symptomatic:  4.215929203539824\n",
      "GT (omicron) asymptomatic:  3.942857142857143\n"
     ]
    }
   ],
   "source": [
    "print('GT (omicron) symptomatic: ', \n",
    "      1/sigma['omicron'] + (1/theta)+(1/gamma)-0.55/(theta+0.55*gamma))\n",
    "print('GT (omicron) asymptomatic: ', \n",
    "      1/sigma['omicron'] + ((1/theta)**2+(1/gamma)**2+ (1/theta)*(1/gamma))/((1/theta)+(1/gamma)))"
   ]
  },
  {
   "cell_type": "code",
   "execution_count": 14,
   "metadata": {},
   "outputs": [],
   "source": [
    "# probabilities for each degree of symptoms\n",
    "\n",
    "asint = {'delta_dose0': 0.4, 'omicron_dose0': 0.4}\n",
    "p_as = {'delta_dose0': np.array([asint['delta_dose0'],asint['delta_dose0'],asint['delta_dose0'],asint['delta_dose0']]),\n",
    "        'omicron_dose0': np.array([asint['omicron_dose0'],asint['omicron_dose0'],asint['omicron_dose0'],asint['omicron_dose0']])}\n",
    "\n",
    "ps = {'delta_dose0': np.array([0.4/0.6,0.4/0.6,0.2,0.2]),     # we assume that children may only develop mild symptoms\n",
    "        'omicron_dose0': np.array([0.4/0.6,0.4/0.6,0.2,0.2])}\n",
    "\n",
    "p_ps = {'delta_dose0': np.multiply(1.-p_as['delta_dose0'], ps['delta_dose0']),\n",
    "        'omicron_dose0': np.multiply(1.-p_as['omicron_dose0'], ps['omicron_dose0'])}\n",
    "\n",
    "ss_children = {'delta_dose0': ss_children_input*increase_H['delta'],\n",
    "             'omicron_dose0': ss_children_input*increase_H['omicron'][0]}\n",
    "\n",
    "ss_teens = {'delta_dose0': ss_teens_input*increase_H['delta'],\n",
    "             'omicron_dose0': ss_teens_input*increase_H['omicron'][1]}\n",
    "\n",
    "ss_adults = {'delta_dose0': ss_adults_input*increase_H['delta'],\n",
    "             'omicron_dose0': ss_adults_input*increase_H['omicron'][2]}\n",
    "\n",
    "ss_seniors = {'delta_dose0': ss_seniors_input*increase_H['delta'], \n",
    "              'omicron_dose0': ss_seniors_input*increase_H['omicron'][3]}\n",
    "\n",
    "ms = {'delta_dose0': np.array([1.-0.4/0.6-ss_children['delta_dose0'],\n",
    "                               1.-0.4/0.6-ss_teens['delta_dose0'],\n",
    "                                  0.8-ss_adults['delta_dose0'],0.8-ss_seniors['delta_dose0']]), \n",
    "      'omicron_dose0': np.array([1.-0.4/0.6-ss_children['omicron_dose0'],\n",
    "                               1.-0.4/0.6-ss_teens['omicron_dose0'],\n",
    "                                  0.8-ss_adults['omicron_dose0'],0.8-ss_seniors['omicron_dose0']])}\n",
    "\n",
    "ss = {'delta_dose0': np.array([ss_children['delta_dose0'],\n",
    "                               ss_teens['delta_dose0'],\n",
    "                                     ss_adults['delta_dose0'],ss_seniors['delta_dose0']]), \n",
    "      'omicron_dose0': np.array([ss_children['omicron_dose0'],\n",
    "                               ss_teens['omicron_dose0'],\n",
    "                                     ss_adults['omicron_dose0'],ss_seniors['omicron_dose0']])}\n",
    "\n",
    "p_ms = {'delta_dose0': np.multiply(1.-p_as['delta_dose0'], ms['delta_dose0']),\n",
    "        'omicron_dose0': np.multiply(1.-p_as['omicron_dose0'], ms['omicron_dose0'])}\n",
    "\n",
    "p_ss = {'delta_dose0': np.multiply(1.-p_as['delta_dose0'], ss['delta_dose0']),\n",
    "        'omicron_dose0': np.multiply(1.-p_as['omicron_dose0'], ss['omicron_dose0'])}\n",
    "\n",
    "r = np.array([0.25,0.55,0.55,0.55])\n",
    "\n",
    "susc = {'wild': np.array([ float(calibr.iloc[choose]['suscep-wuhan'][1:4]),\n",
    "                           float(calibr.iloc[choose]['suscep-wuhan'][5:9]),\n",
    "                          1,1]),\n",
    "        'alpha': np.array([float(calibr.iloc[choose]['suscep-VOC'][1:4]),\n",
    "                           float(calibr.iloc[choose]['suscep-VOC'][5:9]),\n",
    "                          1,1])}\n",
    "\n",
    "susc['delta'] = susc['alpha'].copy()\n",
    "\n",
    "susc['omicron'] = susc['delta'].copy()\n",
    "\n",
    "for strain in ['delta_dose0', 'omicron_dose0']:\n",
    "    for age in range(ages):\n",
    "        #print(p_as[strain][age]+p_ps[strain][age]+p_ms[strain][age]+p_ss[strain][age])\n",
    "        continue"
   ]
  },
  {
   "cell_type": "code",
   "execution_count": 15,
   "metadata": {},
   "outputs": [
    {
     "name": "stdout",
     "output_type": "stream",
     "text": [
      "delta wrt wild:  2.28 2.28\n",
      "omicron wrt wild:  0.45600000000000007 0.456\n"
     ]
    }
   ],
   "source": [
    "## increased hosp risk\n",
    "print('delta wrt wild: ', ss_adults['delta_dose0']/ss_adults_input, ss_seniors['delta_dose0']/ss_seniors_input)\n",
    "print('omicron wrt wild: ', ss_adults['omicron_dose0']/ss_adults_input, ss_seniors['omicron_dose0']/ss_seniors_input)"
   ]
  },
  {
   "cell_type": "markdown",
   "metadata": {},
   "source": [
    "### population"
   ]
  },
  {
   "cell_type": "code",
   "execution_count": 16,
   "metadata": {},
   "outputs": [
    {
     "data": {
      "text/plain": [
       "(8206000.0, 6358000.0, 36880000.0, 13453000.0, 64897000.0)"
      ]
     },
     "execution_count": 16,
     "metadata": {},
     "output_type": "execute_result"
    }
   ],
   "source": [
    "initial_path='./../input/'\n",
    "\n",
    "path = initial_path + '/population_France.csv'\n",
    "df = pd.read_csv(path)\n",
    "N_c, N_t, N_a, N_s = df['pop'].values\n",
    "N = df['pop'].sum()\n",
    "N_c, N_t, N_a, N_s, N"
   ]
  },
  {
   "cell_type": "markdown",
   "metadata": {},
   "source": [
    "### code of departments for each region"
   ]
  },
  {
   "cell_type": "code",
   "execution_count": 17,
   "metadata": {},
   "outputs": [],
   "source": [
    "dd = pd.read_csv(initial_path+'/reg_dept.csv', dtype=str)\n",
    "dd = dd.set_index('id', verify_integrity=True)\n",
    "dd = dd.drop_duplicates()\n",
    "#list of departments for each region\n",
    "#dd"
   ]
  },
  {
   "cell_type": "markdown",
   "metadata": {},
   "source": [
    "### hospital data"
   ]
  },
  {
   "cell_type": "code",
   "execution_count": 18,
   "metadata": {},
   "outputs": [],
   "source": [
    "hosp = pd.read_csv(initial_path+'/SIVIC_data_departement_20220530.csv')\n",
    "\n",
    "#hosp.iloc[0]\n",
    "\n",
    "#Juliette's data start from March 1 2020"
   ]
  },
  {
   "cell_type": "code",
   "execution_count": 19,
   "metadata": {},
   "outputs": [
    {
     "name": "stdout",
     "output_type": "stream",
     "text": [
      "Number of regions:  13\n",
      "['84' '32' '93' '44' '76' '28' '75' '24' '27' '53' '94' '52' '11']\n"
     ]
    }
   ],
   "source": [
    "# couple department code with corresponding region code\n",
    "\n",
    "hosp = hosp.merge(dd,left_on='departement',right_on='dept')\n",
    "print('Number of regions: ', len(hosp.reg.unique()))\n",
    "print(hosp.reg.unique())\n",
    "\n",
    "#list of regions represented in the dataset\n",
    "#only Metropolitain regions are included in Juliette's data (no overseas territories)"
   ]
  },
  {
   "cell_type": "code",
   "execution_count": 20,
   "metadata": {},
   "outputs": [
    {
     "name": "stderr",
     "output_type": "stream",
     "text": [
      "/var/folders/xy/wstm2wl92_1bttlf2zg9cjhr0000gn/T/ipykernel_8178/2666687160.py:12: FutureWarning: The default value of numeric_only in DataFrameGroupBy.sum is deprecated. In a future version, numeric_only will default to False. Either specify numeric_only or select only columns which should be valid for the function.\n",
      "  hosp_national = hosp.groupby(['date']).sum()\n"
     ]
    }
   ],
   "source": [
    "def abs_week(x):\n",
    "    if x[0]==2020:\n",
    "        return x[1]\n",
    "    elif x[0]==2021:\n",
    "        return x[1]+53\n",
    "    elif x[0]==2022:\n",
    "        return x[1]+53+52\n",
    "\n",
    "if codice_regione == 'France':\n",
    "    \n",
    "## aggregate at national level\n",
    "    hosp_national = hosp.groupby(['date']).sum()\n",
    "\n",
    "    #daily\n",
    "    H_adm = hosp_national[['hosp_pred']]\n",
    "    H_adm = H_adm.reset_index()\n",
    "    H_adm['date'] = pd.to_datetime(H_adm['date'])\n",
    "    #H_adm['week']=H_adm['ds2'].dt.week\n",
    "    H_adm['isocalendar'] = H_adm['date'].apply(lambda x: x.isocalendar())\n",
    "    H_adm['rel_week'] = H_adm['date'].dt.isocalendar().week\n",
    "    #H_adm['rel_week'] = H_adm['date'].dt.week\n",
    "    H_adm['abs_week'] = H_adm['isocalendar'].apply(lambda x: abs_week(x))\n",
    "    H_adm['year'] = H_adm['date'].dt.isocalendar().year\n",
    "    #H_adm['year'] = H_adm['date'].dt.year\n",
    "    \n",
    "else:\n",
    "    #daily\n",
    "    x=str(codice_regione)\n",
    "    hosp=hosp.merge(dd,left_on='departement',right_on='dept')\n",
    "    hosp2=hosp.groupby(['reg_x','date']).sum()\n",
    "    hosp3=hosp2.loc[x]\n",
    "    H_adm = hosp3.reset_index()\n",
    "    H_adm = H_adm[['date','hosp_pred']]\n",
    "    H_adm['date'] = pd.to_datetime(H_adm['date'])\n",
    "    H_adm['isocalendar'] = H_adm['date'].apply(lambda x: x.isocalendar())\n",
    "    H_adm['rel_week'] = H_adm['date'].dt.week\n",
    "    H_adm['abs_week'] = H_adm['isocalendar'].apply(lambda x:abs_week(x))\n",
    "    H_adm['year'] = H_adm['date'].dt.year"
   ]
  },
  {
   "cell_type": "code",
   "execution_count": 21,
   "metadata": {},
   "outputs": [
    {
     "data": {
      "text/html": [
       "<div>\n",
       "<style scoped>\n",
       "    .dataframe tbody tr th:only-of-type {\n",
       "        vertical-align: middle;\n",
       "    }\n",
       "\n",
       "    .dataframe tbody tr th {\n",
       "        vertical-align: top;\n",
       "    }\n",
       "\n",
       "    .dataframe thead th {\n",
       "        text-align: right;\n",
       "    }\n",
       "</style>\n",
       "<table border=\"1\" class=\"dataframe\">\n",
       "  <thead>\n",
       "    <tr style=\"text-align: right;\">\n",
       "      <th></th>\n",
       "      <th>abs_week</th>\n",
       "      <th>hosp_pred</th>\n",
       "      <th>rel_week</th>\n",
       "    </tr>\n",
       "  </thead>\n",
       "  <tbody>\n",
       "    <tr>\n",
       "      <th>113</th>\n",
       "      <td>122</td>\n",
       "      <td>6364.949368</td>\n",
       "      <td>69</td>\n",
       "    </tr>\n",
       "    <tr>\n",
       "      <th>114</th>\n",
       "      <td>123</td>\n",
       "      <td>5007.316658</td>\n",
       "      <td>70</td>\n",
       "    </tr>\n",
       "    <tr>\n",
       "      <th>115</th>\n",
       "      <td>124</td>\n",
       "      <td>4141.470773</td>\n",
       "      <td>71</td>\n",
       "    </tr>\n",
       "    <tr>\n",
       "      <th>116</th>\n",
       "      <td>125</td>\n",
       "      <td>3084.997741</td>\n",
       "      <td>72</td>\n",
       "    </tr>\n",
       "    <tr>\n",
       "      <th>117</th>\n",
       "      <td>126</td>\n",
       "      <td>2396.829060</td>\n",
       "      <td>73</td>\n",
       "    </tr>\n",
       "  </tbody>\n",
       "</table>\n",
       "</div>"
      ],
      "text/plain": [
       "     abs_week    hosp_pred  rel_week\n",
       "113       122  6364.949368        69\n",
       "114       123  5007.316658        70\n",
       "115       124  4141.470773        71\n",
       "116       125  3084.997741        72\n",
       "117       126  2396.829060        73"
      ]
     },
     "execution_count": 21,
     "metadata": {},
     "output_type": "execute_result"
    }
   ],
   "source": [
    "H_adm_week = H_adm[['hosp_pred', 'abs_week']].groupby('abs_week').sum().reset_index()\n",
    "H_adm_week['rel_week'] = H_adm_week['abs_week'].apply(lambda x: x-53 if x>=54 else x) \n",
    "H_adm_week.tail()"
   ]
  },
  {
   "cell_type": "markdown",
   "metadata": {},
   "source": [
    "## Results fitting PRE-LD and LD1"
   ]
  },
  {
   "cell_type": "code",
   "execution_count": 22,
   "metadata": {},
   "outputs": [
    {
     "data": {
      "text/plain": [
       "({'delta_dose0': 0.041951999999999996, 'omicron_dose0': 0.008390400000000001},\n",
       " {'delta_dose0': 0.366396, 'omicron_dose0': 0.0732792})"
      ]
     },
     "execution_count": 22,
     "metadata": {},
     "output_type": "execute_result"
    }
   ],
   "source": [
    "ss_adults, ss_seniors"
   ]
  },
  {
   "cell_type": "code",
   "execution_count": 23,
   "metadata": {},
   "outputs": [
    {
     "data": {
      "text/plain": [
       "(0.086, 44, 1.16, -3)"
      ]
     },
     "execution_count": 23,
     "metadata": {},
     "output_type": "execute_result"
    }
   ],
   "source": [
    "if calibr.iloc[choose].reg!=str(reg):\n",
    "    sys.exit()\n",
    "\n",
    "beta=calibr.iloc[choose].beta\n",
    "lag=calibr.iloc[choose].lag\n",
    "scale1=calibr.iloc[choose].alpha_LD\n",
    "delay=calibr.iloc[choose].delay\n",
    "\n",
    "beta, lag, scale1, delay"
   ]
  },
  {
   "cell_type": "code",
   "execution_count": 24,
   "metadata": {},
   "outputs": [
    {
     "name": "stdout",
     "output_type": "stream",
     "text": [
      "Setting lag = 0\n"
     ]
    }
   ],
   "source": [
    "if lag!=0:\n",
    "    print('Setting lag = 0')\n",
    "    lag=0"
   ]
  },
  {
   "cell_type": "markdown",
   "metadata": {},
   "source": [
    "## set calendar"
   ]
  },
  {
   "cell_type": "code",
   "execution_count": 25,
   "metadata": {},
   "outputs": [],
   "source": [
    "#calendar = pd.DataFrame(pd.date_range(dt.date(2020, 3, 1)-dt.timedelta(days=trasl), periods=365*2))\n",
    "#start_ld = trasl + 16  # March 17\n",
    "#start = start_ld + 5   \n",
    "#m_11 = start_ld + 55\n",
    "\n",
    "calendar = pd.DataFrame(pd.date_range(dt.date(2021, 10, 3), periods=365*2))\n",
    "week_t0=calendar[0].dt.isocalendar().week.iloc[0]\n",
    "week_t1=calendar[0].dt.isocalendar().week.iloc[1]\n",
    "\n",
    "if week_t1-week_t0!=1:\n",
    "    print('Please set t0 on Sunday')\n",
    "    sys.exit()\n",
    "    \n",
    "starting_week = week_t1\n",
    "\n",
    "## \n",
    "    \n",
    "weeks = list(np.arange(53+starting_week, 53+52+21))"
   ]
  },
  {
   "cell_type": "code",
   "execution_count": 26,
   "metadata": {},
   "outputs": [
    {
     "data": {
      "text/plain": [
       "125"
      ]
     },
     "execution_count": 26,
     "metadata": {},
     "output_type": "execute_result"
    }
   ],
   "source": [
    "weeks[-1]"
   ]
  },
  {
   "cell_type": "code",
   "execution_count": 27,
   "metadata": {},
   "outputs": [
    {
     "data": {
      "text/plain": [
       "(93, 40)"
      ]
     },
     "execution_count": 27,
     "metadata": {},
     "output_type": "execute_result"
    }
   ],
   "source": [
    "weeks[0], starting_week"
   ]
  },
  {
   "cell_type": "code",
   "execution_count": 28,
   "metadata": {},
   "outputs": [
    {
     "data": {
      "text/html": [
       "<div>\n",
       "<style scoped>\n",
       "    .dataframe tbody tr th:only-of-type {\n",
       "        vertical-align: middle;\n",
       "    }\n",
       "\n",
       "    .dataframe tbody tr th {\n",
       "        vertical-align: top;\n",
       "    }\n",
       "\n",
       "    .dataframe thead th {\n",
       "        text-align: right;\n",
       "    }\n",
       "</style>\n",
       "<table border=\"1\" class=\"dataframe\">\n",
       "  <thead>\n",
       "    <tr style=\"text-align: right;\">\n",
       "      <th></th>\n",
       "      <th>date</th>\n",
       "      <th>hosp_pred</th>\n",
       "      <th>isocalendar</th>\n",
       "      <th>rel_week</th>\n",
       "      <th>abs_week</th>\n",
       "      <th>year</th>\n",
       "    </tr>\n",
       "  </thead>\n",
       "  <tbody>\n",
       "    <tr>\n",
       "      <th>581</th>\n",
       "      <td>2021-10-03</td>\n",
       "      <td>139.0</td>\n",
       "      <td>(2021, 39, 7)</td>\n",
       "      <td>39</td>\n",
       "      <td>92</td>\n",
       "      <td>2021</td>\n",
       "    </tr>\n",
       "  </tbody>\n",
       "</table>\n",
       "</div>"
      ],
      "text/plain": [
       "          date  hosp_pred    isocalendar  rel_week  abs_week  year\n",
       "581 2021-10-03      139.0  (2021, 39, 7)        39        92  2021"
      ]
     },
     "execution_count": 28,
     "metadata": {},
     "output_type": "execute_result"
    }
   ],
   "source": [
    "H_adm[H_adm['date']==calendar.iloc[0][0]]"
   ]
  },
  {
   "cell_type": "code",
   "execution_count": 29,
   "metadata": {},
   "outputs": [
    {
     "data": {
      "text/plain": [
       "Timestamp('2021-10-03 00:00:00')"
      ]
     },
     "execution_count": 29,
     "metadata": {},
     "output_type": "execute_result"
    }
   ],
   "source": [
    "calendar.iloc[0][0]"
   ]
  },
  {
   "cell_type": "markdown",
   "metadata": {},
   "source": [
    "# cut hospital dataset at the date of the start of the simulation"
   ]
  },
  {
   "cell_type": "code",
   "execution_count": 30,
   "metadata": {},
   "outputs": [],
   "source": [
    "H_adm_cut = H_adm[H_adm['date']>=calendar.iloc[0][0]].copy().reset_index()"
   ]
  },
  {
   "cell_type": "markdown",
   "metadata": {},
   "source": [
    "# day of initialization of seed"
   ]
  },
  {
   "cell_type": "code",
   "execution_count": 31,
   "metadata": {},
   "outputs": [
    {
     "data": {
      "text/plain": [
       "'./../input/'"
      ]
     },
     "execution_count": 31,
     "metadata": {},
     "output_type": "execute_result"
    }
   ],
   "source": [
    "giorno = '2021-10-10'\n",
    "path_config = './../input/'\n",
    "path_config"
   ]
  },
  {
   "cell_type": "markdown",
   "metadata": {},
   "source": [
    "# initialize non-VOC epidemic"
   ]
  },
  {
   "cell_type": "code",
   "execution_count": 32,
   "metadata": {},
   "outputs": [
    {
     "name": "stdout",
     "output_type": "stream",
     "text": [
      "initializing simulation on 2021-10-10\n"
     ]
    }
   ],
   "source": [
    "if reg =='France':\n",
    "    \n",
    "    I_iniz = 0   \n",
    "    \n",
    "    wild_origin = calendar[calendar[0]=='{}'.format(giorno)].index[0] \n",
    "    config_wild = pd.read_csv('{}/config_{}.csv'.format(path_config,giorno))\n",
    "\n",
    "    print('initializing simulation on {}'.format(giorno))\n",
    "    \n",
    "else:\n",
    "    print('extract configuration as of June 6 for regions different than France')\n",
    "    sys.exit()"
   ]
  },
  {
   "cell_type": "markdown",
   "metadata": {},
   "source": [
    "# VOC parameters"
   ]
  },
  {
   "cell_type": "code",
   "execution_count": 33,
   "metadata": {},
   "outputs": [],
   "source": [
    "trans_increase = {}\n",
    "trans_increase['alpha']=1.59\n",
    "trans_increase['delta']=trans_increase['alpha']*2.0\n",
    "\n",
    "## transform in vectors depending on t\n",
    "trans_increase_time = {}\n",
    "trans_increase_time['alpha'] = [trans_increase['alpha'] for i in range(300)]\n",
    "trans_increase_time['delta'] = [trans_increase['delta'] for i in range(300)]"
   ]
  },
  {
   "cell_type": "code",
   "execution_count": 34,
   "metadata": {},
   "outputs": [
    {
     "data": {
      "text/plain": [
       "{'alpha': 1.59, 'delta': 3.18}"
      ]
     },
     "execution_count": 34,
     "metadata": {},
     "output_type": "execute_result"
    }
   ],
   "source": [
    "trans_increase"
   ]
  },
  {
   "cell_type": "markdown",
   "metadata": {},
   "source": [
    "# vaccination"
   ]
  },
  {
   "cell_type": "code",
   "execution_count": 35,
   "metadata": {},
   "outputs": [],
   "source": [
    "vax_delay_eff = 2 # 2 weeks of delay in effectiveness after the vaccine\n",
    "\n",
    "vax_delay_waning_1 = 5\n",
    "vax_delay_waning_2 = 10\n",
    "vax_delay_waning_3 = 15\n",
    "\n",
    "vax_delay_booster = 1\n",
    "\n",
    "vax_delay_booster_waning_1 = 5 \n",
    "vax_delay_booster_waning_2 = 10 \n",
    "vax_delay_booster_waning_3 = 15 "
   ]
  },
  {
   "cell_type": "code",
   "execution_count": 36,
   "metadata": {},
   "outputs": [],
   "source": [
    "if calendar[0].dt.isocalendar().week.iloc[wild_origin]==calendar[0].dt.isocalendar().week.iloc[wild_origin+1]:\n",
    "    print('please choose a sunday')\n",
    "    sys.exit()"
   ]
  },
  {
   "cell_type": "markdown",
   "metadata": {},
   "source": [
    "## past vaccine rollout - doses per day"
   ]
  },
  {
   "cell_type": "code",
   "execution_count": 37,
   "metadata": {},
   "outputs": [],
   "source": [
    "file_vax = './../input/frac_vax_per_region+FranceMetrop_2022-05-29_par-lieu-residence.csv'\n",
    "\n",
    "res = pd.read_csv(file_vax)\n",
    "# select France\n",
    "res = res[res['reg']=='France'].copy().reset_index(drop=True)\n",
    "\n",
    "res['date_vax']=pd.to_datetime(res['date'])\n",
    "#res['date_eff']=pd.to_datetime(res['date'])+dt.timedelta(days=vax_delay_eff*7)"
   ]
  },
  {
   "cell_type": "code",
   "execution_count": 38,
   "metadata": {},
   "outputs": [
    {
     "data": {
      "text/plain": [
       "(91.32902218303423, 91.32902218303424)"
      ]
     },
     "execution_count": 38,
     "metadata": {},
     "output_type": "execute_result"
    }
   ],
   "source": [
    "## chek that sum of % daily is equal to the fraction f \n",
    "res['%_adult_1d'].cumsum().iloc[-1],res['f_adult_1d'].iloc[-1]"
   ]
  },
  {
   "cell_type": "code",
   "execution_count": 39,
   "metadata": {},
   "outputs": [],
   "source": [
    "timestep = calendar.iloc[wild_origin][0]-dt.timedelta(days=vax_delay_eff*7)\n",
    "vax_at_wild_origin = res[res['date_vax']==timestep].copy()\n",
    "\n",
    "timestep = calendar.iloc[wild_origin][0]-dt.timedelta(days=vax_delay_waning_1*7)\n",
    "vax_waned_1 = res[res['date_vax']==timestep].copy()\n",
    "\n",
    "timestep = calendar.iloc[wild_origin][0]-dt.timedelta(days=vax_delay_waning_2*7)\n",
    "vax_waned_2 = res[res['date_vax']==timestep].copy()\n",
    "\n",
    "timestep = calendar.iloc[wild_origin][0]-dt.timedelta(days=vax_delay_waning_3*7)\n",
    "vax_waned_3 = res[res['date_vax']==timestep].copy()\n",
    "\n",
    "timestep = calendar.iloc[wild_origin][0]-dt.timedelta(days=vax_delay_booster*7)\n",
    "vax_booster = res[res['date_vax']==timestep].copy()\n",
    "\n",
    "timestep = calendar.iloc[wild_origin][0]-dt.timedelta(days=vax_delay_booster_waning_1*7)\n",
    "vax_booster_waned_1 = res[res['date_vax']==timestep].copy()\n",
    "\n",
    "timestep = calendar.iloc[wild_origin][0]-dt.timedelta(days=vax_delay_booster_waning_2*7)\n",
    "vax_booster_waned_2 = res[res['date_vax']==timestep].copy()\n",
    "\n",
    "timestep = calendar.iloc[wild_origin][0]-dt.timedelta(days=vax_delay_booster_waning_3*7)\n",
    "vax_booster_waned_3 = res[res['date_vax']==timestep].copy()"
   ]
  },
  {
   "cell_type": "code",
   "execution_count": 40,
   "metadata": {},
   "outputs": [],
   "source": [
    "past_rollout = res.copy()"
   ]
  },
  {
   "cell_type": "markdown",
   "metadata": {},
   "source": [
    "## projected vaccine rollout (doses per week)"
   ]
  },
  {
   "cell_type": "code",
   "execution_count": 41,
   "metadata": {},
   "outputs": [],
   "source": [
    "projected_delay_inter_doses = 3.  # 3 weeks of delay from the first dose to the second dose in the projected vaccine scenarios\n",
    "\n",
    "start_week_vaccine_proj = weeks[-1]+1\n",
    "\n",
    "#read doses\n",
    "#file_rollout = './../../input_vaccination/weekly_doses_inferw{}onwards_stop_France_new.csv'.format(50)\n",
    "#future_rollout = pd.read_csv(file_rollout)\n",
    "\n",
    "#future_rollout['week_vax'] = future_rollout['abs_week']\n",
    "#future_rollout['week_eff'] = future_rollout['week_vax']+vax_delay_eff\n",
    "\n",
    "#future_rollout = future_rollout[future_rollout['week_eff']>=start_week_vaccine_proj].copy()\n",
    "\n",
    "#future_rollout = future_rollout[['abs_week','week_vax', 'week_eff', \n",
    "     #    '%_teen_1d', '%_teen_2d', '%_teen_3d',\n",
    "   #      '%_adult_1d', '%_adult_2d', '%_adult_3d',\n",
    "    #     '%_senior_1d', '%_senior_2d', '%_senior_3d']].copy()\n",
    "\n",
    "#future_rollout['%_child_1d'] = 0\n",
    "##future_rollout['%_child_2d'] = 0\n",
    "#future_rollout['%_child_3d'] = 0\n",
    "\n",
    "# %_age_Xd is the daily fracion of age class vaccinated with the Xth dose\n",
    "\n",
    "#future_rollout.head()\"\"\""
   ]
  },
  {
   "cell_type": "markdown",
   "metadata": {},
   "source": [
    "## max coverage"
   ]
  },
  {
   "cell_type": "code",
   "execution_count": 42,
   "metadata": {},
   "outputs": [],
   "source": [
    "max_coverage = {'child': 0.99, 'teen': 0.99, 'adu': 0.99, 'sen': 0.99}"
   ]
  },
  {
   "cell_type": "markdown",
   "metadata": {},
   "source": [
    "## vaccine efficacy"
   ]
  },
  {
   "cell_type": "code",
   "execution_count": 43,
   "metadata": {},
   "outputs": [],
   "source": [
    "VE_trans = {'omicron_dose0': 0., 'delta_dose0': 0., \n",
    "               'omicron_dose1': 0.15, 'delta_dose1': 0.15, \n",
    "               'omicron_dose2-full': 0.5, 'delta_dose2-full': 0.5,  \n",
    "               'omicron_dose2-waned-1': 0.5,'delta_dose2-waned-1': 0.50,\n",
    "               'omicron_dose2-waned-2': 0.24, 'delta_dose2-waned-2': 0.24,\n",
    "               'omicron_dose2-waned-3': 0.24, 'delta_dose2-waned-3': 0.24,\n",
    "               'omicron_dose3-full': 0.5, 'delta_dose3-full': 0.5,\n",
    "               'omicron_dose3-waned-1': 0.5, 'delta_dose3-waned-1': 0.5,\n",
    "               'omicron_dose3-waned-2': 0.24, 'delta_dose3-waned-2': 0.24,\n",
    "               'omicron_dose3-waned-3': 0.24, 'delta_dose3-waned-3': 0.24}\n",
    "\n",
    "VE_infect = {'omicron_dose0': 0., 'delta_dose0': 0., \n",
    "                'omicron_dose1': 0.24, 'delta_dose1': 0.60, \n",
    "                'omicron_dose2-full': 0.52, 'delta_dose2-full': 0.81,\n",
    "                'omicron_dose2-waned-1': 0.38,'delta_dose2-waned-1': 0.77,\n",
    "                'omicron_dose2-waned-2': 0.24, 'delta_dose2-waned-2': 0.71,\n",
    "                'omicron_dose2-waned-3': 0.11, 'delta_dose2-waned-3': 0.63,\n",
    "                'omicron_dose3-full': 0.52, 'delta_dose3-full': 0.86,\n",
    "                'omicron_dose3-waned-1': 0.48, 'delta_dose3-waned-1': 0.81,\n",
    "                'omicron_dose3-waned-2': 0.40, 'delta_dose3-waned-2': 0.81,\n",
    "                'omicron_dose3-waned-3': 0.28, 'delta_dose3-waned-3': 0.81} \n",
    "\n",
    "VE_disease = {'omicron_dose0': 0., 'delta_dose0': 0., \n",
    "                 'omicron_dose1': 0.30, 'delta_dose1': 0.70, \n",
    "                 'omicron_dose2-full': 0.65, 'delta_dose2-full': 0.90,\n",
    "                 'omicron_dose2-waned-1': 0.47,'delta_dose2-waned-1': 0.85,\n",
    "                 'omicron_dose2-waned-2': 0.30, 'delta_dose2-waned-2': 0.79,\n",
    "                 'omicron_dose2-waned-3': 0.14, 'delta_dose2-waned-3': 0.70,\n",
    "                 'omicron_dose3-full': 0.65, 'delta_dose3-full': 0.95,\n",
    "                 'omicron_dose3-waned-1': 0.60, 'delta_dose3-waned-1': 0.90,\n",
    "                 'omicron_dose3-waned-2': 0.50, 'delta_dose3-waned-2': 0.90,\n",
    "                 'omicron_dose3-waned-3': 0.35, 'delta_dose3-waned-3': 0.90} \n",
    "\n",
    "VE_severe_disease = {'omicron_dose0': 0., 'delta_dose0': 0., \n",
    "                 'omicron_dose1': 0.60, 'delta_dose1': 0.80, \n",
    "                 'omicron_dose2-full': 0.74, 'delta_dose2-full': 0.97,\n",
    "                 'omicron_dose2-waned-1': 0.68,'delta_dose2-waned-1': 0.97,\n",
    "                 'omicron_dose2-waned-2': 0.62, 'delta_dose2-waned-2': 0.97,\n",
    "                 'omicron_dose2-waned-3': 0.55, 'delta_dose2-waned-3': 0.97,\n",
    "                 'omicron_dose3-full': 0.85, 'delta_dose3-full': 0.98,\n",
    "                 'omicron_dose3-waned-1': 0.85, 'delta_dose3-waned-1': 0.98,\n",
    "                 'omicron_dose3-waned-2': 0.75, 'delta_dose3-waned-2': 0.98,\n",
    "                 'omicron_dose3-waned-3': 0.75, 'delta_dose3-waned-3': 0.98} \n",
    "\n",
    "# a R(delta) non vaccinati diamo VE contro re-infezione pari ai valore di Altarawneh\n",
    "status = 'dose0'\n",
    "#efficacy = 'dose1'\n",
    "VE_trans['delta-omicron_{}'.format(status)]=0.5\n",
    "VE_infect['delta-omicron_{}'.format(status)]=0.62\n",
    "VE_disease['delta-omicron_{}'.format(status)]=0.62\n",
    "VE_severe_disease['delta-omicron_{}'.format(status)]=0.88\n",
    "\n",
    "VE_trans['delta-waned-omicron_{}'.format(status)]=0.5\n",
    "VE_infect['delta-waned-omicron_{}'.format(status)]=0.30\n",
    "VE_disease['delta-waned-omicron_{}'.format(status)]=0.30\n",
    "VE_severe_disease['delta-waned-omicron_{}'.format(status)]=0.88\n",
    "\n",
    "# a R(omicron) non vaccinati diamo VE contro re-infezione pari a 90% (Chemiatelly)\n",
    "VE_trans['omicron-omicron_{}'.format(status)]=0.5\n",
    "VE_infect['omicron-omicron_{}'.format(status)]=0.9\n",
    "VE_disease['omicron-omicron_{}'.format(status)]=0.9\n",
    "VE_severe_disease['omicron-omicron_{}'.format(status)]=0.95\n",
    "\n",
    "# a R(delta)(status_vax) vaccinati diamo VE contro re-infezione pari a max(R(delta-dose0), S(status_vax))\n",
    "for status in ['dose1', \n",
    "               'dose2-full', 'dose2-waned-1',  'dose2-waned-2', 'dose2-waned-3',\n",
    "               'dose3-full', 'dose3-waned-1', 'dose3-waned-2', 'dose3-waned-3']:\n",
    "\n",
    "    #max(VE,NE)\n",
    "    #VE_trans['delta-omicron_{}'.format(status)]=max(VE_trans['omicron_{}'.format(status)],VE_trans['delta-omicron_dose0'])\n",
    "    #VE_infect['delta-omicron_{}'.format(status)]=max(VE_infect['omicron_{}'.format(status)],VE_infect['delta-omicron_dose0'])\n",
    "    #VE_disease['delta-omicron_{}'.format(status)]=max(VE_disease['omicron_{}'.format(status)],VE_disease['delta-omicron_dose0'])\n",
    "    #VE_severe_disease['delta-omicron_{}'.format(status)]=max(VE_severe_disease['omicron_{}'.format(status)],VE_severe_disease['delta-omicron_dose0'])\n",
    "    \n",
    "    #1-(1-VE)*(1-NE)\n",
    "    #VE_trans['delta-omicron_{}'.format(status)]=1.-(1.-VE_trans['omicron_{}'.format(status)])*(1.-VE_trans['delta-omicron_dose0'])\n",
    "    #VE_infect['delta-omicron_{}'.format(status)]=1.-(1.-VE_infect['omicron_{}'.format(status)])*(1.-VE_infect['delta-omicron_dose0'])\n",
    "    #VE_disease['delta-omicron_{}'.format(status)]=1.-(1.-VE_disease['omicron_{}'.format(status)])*(1.-VE_disease['delta-omicron_dose0'])\n",
    "    #VE_severe_disease['delta-omicron_{}'.format(status)]=1.-(1.-VE_severe_disease['omicron_{}'.format(status)])*(1.-VE_severe_disease['delta-omicron_dose0'])\n",
    "\n",
    "    #max(1-(1-VE)*0.5, NE) for infection and symptoms only, for transm and hosp max(VE,NE)\n",
    "    VE_trans['delta-omicron_{}'.format(status)]=max(VE_trans['omicron_{}'.format(status)],VE_trans['delta-omicron_dose0'])\n",
    "    VE_infect['delta-omicron_{}'.format(status)]=max(1-(1-VE_infect['omicron_{}'.format(status)])*0.5,VE_infect['delta-omicron_dose0'])\n",
    "    VE_disease['delta-omicron_{}'.format(status)]=max(1-(1-VE_disease['omicron_{}'.format(status)])*0.5,VE_disease['delta-omicron_dose0'])\n",
    "    VE_severe_disease['delta-omicron_{}'.format(status)]=max(VE_severe_disease['omicron_{}'.format(status)],VE_severe_disease['delta-omicron_dose0'])\n",
    "    \n",
    "    VE_trans['delta-waned-omicron_{}'.format(status)]=max(VE_trans['omicron_{}'.format(status)],VE_trans['delta-waned-omicron_dose0'])\n",
    "    VE_infect['delta-waned-omicron_{}'.format(status)]=max(1-(1-VE_infect['omicron_{}'.format(status)])*0.5,VE_infect['delta-waned-omicron_dose0'])\n",
    "    VE_disease['delta-waned-omicron_{}'.format(status)]=max(1-(1-VE_disease['omicron_{}'.format(status)])*0.5,VE_disease['delta-waned-omicron_dose0'])\n",
    "    VE_severe_disease['delta-waned-omicron_{}'.format(status)]=max(VE_severe_disease['omicron_{}'.format(status)],VE_severe_disease['delta-waned-omicron_dose0'])\n",
    "    \n",
    "    VE_trans['omicron-omicron_{}'.format(status)]=max(VE_trans['omicron_{}'.format(status)],VE_trans['omicron-omicron_dose0'])\n",
    "    VE_infect['omicron-omicron_{}'.format(status)]=max(VE_infect['omicron_{}'.format(status)],VE_infect['omicron-omicron_dose0'])\n",
    "    VE_disease['omicron-omicron_{}'.format(status)]=max(VE_disease['omicron_{}'.format(status)],VE_disease['omicron-omicron_dose0'])\n",
    "    VE_severe_disease['omicron-omicron_{}'.format(status)]=max(VE_severe_disease['omicron_{}'.format(status)],VE_severe_disease['omicron-omicron_dose0'])\n",
    "    \n",
    "    \n",
    "VE_sympt = {}\n",
    "for variant in variants:\n",
    "    for status_vax in stati_vax:\n",
    "        for past in past_infection[variant]:\n",
    "            tag = past+variant+'_'+status_vax\n",
    "            if VE_infect[tag]!=1.0:\n",
    "                VE_sympt[tag]=1.-(1.-VE_disease[tag])/(1.-VE_infect[tag])\n",
    "            else:\n",
    "                VE_sympt[tag]=1.0\n",
    "            if VE_sympt[tag]<0:\n",
    "                print('error')\n",
    "                sys.exit()\n",
    "        \n",
    "#print(VE_sympt)\n",
    "            \n",
    "VE_H = {}\n",
    "for variant in variants:\n",
    "    for status_vax in stati_vax:\n",
    "        for past in past_infection[variant]:\n",
    "            tag = past+variant+'_'+status_vax\n",
    "            if VE_infect[tag]!=1.0:\n",
    "                VE_H[tag]=1.-(1.-VE_severe_disease[tag])/(1.-VE_infect[tag])\n",
    "            else:\n",
    "                VE_H[tag]=1.0\n",
    "            if VE_H[tag]<0:\n",
    "                print('error')\n",
    "                sys.exit()\n",
    "\n",
    "#print(VE_H)\n",
    "\n",
    "p_as_v = {}\n",
    "p_ps_v = {}\n",
    "p_ms_v = {}\n",
    "p_ss_v = {}\n",
    "\n",
    "for variant in variants:\n",
    "\n",
    "    origin = variant+'_dose0'\n",
    "    \n",
    "    for status_vax in stati_vax:\n",
    "        for past in past_infection[variant]:\n",
    "            target = past+variant+'_'+status_vax\n",
    "            p_as_v[target] = p_as[origin] + VE_sympt[target]*(p_ms[origin]+p_ss[origin])*(p_as[origin]/(p_as[origin]+p_ps[origin]))                                \n",
    "            p_ps_v[target] = p_ps[origin] + VE_sympt[target]*(p_ms[origin]+p_ss[origin])*(p_ps[origin]/(p_as[origin]+p_ps[origin]))                                 \n",
    "            p_ms_v[target] = p_ms[origin]*(1.0-VE_sympt[target])+p_ss[origin]*(VE_H[target]-VE_sympt[target])\n",
    "            p_ss_v[target] = p_ss[origin]*(1.0-VE_sympt[target])-p_ss[origin]*(VE_H[target]-VE_sympt[target])\n",
    "\n",
    "for variant in variants:\n",
    "    for status_vax in stati_vax:\n",
    "        for past in past_infection[variant]:\n",
    "            strain = past+variant+'_'+status_vax\n",
    "            for age in range(ages):\n",
    "                if p_as_v[strain][age]+p_ps_v[strain][age]+p_ms_v[strain][age]+p_ss_v[strain][age]!=1.0:\n",
    "                    continue\n",
    "                    #print(p_as_v[strain][age]+p_ps_v[strain][age]+p_ms_v[strain][age]+p_ss_v[strain][age])\n",
    "                #print(strain,age,p_as_v[strain][age]+p_ps_v[strain][age]+p_ms_v[strain][age]+p_ss_v[strain][age])            "
   ]
  },
  {
   "cell_type": "markdown",
   "metadata": {},
   "source": [
    "## scaling factors (results previous fits)"
   ]
  },
  {
   "cell_type": "code",
   "execution_count": 44,
   "metadata": {},
   "outputs": [],
   "source": [
    "last_week_fit = 53+72\n",
    "last_week_fit2 = str(last_week_fit-53)\n",
    "\n",
    "df = pd.read_csv('./../input/scaling_test_fitw59_exact-daily-doses-par-residence.csv')\n",
    "\n",
    "x_test_s = dict(zip(df['week'],df['test_s']))\n",
    "x_test_a = dict(zip(df['week'],df['test_a']))\n",
    "scale2 = dict(zip(df['week'],df['scaling_exit']))\n",
    "\n",
    "df['rel_week']=df['week']-53\n",
    "df['rel_week2']=df['week']-53-52\n",
    "\n",
    "for add_w in range(df['week'].iloc[-1]+1, weeks[-1]+1):\n",
    "    scale2[add_w]=scale2[df['week'].iloc[-1]]\n",
    "    x_test_a[add_w]=x_test_a[df['week'].iloc[-1]]    \n",
    "    x_test_s[add_w]=x_test_s[df['week'].iloc[-1]]"
   ]
  },
  {
   "cell_type": "markdown",
   "metadata": {},
   "source": [
    "# seasonality"
   ]
  },
  {
   "cell_type": "code",
   "execution_count": 45,
   "metadata": {},
   "outputs": [],
   "source": [
    "include_seasonality = False\n",
    "\n",
    "if include_seasonality == True:\n",
    "    seasonality_file = pd.read_csv('./../../../CHIARA-project_metapop-France/z_seasonality_perLAURA/seasonality_FR.csv')\n",
    "    #calendar of the simulation\n",
    "    # take the first day\n",
    "    first_day = calendar.iloc[0][0].strftime('%Y-%m-%d')\n",
    "    # cut seasonality dataframe\n",
    "    ddff = seasonality_file[seasonality_file['date']>=first_day].reset_index(drop=True)\n",
    "    # extract values \n",
    "    seasonal = ddff['seasonal-factor'].values\n",
    "else:\n",
    "    seasonal = np.array([1.]*1265)"
   ]
  },
  {
   "cell_type": "markdown",
   "metadata": {},
   "source": [
    "# VOC ORIGIN"
   ]
  },
  {
   "cell_type": "code",
   "execution_count": 46,
   "metadata": {},
   "outputs": [],
   "source": [
    "t_stop = calendar[calendar[0]=='2022-01-20'].index[0] \n",
    "\n",
    "onset_test_delay = 2  # 2 days between onset and test\n",
    "\n",
    "#VOC_origin = calendar[calendar[0]=='2021-11-28'].index[0] - onset_test_delay - 1\n",
    "VOC_origin = calendar[calendar[0]=='2021-11-22'].index[0] - onset_test_delay - 1"
   ]
  },
  {
   "cell_type": "markdown",
   "metadata": {},
   "source": [
    "# loss natural immunity from prior infection with delta "
   ]
  },
  {
   "cell_type": "code",
   "execution_count": 47,
   "metadata": {},
   "outputs": [
    {
     "name": "stdout",
     "output_type": "stream",
     "text": [
      "25.535351402992436 2021-05-23\n",
      "16.297191079697782 2021-05-23\n",
      "32.27147687952186 2021-05-23\n",
      "28.97291892624729 2021-05-23\n",
      "18.482059763621496 2021-05-23\n",
      "0 1337347\n",
      "1 2051820\n",
      "2 10685212\n",
      "3 2486391\n"
     ]
    }
   ],
   "source": [
    "N_ages = [N_c, N_t, N_a, N_s]\n",
    "\n",
    "durat_nat_imm = 6*30 ## 6 months\n",
    "\n",
    "nat_imm = pd.read_csv('./../input/immunity_per_age_fitw75_multistrain.csv')\n",
    "\n",
    "nat_imm['date'] = pd.to_datetime(nat_imm['time'])\n",
    "\n",
    "idx = nat_imm[nat_imm['date']==calendar[0].iloc[VOC_origin] - dt.timedelta(durat_nat_imm)].index[0]\n",
    "\n",
    "for age_class in ['all', 'ch', 'teen', 'adu', 'sen']:\n",
    "    print(nat_imm.iloc[idx]['{}-median'.format(age_class)], nat_imm.iloc[idx]['time'])\n",
    "    \n",
    "infected_with_waned_imm = {}\n",
    "for h, ag in enumerate(['ch', 'teen', 'adu', 'sen']):\n",
    "    infected_with_waned_imm[h] = int(N_ages[h]*nat_imm.iloc[idx]['{}-median'.format(ag)]/100)\n",
    "    print(h, infected_with_waned_imm[h])"
   ]
  },
  {
   "cell_type": "markdown",
   "metadata": {},
   "source": [
    "# transmission advantage"
   ]
  },
  {
   "cell_type": "code",
   "execution_count": 48,
   "metadata": {},
   "outputs": [
    {
     "data": {
      "text/plain": [
       "(5, 0.06)"
      ]
     },
     "execution_count": 48,
     "metadata": {},
     "output_type": "execute_result"
    }
   ],
   "source": [
    "advantage = 5\n",
    "init_freq = 0.06\n",
    "\n",
    "trans_increase['omicron']=trans_increase['delta']*(1.+advantage/100.)\n",
    "\n",
    "trans_increase_time['omicron']=[trans_increase['omicron'] for i in range(300)]\n",
    "\n",
    "prev_omicron = init_freq/100.\n",
    "\n",
    "advantage, init_freq"
   ]
  },
  {
   "cell_type": "markdown",
   "metadata": {},
   "source": [
    "# add effective BA2"
   ]
  },
  {
   "cell_type": "code",
   "execution_count": 49,
   "metadata": {},
   "outputs": [],
   "source": [
    "freq_ba2 = pd.read_csv('./../input/simulated_daily_freq_BA2_new.csv')"
   ]
  },
  {
   "cell_type": "code",
   "execution_count": 50,
   "metadata": {},
   "outputs": [],
   "source": [
    "gg = []\n",
    "\n",
    "dates = calendar[0].apply(lambda x: x.strftime('%Y-%m-%d'))\n",
    "\n",
    "for t,date in enumerate(dates):\n",
    "\n",
    "    if date < '2022-01-21':\n",
    "        gg.append(trans_increase['omicron'])\n",
    "    elif date in freq_ba2['time'].values:\n",
    "        f = freq_ba2[freq_ba2['time']==date]['median'].iloc[0]\n",
    "        gg.append(trans_increase['omicron']*(1.-f)+trans_increase['omicron']*1.47*f)\n",
    "    else:\n",
    "        gg.append(trans_increase['omicron']*1.47*1)\n",
    "\n",
    "trans_increase_time['omicron'] = gg"
   ]
  },
  {
   "cell_type": "markdown",
   "metadata": {},
   "source": [
    "# fit up to week XX"
   ]
  },
  {
   "cell_type": "code",
   "execution_count": 131,
   "metadata": {},
   "outputs": [],
   "source": [
    "scale2_backup = scale2.copy()"
   ]
  },
  {
   "cell_type": "code",
   "execution_count": 132,
   "metadata": {},
   "outputs": [],
   "source": [
    "n_runs = 5\n",
    "\n",
    "time1=53+41\n",
    "time2=53+44"
   ]
  },
  {
   "cell_type": "code",
   "execution_count": 133,
   "metadata": {},
   "outputs": [
    {
     "name": "stdout",
     "output_type": "stream",
     "text": [
      "1.0 -286.001395061602\n",
      "1.03 -224.8542513696591\n",
      "1.06 -219.84911160245258\n",
      "1.09 -205.26887768013694\n",
      "1.12 -241.04646217348477\n",
      "1.1500000000000001 -324.84467135044576\n",
      "1.1800000000000002 -471.99936594611324\n",
      "1.2100000000000002 -665.8734647613992\n",
      "1.2400000000000002 -932.9215841303679\n",
      "1.2700000000000002 -1216.9831476036366\n",
      "1.3000000000000003 -1630.9121428190997\n",
      "best:\n",
      "1.09 -205.26887768013694\n"
     ]
    }
   ],
   "source": [
    "t_stop = len(H_adm_cut[H_adm_cut['abs_week']<=time2])\n",
    "\n",
    "scales =  np.arange(1.,1.3,0.03)\n",
    "lh=[]\n",
    "\n",
    "for s2 in scales:\n",
    "    for tt in range(time1, time2+1):\n",
    "        scale2[tt]=s2\n",
    "        \n",
    "    casuale = random.sample(range(100), n_runs)\n",
    "    like=likelihood(beta,lag,scale1,delay,scale2,x_test_a,x_test_s,time1,time2,\n",
    "                    fast_code = True, ordered_run_initialization=False)\n",
    "    casuale = []\n",
    "    lh.append(like)\n",
    "    print(s2,like)\n",
    "    \n",
    "print('best:')\n",
    "a = np.array([lh])\n",
    "ind = np.argmax(a, axis=None)\n",
    "\n",
    "print(scales[ind], lh[ind])"
   ]
  },
  {
   "cell_type": "code",
   "execution_count": 134,
   "metadata": {},
   "outputs": [
    {
     "data": {
      "image/png": "[encoded data removed]",
      "text/plain": [
       "<Figure size 432x288 with 1 Axes>"
      ]
     },
     "metadata": {
      "needs_background": "light"
     },
     "output_type": "display_data"
    }
   ],
   "source": [
    "step = 3\n",
    "\n",
    "start = 0\n",
    "stop = -1\n",
    "\n",
    "x_data = scales[start:stop]\n",
    "y_data = np.array(lh)[start:stop]\n",
    "\n",
    "fit = np.polyfit(x_data, y_data, 2)\n",
    "f = np.poly1d(fit)\n",
    "\n",
    "plt.scatter(x_data,y_data)\n",
    "plt.plot(x_data,f(x_data))\n",
    "\n",
    "plt.xticks(x_data[::step])\n",
    "\n",
    "plt.title('{}-{}'.format(time1-53, time2-53))\n",
    "plt.show()"
   ]
  },
  {
   "cell_type": "code",
   "execution_count": 135,
   "metadata": {},
   "outputs": [
    {
     "name": "stdout",
     "output_type": "stream",
     "text": [
      "41 44 1.07\n"
     ]
    }
   ],
   "source": [
    "evaluate = np.arange(scales[0], scales[-1], 0.01)\n",
    "x = np.around(evaluate[f(evaluate).argmax()], 2)\n",
    "\n",
    "#x = scale2_backup[time1]\n",
    "#x = 1.07\n",
    "\n",
    "for ww in np.arange(time1, weeks[-1]+1):\n",
    "    scale2[ww] = x\n",
    "print(time1-53, time2-53, x)"
   ]
  },
  {
   "cell_type": "code",
   "execution_count": 136,
   "metadata": {},
   "outputs": [],
   "source": [
    "n_runs = 5\n",
    "\n",
    "time1=53+44\n",
    "time2=53+48"
   ]
  },
  {
   "cell_type": "code",
   "execution_count": 137,
   "metadata": {},
   "outputs": [
    {
     "name": "stdout",
     "output_type": "stream",
     "text": [
      "1.23 -1730.7757013048495\n",
      "1.26 -1232.4328258190599\n",
      "1.29 -795.1056708899811\n",
      "1.32 -564.6567861823454\n",
      "1.35 -547.3131468189816\n",
      "1.3800000000000001 -667.3122644133031\n",
      "1.4100000000000001 -973.4106883997541\n",
      "1.4400000000000002 -1560.1328588230467\n",
      "best:\n",
      "1.35 -547.3131468189816\n"
     ]
    }
   ],
   "source": [
    "t_stop = len(H_adm_cut[H_adm_cut['abs_week']<=time2])\n",
    "\n",
    "scales =  np.arange(1.23,1.47,0.03)\n",
    "lh=[]\n",
    "\n",
    "for s2 in scales:\n",
    "    for tt in range(time1, time2+1):\n",
    "        scale2[tt]=s2\n",
    "        \n",
    "    casuale = random.sample(range(100), n_runs)\n",
    "    like=likelihood(beta,lag,scale1,delay,scale2,x_test_a,x_test_s,time1,time2,\n",
    "                   fast_code = True, ordered_run_initialization=False)\n",
    "    lh.append(like)\n",
    "    \n",
    "    casuale = []\n",
    "    print(s2,like)\n",
    "    \n",
    "print('best:')\n",
    "a = np.array([lh])\n",
    "ind = np.argmax(a, axis=None)\n",
    "print(scales[ind], lh[ind])"
   ]
  },
  {
   "cell_type": "code",
   "execution_count": 138,
   "metadata": {},
   "outputs": [
    {
     "data": {
      "image/png": "[encoded data removed]",
      "text/plain": [
       "<Figure size 432x288 with 1 Axes>"
      ]
     },
     "metadata": {
      "needs_background": "light"
     },
     "output_type": "display_data"
    }
   ],
   "source": [
    "step = 3\n",
    "\n",
    "start = 0\n",
    "stop = -1\n",
    "\n",
    "x_data = scales[start:stop]\n",
    "y_data = np.array(lh)[start:stop]\n",
    "\n",
    "fit = np.polyfit(x_data, y_data, 2)\n",
    "f = np.poly1d(fit)\n",
    "\n",
    "plt.scatter(x_data,y_data)\n",
    "plt.plot(x_data,f(x_data))\n",
    "\n",
    "plt.xticks(x_data[::step])\n",
    "plt.title('{}-{}'.format(time1-53, time2-53))\n",
    "\n",
    "plt.show()"
   ]
  },
  {
   "cell_type": "code",
   "execution_count": 139,
   "metadata": {},
   "outputs": [
    {
     "name": "stdout",
     "output_type": "stream",
     "text": [
      "44 48 1.34\n"
     ]
    }
   ],
   "source": [
    "evaluate = np.arange(scales[0], scales[-1], 0.01)\n",
    "x = np.around(evaluate[f(evaluate).argmax()], 2)\n",
    "\n",
    "#x = 1.34\n",
    "#x = scale2_backup[time1]\n",
    "\n",
    "for ww in np.arange(time1, weeks[-1]+1):\n",
    "    scale2[ww] = x\n",
    "print(time1-53, time2-53, x)"
   ]
  },
  {
   "cell_type": "code",
   "execution_count": 140,
   "metadata": {},
   "outputs": [],
   "source": [
    "n_runs = 5\n",
    "\n",
    "time1=53+48\n",
    "time2=53+51"
   ]
  },
  {
   "cell_type": "code",
   "execution_count": 141,
   "metadata": {},
   "outputs": [
    {
     "name": "stdout",
     "output_type": "stream",
     "text": [
      "0.93 -1457.0932711872783\n",
      "0.9600000000000001 -953.549400743319\n",
      "0.9900000000000001 -523.8599115808347\n",
      "1.02 -432.11209628110373\n",
      "1.0500000000000003 -455.7714919161963\n",
      "1.08 -622.611089232144\n",
      "1.1100000000000003 -863.2320829652781\n",
      "1.1400000000000001 -1735.4091402656031\n",
      "1.1700000000000004 -2453.6007571203563\n",
      "1.2000000000000002 -3534.7149276852697\n",
      "best:\n",
      "1.02 -432.11209628110373\n"
     ]
    }
   ],
   "source": [
    "t_stop = len(H_adm_cut[H_adm_cut['abs_week']<=time2])\n",
    "\n",
    "scales = np.arange(0.93,1.23,0.03)\n",
    "lh=[]\n",
    "\n",
    "for s2 in scales:\n",
    "    for tt in range(time1, time2+1):\n",
    "        scale2[tt]=s2\n",
    "    casuale = random.sample(range(100), n_runs)\n",
    "    like=likelihood(beta,lag,scale1,delay,scale2,x_test_a,x_test_s,time1,time2,\n",
    "                   fast_code = True, ordered_run_initialization=False)\n",
    "    lh.append(like)\n",
    "    print(s2,like)\n",
    "    \n",
    "    casuale = []\n",
    "    \n",
    "print('best:')\n",
    "\n",
    "a = np.array([lh])\n",
    "ind = np.argmax(a, axis=None)\n",
    "print(scales[ind], lh[ind])"
   ]
  },
  {
   "cell_type": "code",
   "execution_count": 142,
   "metadata": {},
   "outputs": [
    {
     "data": {
      "image/png": "[encoded data removed]",
      "text/plain": [
       "<Figure size 432x288 with 1 Axes>"
      ]
     },
     "metadata": {
      "needs_background": "light"
     },
     "output_type": "display_data"
    }
   ],
   "source": [
    "step = 3\n",
    "\n",
    "x_data = scales\n",
    "y_data = np.array(lh)\n",
    "\n",
    "fit = np.polyfit(x_data, y_data, 2)\n",
    "f = np.poly1d(fit)\n",
    "\n",
    "plt.scatter(x_data,y_data)\n",
    "plt.plot(x_data,f(x_data))\n",
    "\n",
    "plt.xticks(x_data[::step])\n",
    "plt.title('{}-{}'.format(time1-53, time2-53))\n",
    "\n",
    "plt.show()"
   ]
  },
  {
   "cell_type": "code",
   "execution_count": 143,
   "metadata": {},
   "outputs": [
    {
     "name": "stdout",
     "output_type": "stream",
     "text": [
      "48 51 1.03\n"
     ]
    }
   ],
   "source": [
    "evaluate = np.arange(scales[0], scales[-1], 0.01)\n",
    "x = np.around(evaluate[f(evaluate).argmax()], 2)\n",
    "\n",
    "#x = 1.06\n",
    "#x = scale2_backup[time1]\n",
    "\n",
    "for ww in np.arange(time1, weeks[-1]+1):\n",
    "    scale2[ww] = x\n",
    "print(time1-53, time2-53, x)"
   ]
  },
  {
   "cell_type": "code",
   "execution_count": 144,
   "metadata": {},
   "outputs": [],
   "source": [
    "n_runs = 5\n",
    "\n",
    "time1=53+51\n",
    "time2=53+52+1"
   ]
  },
  {
   "cell_type": "code",
   "execution_count": 149,
   "metadata": {},
   "outputs": [
    {
     "name": "stdout",
     "output_type": "stream",
     "text": [
      "1.0 -1899.492184298122\n",
      "1.03 -2023.194022255856\n",
      "1.06 -1273.5459497615093\n",
      "1.09 -984.0963986045563\n",
      "1.12 -782.1059797190983\n",
      "1.1500000000000001 -667.7266191252847\n",
      "1.1800000000000002 -741.6160860036389\n",
      "1.2100000000000002 -851.4415187291561\n",
      "1.2400000000000002 -1307.113930315044\n",
      "1.2700000000000002 -1371.2083702106593\n",
      "1.3000000000000003 -2180.832736203408\n",
      "1.3300000000000003 -2409.2203088489996\n",
      "best:\n",
      "1.1500000000000001 -667.7266191252847\n"
     ]
    }
   ],
   "source": [
    "t_stop = len(H_adm_cut[H_adm_cut['abs_week']<=time2])\n",
    "\n",
    "scales = np.arange(1.0, 1.35, 0.03)\n",
    "lh=[]\n",
    "\n",
    "for s2 in scales:\n",
    "    for tt in range(time1, time2+1):\n",
    "        scale2[tt]=s2\n",
    "        \n",
    "    casuale = random.sample(range(100), n_runs)\n",
    "    \n",
    "    like=likelihood(beta,lag,scale1,delay,scale2,x_test_a,x_test_s,time1,time2,\n",
    "                   fast_code = True, ordered_run_initialization=False)\n",
    "    lh.append(like)\n",
    "    print(s2,like)\n",
    "    \n",
    "    casuale = []\n",
    "    \n",
    "print('best:')\n",
    "a = np.array([lh])\n",
    "ind = np.argmax(a, axis=None)\n",
    "print(scales[ind], lh[ind])"
   ]
  },
  {
   "cell_type": "code",
   "execution_count": 150,
   "metadata": {},
   "outputs": [
    {
     "data": {
      "image/png": "[encoded data removed]",
      "text/plain": [
       "<Figure size 432x288 with 1 Axes>"
      ]
     },
     "metadata": {
      "needs_background": "light"
     },
     "output_type": "display_data"
    }
   ],
   "source": [
    "step = 3\n",
    "\n",
    "start = 0\n",
    "stop = -1\n",
    "\n",
    "x_data = scales[start:stop]\n",
    "y_data = np.array(lh)[start:stop]\n",
    "\n",
    "fit = np.polyfit(x_data, y_data, 2)\n",
    "f = np.poly1d(fit)\n",
    "\n",
    "plt.scatter(x_data,y_data)\n",
    "plt.plot(x_data,f(x_data))\n",
    "\n",
    "plt.xticks(x_data[::step])\n",
    "plt.title('{}-{}'.format(time1-53, time2-53))\n",
    "\n",
    "plt.show()"
   ]
  },
  {
   "cell_type": "code",
   "execution_count": 153,
   "metadata": {},
   "outputs": [
    {
     "name": "stdout",
     "output_type": "stream",
     "text": [
      "51 53 1.15\n"
     ]
    }
   ],
   "source": [
    "evaluate = np.arange(scales[0], scales[-1], 0.01)\n",
    "x = np.around(evaluate[f(evaluate).argmax()], 2)\n",
    "\n",
    "#x = 1.35\n",
    "#x = scale2_backup[time1]\n",
    "\n",
    "for ww in np.arange(time1, weeks[-1]+1):\n",
    "    scale2[ww] = x\n",
    "print(time1-53, time2-53, x)"
   ]
  },
  {
   "cell_type": "code",
   "execution_count": 154,
   "metadata": {},
   "outputs": [
    {
     "data": {
      "image/png": "[encoded data removed]",
      "text/plain": [
       "<Figure size 432x288 with 1 Axes>"
      ]
     },
     "metadata": {
      "needs_background": "light"
     },
     "output_type": "display_data"
    }
   ],
   "source": [
    "t_stop = len(H_adm_cut[H_adm_cut['abs_week']<=time2])\n",
    "\n",
    "casuale = random.sample(range(100), n_runs)\n",
    "    \n",
    "out = run_simulation(beta,lag,intervention=True,\n",
    "                  LD=[[-1,-1]],\n",
    "                  scale1=scale1,scale2=scale2,\n",
    "                  x_test_a=x_test_a, x_test_s=x_test_s,\n",
    "                  projections = True, proj_scenario = 'none',\n",
    "                  fast_code = True, ordered_run_initialization=False)\n",
    "casuale = []\n",
    "\n",
    "comp = 'new_H'\n",
    "\n",
    "ddf = pd.DataFrame(0, index=np.arange(t_stop), columns=np.arange(n_runs))\n",
    "for variant in variants:\n",
    "    for past in past_infection[variant]:\n",
    "        for status_vax in stati_vax:\n",
    "            strain = past+variant+'_'+status_vax\n",
    "            ddf += out[comp][strain].copy()\n",
    "\n",
    "ddf = add_median_CI(ddf)\n",
    "ddf['time'] = calendar.iloc[:t_stop]\n",
    "\n",
    "plt.plot(ddf['median'])\n",
    "plt.scatter(H_adm_cut.index, H_adm_cut['hosp_pred'], color='black')\n",
    "plt.show()"
   ]
  },
  {
   "cell_type": "code",
   "execution_count": 155,
   "metadata": {},
   "outputs": [],
   "source": [
    "time1=53+52+1\n",
    "time2=53+52+4"
   ]
  },
  {
   "cell_type": "code",
   "execution_count": 156,
   "metadata": {},
   "outputs": [
    {
     "name": "stdout",
     "output_type": "stream",
     "text": [
      "0.5 -26230.907867277718\n",
      "0.55 -16852.963532056565\n",
      "0.6000000000000001 -11353.190141534133\n",
      "0.6500000000000001 -6627.241344638154\n",
      "0.7000000000000002 -2880.9463932441413\n",
      "0.7500000000000002 -1071.3340327405822\n",
      "0.8000000000000003 -1097.687259737595\n",
      "0.8500000000000003 -2812.066522209645\n",
      "0.9000000000000004 -5491.668051988101\n",
      "0.9500000000000004 -9812.117898086903\n",
      "best:\n",
      "0.7500000000000002 -1071.3340327405822\n"
     ]
    }
   ],
   "source": [
    "n_runs = 5\n",
    "\n",
    "t_stop = len(H_adm_cut[H_adm_cut['abs_week']<=time2])\n",
    "\n",
    "scales = np.arange(0.5, 1.0, 0.05)\n",
    "lh=[]\n",
    "\n",
    "for s2 in scales:\n",
    "    for tt in range(time1, time2+1):\n",
    "        scale2[tt]=s2\n",
    "    casuale = random.sample(range(100), n_runs)\n",
    "    \n",
    "    like=likelihood(beta,lag,scale1,delay,scale2,x_test_a,x_test_s,time1,time2,\n",
    "                   fast_code = True, ordered_run_initialization=False)\n",
    "    lh.append(like)\n",
    "    print(s2,like)\n",
    "    \n",
    "    casuale = []\n",
    "    \n",
    "print('best:')\n",
    "a = np.array([lh])\n",
    "ind = np.argmax(a, axis=None)\n",
    "print(scales[ind], lh[ind])"
   ]
  },
  {
   "cell_type": "code",
   "execution_count": 157,
   "metadata": {},
   "outputs": [
    {
     "data": {
      "image/png": "[encoded data removed]",
      "text/plain": [
       "<Figure size 432x288 with 1 Axes>"
      ]
     },
     "metadata": {
      "needs_background": "light"
     },
     "output_type": "display_data"
    }
   ],
   "source": [
    "step = 3\n",
    "\n",
    "start = 0\n",
    "stop = -1\n",
    "\n",
    "x_data = scales[start:stop]\n",
    "y_data = np.array(lh)[start:stop]\n",
    "\n",
    "fit = np.polyfit(x_data, y_data, 2)\n",
    "f = np.poly1d(fit)\n",
    "\n",
    "plt.scatter(x_data,y_data)\n",
    "plt.plot(x_data,f(x_data))\n",
    "\n",
    "plt.title('{}-{}'.format(time1-53-52, time2-53-52))\n",
    "\n",
    "plt.xticks(x_data[::step])\n",
    "plt.show()"
   ]
  },
  {
   "cell_type": "code",
   "execution_count": 162,
   "metadata": {},
   "outputs": [
    {
     "name": "stdout",
     "output_type": "stream",
     "text": [
      "1 4 0.78\n"
     ]
    }
   ],
   "source": [
    "evaluate = np.arange(scales[0], scales[-1], 0.01)\n",
    "x = np.around(evaluate[f(evaluate).argmax()], 2)\n",
    "\n",
    "#x = 0.8\n",
    "#x = scale2_backup[time1]\n",
    "\n",
    "#print(scale2_backup[time1])\n",
    "\n",
    "for ww in np.arange(time1, weeks[-1]+1):\n",
    "    scale2[ww] = x\n",
    "print(time1-53-52, time2-53-52, x)"
   ]
  },
  {
   "cell_type": "code",
   "execution_count": 163,
   "metadata": {},
   "outputs": [
    {
     "data": {
      "image/png": "[encoded data removed]",
      "text/plain": [
       "<Figure size 432x288 with 1 Axes>"
      ]
     },
     "metadata": {
      "needs_background": "light"
     },
     "output_type": "display_data"
    }
   ],
   "source": [
    "t_stop = len(H_adm_cut[H_adm_cut['abs_week']<=time2])\n",
    "\n",
    "casuale = random.sample(range(100), n_runs)\n",
    "    \n",
    "out = run_simulation(beta,lag,intervention=True,\n",
    "                  LD=[[-1,-1]],\n",
    "                  scale1=scale1,scale2=scale2,\n",
    "                  x_test_a=x_test_a, x_test_s=x_test_s,\n",
    "                  projections = True, proj_scenario = 'none',\n",
    "                  fast_code = True, ordered_run_initialization=False)\n",
    "casuale = []\n",
    "\n",
    "comp = 'new_H'\n",
    "\n",
    "ddf = pd.DataFrame(0, index=np.arange(t_stop), columns=np.arange(n_runs))\n",
    "for variant in variants:\n",
    "    for past in past_infection[variant]:\n",
    "        for status_vax in stati_vax:\n",
    "            strain = past+variant+'_'+status_vax\n",
    "            ddf += out[comp][strain].copy()\n",
    "\n",
    "ddf = add_median_CI(ddf)\n",
    "ddf['time'] = calendar.iloc[:t_stop]\n",
    "\n",
    "plt.plot(ddf['median'], linewidth = 5)\n",
    "plt.scatter(H_adm_cut.index, H_adm_cut['hosp_pred'], color='black')\n",
    "plt.scatter(H_adm_cut.index, H_adm_cut['hosp_pred'].rolling(window=7).mean(), color='red', alpha = 0.5)\n",
    "\n",
    "plt.show()"
   ]
  },
  {
   "cell_type": "code",
   "execution_count": 164,
   "metadata": {},
   "outputs": [],
   "source": [
    "time1=53+52+4\n",
    "time2=53+52+7"
   ]
  },
  {
   "cell_type": "code",
   "execution_count": 165,
   "metadata": {},
   "outputs": [
    {
     "name": "stdout",
     "output_type": "stream",
     "text": [
      "0.6 -6890.821379223003\n",
      "0.63 -5084.909845606352\n",
      "0.66 -3789.323943731226\n",
      "0.6900000000000001 -2537.46412891626\n",
      "0.7200000000000001 -1827.4387052273833\n",
      "0.7500000000000001 -993.7177957129616\n",
      "0.7800000000000001 -746.9457219558744\n",
      "0.8100000000000002 -799.3511579841443\n",
      "0.8400000000000002 -1219.8018535498222\n",
      "0.8700000000000002 -1763.188375640956\n",
      "0.9000000000000002 -3691.0587830471814\n",
      "best:\n",
      "0.7800000000000001 -746.9457219558744\n"
     ]
    }
   ],
   "source": [
    "n_runs = 5\n",
    "\n",
    "t_stop = len(H_adm_cut[H_adm_cut['abs_week']<=time2])\n",
    "\n",
    "scales = np.arange(0.6, 0.9, 0.03)\n",
    "lh=[]\n",
    "\n",
    "for s2 in scales:\n",
    "    for tt in range(time1, time2+1):\n",
    "        scale2[tt]=s2\n",
    "        \n",
    "    casuale = random.sample(range(100), n_runs)\n",
    "    \n",
    "    like=likelihood(beta,lag,scale1,delay,scale2,x_test_a,x_test_s,time1,time2,\n",
    "                   fast_code = True, ordered_run_initialization=False)\n",
    "    lh.append(like)\n",
    "    print(s2,like)\n",
    "    \n",
    "    casuale = []\n",
    "    \n",
    "print('best:')\n",
    "a = np.array([lh])\n",
    "ind = np.argmax(a, axis=None)\n",
    "print(scales[ind], lh[ind])"
   ]
  },
  {
   "cell_type": "code",
   "execution_count": 166,
   "metadata": {},
   "outputs": [
    {
     "data": {
      "image/png": "[encoded data removed]",
      "text/plain": [
       "<Figure size 432x288 with 1 Axes>"
      ]
     },
     "metadata": {
      "needs_background": "light"
     },
     "output_type": "display_data"
    }
   ],
   "source": [
    "step = 3\n",
    "\n",
    "start = 0\n",
    "stop = -1\n",
    "\n",
    "x_data = scales[start:stop]\n",
    "y_data = np.array(lh)[start:stop]\n",
    "\n",
    "fit = np.polyfit(x_data, y_data, 2)\n",
    "f = np.poly1d(fit)\n",
    "\n",
    "plt.scatter(x_data,y_data)\n",
    "plt.plot(x_data,f(x_data))\n",
    "\n",
    "plt.xticks(x_data[::step])\n",
    "\n",
    "plt.title('{}-{}'.format(time1-53-52, time2-53-52))\n",
    "\n",
    "plt.show()"
   ]
  },
  {
   "cell_type": "code",
   "execution_count": 167,
   "metadata": {},
   "outputs": [
    {
     "name": "stdout",
     "output_type": "stream",
     "text": [
      "4 7 0.79\n"
     ]
    }
   ],
   "source": [
    "evaluate = np.arange(scales[0], scales[-1], 0.01)\n",
    "x = np.around(evaluate[f(evaluate).argmax()], 2)\n",
    "\n",
    "#x = 0.76\n",
    "#x = scale2_backup[time1]\n",
    "\n",
    "#print(scale2_backup[time1])\n",
    "\n",
    "for ww in np.arange(time1, weeks[-1]+1):\n",
    "    scale2[ww] = x\n",
    "print(time1-53-52, time2-53-52, x)"
   ]
  },
  {
   "cell_type": "code",
   "execution_count": 168,
   "metadata": {},
   "outputs": [
    {
     "data": {
      "image/png": "[encoded data removed]",
      "text/plain": [
       "<Figure size 432x288 with 1 Axes>"
      ]
     },
     "metadata": {
      "needs_background": "light"
     },
     "output_type": "display_data"
    }
   ],
   "source": [
    "t_stop = len(H_adm_cut[H_adm_cut['abs_week']<=time2])\n",
    "\n",
    "casuale = random.sample(range(100), n_runs)\n",
    "    \n",
    "out = run_simulation(beta,lag,intervention=True,\n",
    "                  LD=[[-1,-1]],\n",
    "                  scale1=scale1,scale2=scale2,\n",
    "                  x_test_a=x_test_a, x_test_s=x_test_s,\n",
    "                  projections = True, proj_scenario = 'none',\n",
    "                  fast_code = True, ordered_run_initialization=False)\n",
    "casuale = []\n",
    "\n",
    "comp = 'new_H'\n",
    "\n",
    "ddf = pd.DataFrame(0, index=np.arange(t_stop), columns=np.arange(n_runs))\n",
    "for variant in variants:\n",
    "    for past in past_infection[variant]:\n",
    "        for status_vax in stati_vax:\n",
    "            strain = past+variant+'_'+status_vax\n",
    "            ddf += out[comp][strain].copy()\n",
    "\n",
    "ddf = add_median_CI(ddf)\n",
    "ddf['time'] = calendar.iloc[:t_stop]\n",
    "\n",
    "plt.plot(ddf['median'], linewidth = 5)\n",
    "plt.scatter(H_adm_cut.index, H_adm_cut['hosp_pred'], color='black')\n",
    "plt.scatter(H_adm_cut.index, H_adm_cut['hosp_pred'].rolling(window=7, center=True).mean(), \n",
    "            color='red', alpha = 0.5)\n",
    "\n",
    "plt.show()"
   ]
  },
  {
   "cell_type": "code",
   "execution_count": 169,
   "metadata": {},
   "outputs": [],
   "source": [
    "n_runs = 5\n",
    "\n",
    "time1=53+52+7\n",
    "time2=53+52+11"
   ]
  },
  {
   "cell_type": "code",
   "execution_count": 170,
   "metadata": {
    "scrolled": true
   },
   "outputs": [
    {
     "name": "stdout",
     "output_type": "stream",
     "text": [
      "0.8 -998.9649382507982\n",
      "0.8300000000000001 -696.0454066786087\n",
      "0.8600000000000001 -893.5988847092312\n",
      "0.8900000000000001 -1225.3258745233052\n",
      "0.9200000000000002 -2552.6460734569746\n",
      "0.9500000000000002 -4719.321669301247\n",
      "0.9800000000000002 -6593.56229919908\n",
      "best:\n",
      "0.8300000000000001 -696.0454066786087\n"
     ]
    }
   ],
   "source": [
    "t_stop = len(H_adm_cut[H_adm_cut['abs_week']<=time2])\n",
    "\n",
    "scales = np.arange(0.8,1.0,0.03)\n",
    "lh=[]\n",
    "\n",
    "for s2 in scales:\n",
    "    for tt in range(time1, time2+1):\n",
    "        scale2[tt]=s2\n",
    "    casuale = random.sample(range(100), n_runs)\n",
    "    \n",
    "    like=likelihood(beta,lag,scale1,delay,scale2,x_test_a,x_test_s,time1,time2,\n",
    "                   fast_code = True, ordered_run_initialization=False)\n",
    "    lh.append(like)\n",
    "    print(s2,like)\n",
    "    \n",
    "    casuale = []\n",
    "    \n",
    "print('best:')\n",
    "a = np.array([lh])\n",
    "ind = np.argmax(a, axis=None)\n",
    "print(scales[ind], lh[ind])"
   ]
  },
  {
   "cell_type": "code",
   "execution_count": 171,
   "metadata": {},
   "outputs": [
    {
     "data": {
      "image/png": "[encoded data removed]",
      "text/plain": [
       "<Figure size 432x288 with 1 Axes>"
      ]
     },
     "metadata": {
      "needs_background": "light"
     },
     "output_type": "display_data"
    }
   ],
   "source": [
    "step = 3\n",
    "\n",
    "start = 0\n",
    "stop = -1\n",
    "\n",
    "x_data = scales[start:stop]\n",
    "y_data = np.array(lh)[start:stop]\n",
    "\n",
    "fit = np.polyfit(x_data, y_data, 2)\n",
    "f = np.poly1d(fit)\n",
    "\n",
    "plt.scatter(x_data,y_data)\n",
    "plt.plot(x_data,f(x_data))\n",
    "\n",
    "plt.xticks(x_data[::step])\n",
    "\n",
    "plt.title('{}-{}'.format(time1-53-52, time2-53-52))\n",
    "\n",
    "plt.show()"
   ]
  },
  {
   "cell_type": "code",
   "execution_count": 172,
   "metadata": {},
   "outputs": [
    {
     "name": "stdout",
     "output_type": "stream",
     "text": [
      "7 11 0.84\n"
     ]
    }
   ],
   "source": [
    "evaluate = np.arange(scales[0], scales[-1], 0.01)\n",
    "x = np.around(evaluate[f(evaluate).argmax()], 2)\n",
    "\n",
    "#x = 0.9\n",
    "#x = scale2_backup[time1]\n",
    "\n",
    "#print(scale2_backup[time1])\n",
    "\n",
    "for ww in np.arange(time1, weeks[-1]+1):\n",
    "    scale2[ww] = x\n",
    "print(time1-53-52, time2-53-52, x)"
   ]
  },
  {
   "cell_type": "code",
   "execution_count": 173,
   "metadata": {},
   "outputs": [
    {
     "data": {
      "image/png": "[encoded data removed]",
      "text/plain": [
       "<Figure size 432x288 with 1 Axes>"
      ]
     },
     "metadata": {
      "needs_background": "light"
     },
     "output_type": "display_data"
    }
   ],
   "source": [
    "t_stop = len(H_adm_cut[H_adm_cut['abs_week']<=time2])\n",
    "\n",
    "casuale = random.sample(range(100), n_runs)\n",
    "    \n",
    "out = run_simulation(beta,lag,intervention=True,\n",
    "                  LD=[[-1,-1]],\n",
    "                  scale1=scale1,scale2=scale2,\n",
    "                  x_test_a=x_test_a, x_test_s=x_test_s,\n",
    "                  projections = True, proj_scenario = 'none',\n",
    "                  fast_code = True, ordered_run_initialization=False)\n",
    "casuale = []\n",
    "\n",
    "comp = 'new_H'\n",
    "\n",
    "ddf = pd.DataFrame(0, index=np.arange(t_stop), columns=np.arange(n_runs))\n",
    "for variant in variants:\n",
    "    for past in past_infection[variant]:\n",
    "        for status_vax in stati_vax:\n",
    "            strain = past+variant+'_'+status_vax\n",
    "            ddf += out[comp][strain].copy()\n",
    "\n",
    "ddf = add_median_CI(ddf)\n",
    "ddf['time'] = calendar.iloc[:t_stop]\n",
    "\n",
    "plt.plot(ddf['median'], linewidth = 5)\n",
    "plt.scatter(H_adm_cut.index, H_adm_cut['hosp_pred'], color='black')\n",
    "plt.scatter(H_adm_cut.index, H_adm_cut['hosp_pred'].rolling(window=7, center=True).mean(), \n",
    "            color='red', alpha = 0.5)\n",
    "\n",
    "plt.show()"
   ]
  },
  {
   "cell_type": "code",
   "execution_count": 174,
   "metadata": {},
   "outputs": [],
   "source": [
    "n_runs = 5\n",
    "\n",
    "time1=53+52+11\n",
    "time2=53+52+14"
   ]
  },
  {
   "cell_type": "code",
   "execution_count": 175,
   "metadata": {},
   "outputs": [
    {
     "name": "stdout",
     "output_type": "stream",
     "text": [
      "0.6 -7938.009224023487\n",
      "0.63 -5156.998741928632\n",
      "0.66 -3988.2513289558365\n",
      "0.6900000000000001 -2907.602158743429\n",
      "0.7200000000000001 -1526.618640399378\n",
      "0.7500000000000001 -812.8877363334423\n",
      "0.7800000000000001 -1039.2679055997987\n",
      "0.8100000000000002 -1374.7352475167927\n",
      "0.8400000000000002 -2695.3135014028667\n",
      "0.8700000000000002 -3875.2187799514522\n",
      "0.9000000000000002 -6116.135023196035\n",
      "best:\n",
      "0.7500000000000001 -812.8877363334423\n"
     ]
    }
   ],
   "source": [
    "t_stop = len(H_adm_cut[H_adm_cut['abs_week']<=time2])\n",
    "\n",
    "scales = np.arange(0.6,0.9,0.03)\n",
    "lh=[]\n",
    "\n",
    "for s2 in scales:\n",
    "    for tt in range(time1, time2+1):\n",
    "        scale2[tt]=s2\n",
    "    casuale = random.sample(range(100), n_runs)\n",
    "    \n",
    "    like=likelihood(beta,lag,scale1,delay,scale2,x_test_a,x_test_s,time1,time2,\n",
    "                   fast_code = True, ordered_run_initialization=False)\n",
    "    lh.append(like)\n",
    "    print(s2,like)\n",
    "    \n",
    "    casuale = []\n",
    "    \n",
    "print('best:')\n",
    "a = np.array([lh])\n",
    "ind = np.argmax(a, axis=None)\n",
    "print(scales[ind], lh[ind])"
   ]
  },
  {
   "cell_type": "code",
   "execution_count": 176,
   "metadata": {},
   "outputs": [
    {
     "data": {
      "image/png": "[encoded data removed]",
      "text/plain": [
       "<Figure size 432x288 with 1 Axes>"
      ]
     },
     "metadata": {
      "needs_background": "light"
     },
     "output_type": "display_data"
    }
   ],
   "source": [
    "step = 3\n",
    "\n",
    "start = 0\n",
    "stop = -1\n",
    "\n",
    "x_data = scales[start:stop]\n",
    "y_data = np.array(lh)[start:stop]\n",
    "\n",
    "fit = np.polyfit(x_data, y_data, 2)\n",
    "f = np.poly1d(fit)\n",
    "\n",
    "plt.scatter(x_data,y_data)\n",
    "plt.plot(x_data,f(x_data))\n",
    "\n",
    "plt.xticks(x_data[::step])\n",
    "\n",
    "plt.title('{}-{}'.format(time1-53-52, time2-53-52))\n",
    "\n",
    "plt.show()"
   ]
  },
  {
   "cell_type": "code",
   "execution_count": 177,
   "metadata": {},
   "outputs": [
    {
     "name": "stdout",
     "output_type": "stream",
     "text": [
      "11 14 0.76\n"
     ]
    }
   ],
   "source": [
    "evaluate = np.arange(scales[0], scales[-1], 0.01)\n",
    "x = np.around(evaluate[f(evaluate).argmax()], 2)\n",
    "\n",
    "#x = 0.72\n",
    "#x = scale2_backup[time1]\n",
    "\n",
    "#print(scale2_backup[time1])\n",
    "\n",
    "for ww in np.arange(time1, weeks[-1]+1):\n",
    "    scale2[ww] = x\n",
    "print(time1-53-52, time2-53-52, x)"
   ]
  },
  {
   "cell_type": "code",
   "execution_count": 178,
   "metadata": {},
   "outputs": [
    {
     "data": {
      "image/png": "[encoded data removed]",
      "text/plain": [
       "<Figure size 432x288 with 1 Axes>"
      ]
     },
     "metadata": {
      "needs_background": "light"
     },
     "output_type": "display_data"
    }
   ],
   "source": [
    "t_stop = len(H_adm_cut[H_adm_cut['abs_week']<=time2])\n",
    "\n",
    "casuale = random.sample(range(100), n_runs)\n",
    "    \n",
    "out = run_simulation(beta,lag,intervention=True,\n",
    "                  LD=[[-1,-1]],\n",
    "                  scale1=scale1,scale2=scale2,\n",
    "                  x_test_a=x_test_a, x_test_s=x_test_s,\n",
    "                  projections = True, proj_scenario = 'none',\n",
    "                  fast_code = True, ordered_run_initialization=False)\n",
    "casuale = []\n",
    "\n",
    "comp = 'new_H'\n",
    "\n",
    "ddf = pd.DataFrame(0, index=np.arange(t_stop), columns=np.arange(n_runs))\n",
    "for variant in variants:\n",
    "    for past in past_infection[variant]:\n",
    "        for status_vax in stati_vax:\n",
    "            strain = past+variant+'_'+status_vax\n",
    "            ddf += out[comp][strain].copy()\n",
    "\n",
    "ddf = add_median_CI(ddf)\n",
    "ddf['time'] = calendar.iloc[:t_stop]\n",
    "\n",
    "plt.plot(ddf['median'], linewidth = 5)\n",
    "plt.scatter(H_adm_cut.index, H_adm_cut['hosp_pred'], color='black')\n",
    "plt.scatter(H_adm_cut.index, H_adm_cut['hosp_pred'].rolling(window=7, center=True).mean(), \n",
    "            color='red', alpha = 0.5)\n",
    "\n",
    "plt.show()"
   ]
  },
  {
   "cell_type": "code",
   "execution_count": 179,
   "metadata": {},
   "outputs": [],
   "source": [
    "n_runs = 5\n",
    "\n",
    "time1=53+52+14\n",
    "time2=53+52+20"
   ]
  },
  {
   "cell_type": "code",
   "execution_count": 180,
   "metadata": {},
   "outputs": [
    {
     "name": "stdout",
     "output_type": "stream",
     "text": [
      "0.5 -21371.321787847937\n",
      "0.55 -12089.627372127019\n",
      "0.6000000000000001 -5178.385647471011\n",
      "0.6500000000000001 -1820.4851792468191\n",
      "0.7000000000000002 -1396.9882201981015\n",
      "0.7500000000000002 -4353.948904909319\n",
      "0.8000000000000003 -10407.824128001308\n",
      "best:\n",
      "0.7000000000000002 -1396.9882201981015\n"
     ]
    }
   ],
   "source": [
    "t_stop = len(H_adm_cut[H_adm_cut['abs_week']<=time2])\n",
    "\n",
    "scales = np.arange(0.5,0.8,0.05)\n",
    "lh=[]\n",
    "\n",
    "for s2 in scales:\n",
    "    for tt in range(time1, time2+1):\n",
    "        scale2[tt]=s2\n",
    "    casuale = random.sample(range(100), n_runs)\n",
    "    \n",
    "    like=likelihood(beta,lag,scale1,delay,scale2,x_test_a,x_test_s,time1,time2,\n",
    "                   fast_code = True, ordered_run_initialization=False)\n",
    "    lh.append(like)\n",
    "    print(s2,like)\n",
    "    \n",
    "    casuale = []\n",
    "    \n",
    "print('best:')\n",
    "a = np.array([lh])\n",
    "ind = np.argmax(a, axis=None)\n",
    "print(scales[ind], lh[ind])"
   ]
  },
  {
   "cell_type": "code",
   "execution_count": 181,
   "metadata": {},
   "outputs": [
    {
     "data": {
      "image/png": "[encoded data removed]",
      "text/plain": [
       "<Figure size 432x288 with 1 Axes>"
      ]
     },
     "metadata": {
      "needs_background": "light"
     },
     "output_type": "display_data"
    }
   ],
   "source": [
    "step = 3\n",
    "\n",
    "start = 0\n",
    "stop = -1\n",
    "\n",
    "x_data = scales[start:stop]\n",
    "y_data = np.array(lh)[start:stop]\n",
    "\n",
    "fit = np.polyfit(x_data, y_data, 2)\n",
    "f = np.poly1d(fit)\n",
    "\n",
    "plt.scatter(x_data,y_data)\n",
    "plt.plot(x_data,f(x_data))\n",
    "\n",
    "plt.xticks(x_data[::step])\n",
    "\n",
    "plt.title('{}-{}'.format(time1-53-52, time2-53-52))\n",
    "\n",
    "plt.show()"
   ]
  },
  {
   "cell_type": "code",
   "execution_count": 182,
   "metadata": {},
   "outputs": [
    {
     "name": "stdout",
     "output_type": "stream",
     "text": [
      "14 20 0.68\n"
     ]
    }
   ],
   "source": [
    "evaluate = np.arange(scales[0], scales[-1], 0.01)\n",
    "x = np.around(evaluate[f(evaluate).argmax()], 2)\n",
    "\n",
    "#x = 0.64\n",
    "#x = scale2_backup[time1]\n",
    "\n",
    "for ww in np.arange(time1, weeks[-1]+1):\n",
    "    scale2[ww] = x\n",
    "print(time1-53-52, time2-53-52, x)"
   ]
  },
  {
   "cell_type": "code",
   "execution_count": 183,
   "metadata": {},
   "outputs": [
    {
     "data": {
      "image/png": "[encoded data removed]",
      "text/plain": [
       "<Figure size 432x288 with 1 Axes>"
      ]
     },
     "metadata": {
      "needs_background": "light"
     },
     "output_type": "display_data"
    }
   ],
   "source": [
    "t_stop = len(H_adm_cut[H_adm_cut['abs_week']<=time2])\n",
    "\n",
    "casuale = random.sample(range(100), n_runs)\n",
    "    \n",
    "out = run_simulation(beta,lag,intervention=True,\n",
    "                  LD=[[-1,-1]],\n",
    "                  scale1=scale1,scale2=scale2,\n",
    "                  x_test_a=x_test_a, x_test_s=x_test_s,\n",
    "                  projections = True, proj_scenario = 'none',\n",
    "                  fast_code = True, ordered_run_initialization=False)\n",
    "casuale = []\n",
    "\n",
    "comp = 'new_H'\n",
    "\n",
    "ddf = pd.DataFrame(0, index=np.arange(t_stop), columns=np.arange(n_runs))\n",
    "for variant in variants:\n",
    "    for past in past_infection[variant]:\n",
    "        for status_vax in stati_vax:\n",
    "            strain = past+variant+'_'+status_vax\n",
    "            ddf += out[comp][strain].copy()\n",
    "\n",
    "ddf = add_median_CI(ddf)\n",
    "ddf['time'] = calendar.iloc[:t_stop]\n",
    "\n",
    "plt.plot(ddf['median'], linewidth = 5)\n",
    "plt.scatter(H_adm_cut.index, H_adm_cut['hosp_pred'], color='black')\n",
    "plt.scatter(H_adm_cut.index, H_adm_cut['hosp_pred'].rolling(window=7, center=True).mean(), \n",
    "            color='red', alpha = 0.5)\n",
    "\n",
    "plt.show()"
   ]
  },
  {
   "cell_type": "markdown",
   "metadata": {},
   "source": [
    "# choose final date of the simulation"
   ]
  },
  {
   "cell_type": "code",
   "execution_count": 51,
   "metadata": {},
   "outputs": [
    {
     "data": {
      "text/plain": [
       "232"
      ]
     },
     "execution_count": 51,
     "metadata": {},
     "output_type": "execute_result"
    }
   ],
   "source": [
    "t_stop = calendar[calendar[0]=='2022-05-23'].index[0] \n",
    "t_stop "
   ]
  },
  {
   "cell_type": "markdown",
   "metadata": {},
   "source": [
    "# save scaling factors"
   ]
  },
  {
   "cell_type": "code",
   "execution_count": 189,
   "metadata": {},
   "outputs": [],
   "source": [
    "df=pd.DataFrame(scale2.values())\n",
    "df.columns=['scaling_exit']\n",
    "df['week']=scale2.keys()\n",
    "df['week-53'] = df['week']-53\n",
    "df['test_s']= list(x_test_s.values())\n",
    "df['test_a']= list(x_test_a.values())\n",
    "\n",
    "df[df['week']<=time2].to_csv('./../input/scaling_test_fitw72_exact-daily-doses-par-residence_effective-BA2.csv',\n",
    "                                                                                                index=None) #input"
   ]
  },
  {
   "cell_type": "markdown",
   "metadata": {},
   "source": [
    "# run simulation and save output"
   ]
  },
  {
   "cell_type": "code",
   "execution_count": 52,
   "metadata": {},
   "outputs": [],
   "source": [
    "last_week_fit = 53+72\n",
    "last_week_fit2 = str(last_week_fit-53)\n",
    "\n",
    "df = pd.read_csv('./../input/scaling_test_fitw72_exact-daily-doses-par-residence_effective-BA2.csv')\n",
    "\n",
    "x_test_s = dict(zip(df['week'],df['test_s']))\n",
    "x_test_a = dict(zip(df['week'],df['test_a']))\n",
    "scale2 = dict(zip(df['week'],df['scaling_exit']))"
   ]
  },
  {
   "cell_type": "code",
   "execution_count": 53,
   "metadata": {},
   "outputs": [
    {
     "name": "stdout",
     "output_type": "stream",
     "text": [
      "--- 16.72404718399048 seconds ---\n"
     ]
    }
   ],
   "source": [
    "n_runs = 5\n",
    " \n",
    "start_time = time.time()\n",
    "\n",
    "out = run_simulation(beta,lag,intervention=True,\n",
    "                          LD=[[-1,-1]],\n",
    "                          scale1=scale1,scale2=scale2,\n",
    "                          x_test_a=x_test_a, x_test_s=x_test_s,\n",
    "                          projections = True, proj_scenario = 'none', \n",
    "                          fast_code = False, ordered_run_initialization = True)\n",
    "\n",
    "print(\"--- %s seconds ---\" % (time.time() - start_time))"
   ]
  },
  {
   "cell_type": "code",
   "execution_count": 190,
   "metadata": {},
   "outputs": [
    {
     "name": "stdout",
     "output_type": "stream",
     "text": [
      "--- 851.9295148849487 seconds ---\n"
     ]
    }
   ],
   "source": [
    "n_runs = 100\n",
    " \n",
    "start_time = time.time()\n",
    "\n",
    "out = run_simulation(beta,lag,intervention=True,\n",
    "                          LD=[[-1,-1]],\n",
    "                          scale1=scale1,scale2=scale2,\n",
    "                          x_test_a=x_test_a, x_test_s=x_test_s,\n",
    "                          projections = True, proj_scenario = 'none', \n",
    "                          fast_code = False, ordered_run_initialization = True)\n",
    "\n",
    "print(\"--- %s seconds ---\" % (time.time() - start_time))"
   ]
  },
  {
   "cell_type": "code",
   "execution_count": 57,
   "metadata": {},
   "outputs": [],
   "source": [
    "dates = calendar[0].apply(lambda x: x.strftime('%Y-%m-%d'))"
   ]
  },
  {
   "cell_type": "code",
   "execution_count": 58,
   "metadata": {},
   "outputs": [],
   "source": [
    "folder = \"./../output\""
   ]
  },
  {
   "cell_type": "code",
   "execution_count": 59,
   "metadata": {},
   "outputs": [],
   "source": [
    "comp_keys = ['new_H']\n",
    "\n",
    "for c in range(len(comp_keys)):\n",
    "    for variant in variants:\n",
    "        ddf = pd.DataFrame(0, index=np.arange(t_stop), columns=np.arange(n_runs))\n",
    "        for past in past_infection[variant]:\n",
    "            for status_vax in stati_vax:\n",
    "                strain = past+variant+'_'+status_vax\n",
    "                ddf += out[comp_keys[c]][strain].copy()\n",
    "        ddf = add_median_CI(ddf)\n",
    "        ddf['time'] = calendar.iloc[:t_stop]\n",
    "        ddf.to_csv('{}/{}_{}_scenario_{}_runs{}_{}_both.csv'.format(folder, comp_keys[c], reg, 'fit', n_runs, variant))\n",
    "        \n",
    "for c in range(len(comp_keys)):\n",
    "    ddf = pd.DataFrame(0, index=np.arange(t_stop), columns=np.arange(n_runs))\n",
    "    for variant in variants:\n",
    "        for past in past_infection[variant]:\n",
    "            for status_vax in stati_vax:\n",
    "                strain = past+variant+'_'+status_vax\n",
    "                ddf += out[comp_keys[c]][strain].copy()\n",
    "    ddf = add_median_CI(ddf)\n",
    "    ddf['time'] = calendar.iloc[:t_stop]\n",
    "    ddf.to_csv('{}/{}_{}_scenario_{}_runs{}_{}.csv'.format(folder, \n",
    "                                    comp_keys[c], reg, 'fit', n_runs, 'both_both'))"
   ]
  },
  {
   "cell_type": "markdown",
   "metadata": {},
   "source": [
    "# plot results"
   ]
  },
  {
   "cell_type": "code",
   "execution_count": 60,
   "metadata": {},
   "outputs": [],
   "source": [
    "def add_median_CI2(DF):\n",
    "    df = DF.copy()\n",
    "    df['p1'] = df[[str(i) for i in range(n_runs)]].quantile(0.025, axis=1)\n",
    "    df['median'] = df[[str(i) for i in range(n_runs)]].median(axis=1)  \n",
    "    df['p2'] = df[[str(i) for i in range(n_runs)]].quantile(0.975, axis=1)\n",
    "    return df\n",
    "\n",
    "def add_median_CI(DF):\n",
    "    df = DF.copy()\n",
    "    df['p1'] = df[[i for i in range(n_runs)]].quantile(0.025, axis=1)\n",
    "    df['median'] = df[[i for i in range(n_runs)]].median(axis=1)  \n",
    "    df['p2'] = df[[i for i in range(n_runs)]].quantile(0.975, axis=1)\n",
    "    return df\n",
    "\n",
    "def aggregate_week(DF):\n",
    "    y = DF.copy()\n",
    "    y['date']=pd.to_datetime(y['time'],format='%Y-%m-%d')\n",
    "    y = y.resample('W', on='date').sum() \n",
    "    y = y.reset_index()\n",
    "    y2 = add_median_CI2(y)\n",
    "    y2['week']=y2['date'].dt.isocalendar().week\n",
    "    return y2"
   ]
  },
  {
   "cell_type": "code",
   "execution_count": 61,
   "metadata": {},
   "outputs": [],
   "source": [
    "colors=[\"#264653\",\"#e76f51\",\"#90be6d\",\"#264653\",\"#e76f51\",\"#90be6d\"]"
   ]
  },
  {
   "cell_type": "code",
   "execution_count": 62,
   "metadata": {},
   "outputs": [],
   "source": [
    "idx1=0\n",
    "width=2\n",
    "\n",
    "c_w5='#e8e8e4'\n",
    "c_w6='lightgrey'"
   ]
  },
  {
   "cell_type": "code",
   "execution_count": 64,
   "metadata": {},
   "outputs": [],
   "source": [
    "df = pd.read_csv('{}/new_H_{}_scenario_fit_runs{}_both_both.csv'.format(folder, codice_regione, n_runs))"
   ]
  },
  {
   "cell_type": "code",
   "execution_count": 65,
   "metadata": {},
   "outputs": [
    {
     "data": {
      "image/png": "[encoded data removed]",
      "text/plain": [
       "<Figure size 432x288 with 1 Axes>"
      ]
     },
     "metadata": {
      "needs_background": "light"
     },
     "output_type": "display_data"
    }
   ],
   "source": [
    "comp = 'new_H'\n",
    "\n",
    "ddf = pd.DataFrame(0, index=np.arange(t_stop), columns=np.arange(n_runs))\n",
    "for variant in variants:\n",
    "    for past in past_infection[variant]:\n",
    "        for status_vax in stati_vax:\n",
    "            strain = past+variant+'_'+status_vax\n",
    "            ddf += out[comp][strain].copy()\n",
    "\n",
    "ddf = add_median_CI(ddf)\n",
    "ddf['time'] = calendar.iloc[:t_stop]\n",
    "\n",
    "plt.plot(ddf['median'])\n",
    "plt.fill_between(ddf.index, ddf['p1'].values, ddf['p2'].values,color='tab:blue', alpha=0.3)  \n",
    "plt.scatter(H_adm_cut.index, H_adm_cut['hosp_pred'], color='black', alpha=0.5)\n",
    "plt.plot(H_adm_cut.index, H_adm_cut['hosp_pred'].rolling(window=7).mean(), color='black', alpha=0.5)\n",
    "\n",
    "plt.show()"
   ]
  },
  {
   "cell_type": "markdown",
   "metadata": {},
   "source": [
    "# extract configuration"
   ]
  },
  {
   "cell_type": "code",
   "execution_count": 74,
   "metadata": {},
   "outputs": [],
   "source": [
    "import warnings\n",
    "\n",
    "warnings.simplefilter(action='ignore', category=pd.errors.PerformanceWarning)"
   ]
  },
  {
   "cell_type": "code",
   "execution_count": 75,
   "metadata": {},
   "outputs": [],
   "source": [
    "ddf = pd.DataFrame({})\n",
    "for kk in out['prev_comp'].keys():\n",
    "    ddf[kk] = add_median_CI(out['prev_comp'][kk])['median']\n",
    "    \n",
    "ddf['time'] = calendar.iloc[:t_stop]\n",
    "\n",
    "ddf.to_csv('{}/{}_{}_scenario_{}_runs{}.csv'.format(folder, 'median-prevalence-config', \n",
    "                                                       reg, 'fit', n_runs), index=False)"
   ]
  },
  {
   "cell_type": "code",
   "execution_count": 76,
   "metadata": {},
   "outputs": [
    {
     "data": {
      "text/plain": [
       "array(['2022-01-09', '2022-01-10', '2022-01-11', '2022-01-12',\n",
       "       '2022-01-13', '2022-01-14', '2022-01-15', '2022-01-16',\n",
       "       '2022-01-17', '2022-01-18', '2022-01-19', '2022-01-20',\n",
       "       '2022-01-21', '2022-01-22', '2022-01-23', '2022-01-24',\n",
       "       '2022-01-25', '2022-01-26', '2022-01-27', '2022-01-28',\n",
       "       '2022-01-29', '2022-01-30', '2022-01-31', '2022-02-01',\n",
       "       '2022-02-02', '2022-02-03', '2022-02-04', '2022-02-05',\n",
       "       '2022-02-06', '2022-02-07'], dtype=object)"
      ]
     },
     "execution_count": 76,
     "metadata": {},
     "output_type": "execute_result"
    }
   ],
   "source": [
    "days_to_extract = calendar[calendar[0]>='2022-01-09'][:30][0].apply(lambda x: x.strftime('%Y-%m-%d')).values\n",
    "days_to_extract"
   ]
  },
  {
   "cell_type": "code",
   "execution_count": 77,
   "metadata": {},
   "outputs": [],
   "source": [
    "for day in days_to_extract:\n",
    "    \n",
    "    res = {}\n",
    "    for kk in out['prev_comp'].keys():\n",
    "        res[kk] = out['prev_comp'][kk].iloc[calendar[calendar[0]==day].index[0]]\n",
    "    \n",
    "    pd.DataFrame(res).to_csv('./{}/config_{}.csv'.format(folder,day), index=False)"
   ]
  }
 ],
 "metadata": {
  "kernelspec": {
   "display_name": "Python [conda env:old_pandas]",
   "language": "python",
   "name": "conda-env-old_pandas-py"
  },
  "language_info": {
   "codemirror_mode": {
    "name": "ipython",
    "version": 3
   },
   "file_extension": ".py",
   "mimetype": "text/x-python",
   "name": "python",
   "nbconvert_exporter": "python",
   "pygments_lexer": "ipython3",
   "version": "3.8.18"
  },
  "toc": {
   "base_numbering": 1,
   "nav_menu": {},
   "number_sections": true,
   "sideBar": true,
   "skip_h1_title": false,
   "title_cell": "Table of Contents",
   "title_sidebar": "Contents",
   "toc_cell": false,
   "toc_position": {
    "height": "calc(100% - 180px)",
    "left": "10px",
    "top": "150px",
    "width": "320px"
   },
   "toc_section_display": true,
   "toc_window_display": true
  }
 },
 "nbformat": 4,
 "nbformat_minor": 2
}
