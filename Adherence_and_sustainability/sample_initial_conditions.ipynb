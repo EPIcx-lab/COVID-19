{
 "cells": [
  {
   "cell_type": "code",
   "execution_count": null,
   "metadata": {},
   "outputs": [],
   "source": [
    "import pandas as pd\n",
    "import numpy as np\n",
    "import scipy.stats as stats  \n",
    "from fitter import Fitter, get_common_distributions, get_distributions"
   ]
  },
  {
   "cell_type": "markdown",
   "metadata": {},
   "source": [
    "### sample initial conditions on Feb 7, 2021 for each run from log gamma distributions"
   ]
  },
  {
   "cell_type": "markdown",
   "metadata": {},
   "source": [
    "We ran 250 independent runs initializing the model at the start of the epidemic in France (early 2020) up to February 2021. We then fitted a log gamma distribution on the prevalence in each compartment reached on Feb 7, 2021 (end of week 5). The parameters of the log gamma distributions were estimated at maximum likelihood. A log gamma distribution was selected as the best distribution in terms of AIC among a set of commonly used distributions.\n",
    "\n",
    "To save computational time, we then re-initialized the model on Feb 7, 2021. For each run, the initial condition for each compartment was sampled from the corresponding log gamma distribution. This procedure allows to initialize the model in February 2021, mantaining the variability associated with the simulated trajectory seeded at the start of the epidemic and progressing throughout 2020."
   ]
  },
  {
   "cell_type": "code",
   "execution_count": null,
   "metadata": {},
   "outputs": [],
   "source": [
    "# input file with paramaters of log gammma distributions for each (non-null) compartment\n",
    "\n",
    "day = '2021-02-07'\n",
    "parameters = pd.read_csv('./input/parameters_loggamma_{}.csv'.format(day),sep=\",\")\n",
    "parameters"
   ]
  },
  {
   "cell_type": "code",
   "execution_count": null,
   "metadata": {},
   "outputs": [],
   "source": [
    "n_runs=250\n",
    "\n",
    "# sample 250 different initial configurations\n",
    "\n",
    "configuration=pd.DataFrame()\n",
    "\n",
    "for comp in parameters.columns: \n",
    "    configuration[comp]=stats.loggamma.rvs(c=parameters[comp][0],loc=parameters[comp][1],scale=parameters[comp][2], size=250)\n",
    "    configuration[comp]=configuration[comp].astype(int)"
   ]
  },
  {
   "cell_type": "code",
   "execution_count": null,
   "metadata": {},
   "outputs": [],
   "source": [
    "# list of names of each compartment\n",
    "col_names_tot = []\n",
    "\n",
    "for age in range(4):\n",
    "    col_names_tot.append('S_no_vax_{}'.format(age))\n",
    "for age in range(4):\n",
    "    col_names_tot.append('S_vax_{}'.format(age))\n",
    "\n",
    "for strain in ['wild', 'VOC', 'wild_vax', 'VOC_vax']:\n",
    "    for age in range(4):\n",
    "        col_names_tot.append('E_{}_{}'.format(strain,age))\n",
    "for strain in ['wild', 'VOC', 'wild_vax', 'VOC_vax']:\n",
    "    for age in range(4):\n",
    "        col_names_tot.append('I_p_{}_{}'.format(strain,age))\n",
    "for strain in ['wild', 'VOC', 'wild_vax', 'VOC_vax']:\n",
    "    for age in range(4):\n",
    "        col_names_tot.append('I_as_{}_{}'.format(strain,age))\n",
    "for strain in ['wild', 'VOC', 'wild_vax', 'VOC_vax']:\n",
    "    for age in range(4):\n",
    "        col_names_tot.append('I_ps_{}_{}'.format(strain,age))\n",
    "for strain in ['wild', 'VOC', 'wild_vax', 'VOC_vax']:\n",
    "    for age in range(4):\n",
    "        col_names_tot.append('I_ms_{}_{}'.format(strain,age))\n",
    "for strain in ['wild', 'VOC', 'wild_vax', 'VOC_vax']:\n",
    "    for age in range(4):\n",
    "        col_names_tot.append('I_ss_{}_{}'.format(strain,age))\n",
    "for strain in ['wild', 'VOC', 'wild_vax', 'VOC_vax']:\n",
    "    for age in range(4):\n",
    "        col_names_tot.append('H_{}_{}'.format(strain,age))\n",
    "for strain in ['wild', 'VOC', 'wild_vax', 'VOC_vax']:\n",
    "    for age in range(4):\n",
    "        col_names_tot.append('R_{}_{}'.format(strain,age))"
   ]
  },
  {
   "cell_type": "code",
   "execution_count": null,
   "metadata": {},
   "outputs": [],
   "source": [
    "# add compartments with 0 individuals\n",
    "for cc in col_names_tot:\n",
    "    if cc not in configuration.columns:\n",
    "        configuration[cc] = np.zeros(250)\n",
    "    \n",
    "configuration = configuration[col_names_tot]\n",
    "configuration"
   ]
  },
  {
   "cell_type": "code",
   "execution_count": null,
   "metadata": {},
   "outputs": [],
   "source": [
    "# population of IDF\n",
    "N_c = 1590000   # young children\n",
    "N_t = 1550000   # adolescents\n",
    "N_a = 7250000   # adults\n",
    "N_s = 1890000   # seniors"
   ]
  },
  {
   "cell_type": "code",
   "execution_count": null,
   "metadata": {},
   "outputs": [],
   "source": [
    "# adjust number of individuals in S_no_vax so that sum of all compartments matches the target population\n",
    "start_comp=8\n",
    "jump=4\n",
    "\n",
    "c2=configuration.iloc[0:,start_comp::jump]\n",
    "configuration['S_no_vax_0']=int(N_c)-c2[configuration.iloc[0:,start_comp::jump].columns].sum(axis=1)\n",
    "\n",
    "c2=configuration.iloc[0:,start_comp+1::jump]\n",
    "configuration['S_no_vax_1']=int(N_t)-c2[configuration.iloc[0:,start_comp+1::jump].columns].sum(axis=1)\n",
    "\n",
    "c2=configuration.iloc[0:,start_comp+2::jump]\n",
    "configuration['S_no_vax_2']=int(N_a)-c2[configuration.iloc[0:,start_comp+2::jump].columns].sum(axis=1)\n",
    "\n",
    "c2=configuration.iloc[0:,start_comp+3::jump]\n",
    "configuration['S_no_vax_3']=int(N_s)-c2[configuration.iloc[0:,start_comp+3::jump].columns].sum(axis=1)"
   ]
  },
  {
   "cell_type": "code",
   "execution_count": null,
   "metadata": {},
   "outputs": [],
   "source": [
    "#save results\n",
    "\n",
    "configuration.to_csv('./input/configuration_loggamma_{}.csv'.format(day), index=False)"
   ]
  }
 ],
 "metadata": {
  "kernelspec": {
   "display_name": "Python 3",
   "language": "python",
   "name": "python3"
  },
  "language_info": {
   "codemirror_mode": {
    "name": "ipython",
    "version": 3
   },
   "file_extension": ".py",
   "mimetype": "text/x-python",
   "name": "python",
   "nbconvert_exporter": "python",
   "pygments_lexer": "ipython3",
   "version": "3.8.5"
  }
 },
 "nbformat": 4,
 "nbformat_minor": 2
}
